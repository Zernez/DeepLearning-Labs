{
  "nbformat": 4,
  "nbformat_minor": 0,
  "metadata": {
    "colab": {
      "provenance": []
    },
    "kernelspec": {
      "name": "python3",
      "display_name": "Python 3"
    },
    "language_info": {
      "name": "python"
    },
    "accelerator": "GPU"
  },
  "cells": [
    {
      "cell_type": "markdown",
      "source": [
        "While using the GPU has some very tangible benefits in terms of execution speed of our code, combining CPU and GPU also comes with some further complications. In other words, new and exciting error messages! 😏\n",
        "\n",
        "In this notebook, you will be presented with various simple training setups, which are all failing to run for different reasons. The task in each case is to determine what the cause of the failure is, and fix it.\n",
        "\n",
        "First we need to make sure that you remembered to turn on the GPU:"
      ],
      "metadata": {
        "id": "quAQavmIqevD"
      }
    },
    {
      "cell_type": "code",
      "source": [
        "import torch\n",
        "\n",
        "if torch.cuda.is_available():\n",
        "  print('Congrats, you have a gpu :)')\n",
        "else:\n",
        "  print('Woups, please go go into edit -> notebook settings and give yourself some hardware acceleration')"
      ],
      "metadata": {
        "colab": {
          "base_uri": "https://localhost:8080/"
        },
        "id": "wlSSxSMsqeMR",
        "outputId": "8f50e9c3-07b8-43ed-bc59-a4a9da3a9ce3"
      },
      "execution_count": 1,
      "outputs": [
        {
          "output_type": "stream",
          "name": "stdout",
          "text": [
            "Congrats, you have a gpu :)\n"
          ]
        }
      ]
    },
    {
      "cell_type": "markdown",
      "source": [
        "In our example today, Alice has a small, working bit of pytorch code.\n",
        "However, yesterday was Alice's birthday, and Bob gave her a shiny new GPU. So, today, Alice wants to upgrade her code to take advantage of her new hardware.\n",
        "\n",
        "This is what Alice's code looked like before she starting upgrading:"
      ],
      "metadata": {
        "id": "5WNnGRFQs9cj"
      }
    },
    {
      "cell_type": "code",
      "execution_count": 2,
      "metadata": {
        "id": "Sk2fheSrqbS2"
      },
      "outputs": [],
      "source": [
        "#gpu-free code:\n",
        "import torch.nn as nn\n",
        "\n",
        "Xset=torch.utils.data.TensorDataset(torch.rand(1000000,10),torch.rand(1000000,1))\n",
        "trainLoader=torch.utils.data.DataLoader(Xset,batch_size=32)\n",
        "\n",
        "model=nn.Sequential(nn.Linear(10,5),nn.ReLU(),\n",
        "                    nn.Linear(5,1))\n",
        "\n",
        "lossF=nn.functional.huber_loss\n",
        "optimizer=torch.optim.Adam(model.parameters())\n",
        "\n",
        "for xbatch,ybatch in trainLoader:\n",
        "  pred=model(xbatch)\n",
        "  loss=lossF(ybatch,pred)\n",
        "\n",
        "  model.zero_grad()\n",
        "  loss.backward()\n",
        "  optimizer.step()"
      ]
    },
    {
      "cell_type": "markdown",
      "source": [
        "This runs fine.\n",
        "Now alice makes a gpu-device, and moves the calculations there:"
      ],
      "metadata": {
        "id": "XKx29JybzmSB"
      }
    },
    {
      "cell_type": "code",
      "source": [
        "device=torch.device('cuda')\n",
        "\n",
        "model.to(device)\n",
        "optimizer=torch.optim.Adam(model.parameters())\n",
        "\n",
        "nEpochs=10\n",
        "for xbatch,ybatch in trainLoader:\n",
        "\n",
        "  xbatch= xbatch.to(device)\n",
        "  ybatch= ybatch.to(device)\n",
        "\n",
        "  pred=model(xbatch)\n",
        "  loss=lossF(ybatch,pred)\n",
        "\n",
        "  model.zero_grad()\n",
        "  loss.backward()\n",
        "  optimizer.step()"
      ],
      "metadata": {
        "id": "la4P0NLmzlvY"
      },
      "execution_count": 3,
      "outputs": []
    },
    {
      "cell_type": "markdown",
      "source": [
        "Task 1:\n",
        "Get the code above to run, on the GPU.\n",
        "\n",
        "Having solved the first hurdle, Alice decides to further upgrade the model with an extra offset:"
      ],
      "metadata": {
        "id": "V_Vcsj9i0wTz"
      }
    },
    {
      "cell_type": "code",
      "source": [
        "class aliceModel(nn.Module):\n",
        "  def __init__(self):\n",
        "    super().__init__()\n",
        "    self.layer1=nn.Linear(10,5)\n",
        "    self.layer2=nn.Linear(5,1)\n",
        "\n",
        "    self.extraOffset=torch.rand((1,5),requires_grad=True)\n",
        "\n",
        "  def forward(self,x):\n",
        "    x=self.layer1(x)+self.extraOffset.to(x.device)\n",
        "    x=nn.functional.relu(x)\n",
        "    x=self.layer2(x)\n",
        "    x=nn.functional.relu(x)\n",
        "\n",
        "    return x\n",
        "\n",
        "#test:\n",
        "net=aliceModel()\n",
        "net(torch.rand((5,10)));"
      ],
      "metadata": {
        "id": "0QD2dd28C2-c"
      },
      "execution_count": 4,
      "outputs": []
    },
    {
      "cell_type": "markdown",
      "source": [
        "However, when she now runs her training loop:"
      ],
      "metadata": {
        "id": "fRr-mPEyF5cX"
      }
    },
    {
      "cell_type": "code",
      "source": [
        "model=aliceModel()\n",
        "model.to(device)\n",
        "optimizer=torch.optim.Adam(model.parameters())\n",
        "\n",
        "for xbatch,ybatch in trainLoader:\n",
        "  xbatch=xbatch.to(device)\n",
        "  ybatch=ybatch.to(device)\n",
        "\n",
        "  pred=model(xbatch)\n",
        "  loss=lossF(ybatch,pred)\n",
        "\n",
        "  model.zero_grad()\n",
        "  loss.backward()\n",
        "  optimizer.step()"
      ],
      "metadata": {
        "id": "mVPJ9seKF5EH"
      },
      "execution_count": 5,
      "outputs": []
    },
    {
      "cell_type": "markdown",
      "source": [
        "Task 2:\n",
        "Solve this new GPU issue\n",
        "\n",
        "Feeling now quite an expert on pytorch and devices, Alice wishes to speed up her training by increasing the batch size. To make sure she doesn't run out of memory, she checks the free memory on the GPU first, and sets the batch accordingly:"
      ],
      "metadata": {
        "id": "jXfwOFgIGQaY"
      }
    },
    {
      "cell_type": "code",
      "source": [
        "t= torch.cuda.get_device_properties(device).total_memory\n",
        "\n",
        "def forward (self,X):\n",
        "  Y = self.net1(X)\n",
        "  for i in range (10):\n",
        "    Y= self.net2()"
      ],
      "metadata": {
        "id": "4bEtZa6jW3Ih"
      },
      "execution_count": 20,
      "outputs": []
    },
    {
      "cell_type": "code",
      "source": [
        "class aliceModel(nn.Module):\n",
        "  def __init__(self):\n",
        "    super().__init__()\n",
        "    self.layer1=nn.Linear(10,5)\n",
        "    self.layer2=nn.Linear(5,1)\n",
        "\n",
        "  def forward(self,x):\n",
        "    x=self.layer1(x)\n",
        "    x=nn.functional.relu(x)\n",
        "    x=self.layer2(x)\n",
        "    x=nn.functional.relu(x)\n",
        "\n",
        "    return x\n",
        "\n",
        "#test:\n",
        "net=aliceModel()\n",
        "net(torch.rand((10,10)));"
      ],
      "metadata": {
        "id": "3q_pcUpCZtnj"
      },
      "execution_count": 21,
      "outputs": []
    },
    {
      "cell_type": "code",
      "source": [
        "from math import floor\n",
        "\n",
        "t = torch.cuda.get_device_properties(device).total_memory\n",
        "print('total memory: ',t/1e6,'mb')\n",
        "\n",
        "batchSize=floor(t/Xset[0][0].element_size()/8) #this is less than half of the space on the GPU\n",
        "print('batch size: ',batchSize/1e6 ,'mb')"
      ],
      "metadata": {
        "colab": {
          "base_uri": "https://localhost:8080/"
        },
        "id": "hdttCXnLaLRT",
        "outputId": "66f39acd-66c6-4e7a-e321-6f7f7a1346c9"
      },
      "execution_count": 22,
      "outputs": [
        {
          "output_type": "stream",
          "name": "stdout",
          "text": [
            "total memory:  15835.660288 mb\n",
            "batch size:  494.864384 mb\n"
          ]
        }
      ]
    },
    {
      "cell_type": "code",
      "source": [
        "trainLoader=torch.utils.data.DataLoader(Xset,batch_size=batchSize)\n",
        "\n",
        "model=aliceModel()\n",
        "model.to(device)\n",
        "optimizer=torch.optim.Adam(model.parameters())\n",
        "\n",
        "for xbatch,ybatch in trainLoader:\n",
        "  xbatch=xbatch.to(device)\n",
        "  ybatch=ybatch.to(device)\n",
        "\n",
        "  pred=model(xbatch)\n",
        "  loss=lossF(ybatch,pred)\n",
        "\n",
        "  model.zero_grad()\n",
        "  loss.backward()\n",
        "  optimizer.step()\n",
        "\n",
        "print('Train done')"
      ],
      "metadata": {
        "colab": {
          "base_uri": "https://localhost:8080/"
        },
        "id": "Abvo8-ZsXHbg",
        "outputId": "decc1d61-ba86-456c-d0ba-04fa5f43600b"
      },
      "execution_count": 24,
      "outputs": [
        {
          "output_type": "stream",
          "name": "stdout",
          "text": [
            "Train done\n"
          ]
        }
      ]
    }
  ]
}