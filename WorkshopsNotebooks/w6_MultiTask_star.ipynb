{
  "nbformat": 4,
  "nbformat_minor": 0,
  "metadata": {
    "colab": {
      "provenance": []
    },
    "kernelspec": {
      "name": "python3",
      "display_name": "Python 3"
    },
    "language_info": {
      "name": "python"
    },
    "accelerator": "GPU"
  },
  "cells": [
    {
      "cell_type": "markdown",
      "source": [
        "The task in this notebook is to train a network which, given an image of a star, will calculate both the number of points on the star, as well as its width.\n",
        "\n",
        "Thus this will be a multi-task network, performing two completely different tasks simultaneously.\n"
      ],
      "metadata": {
        "id": "Nx1du__PqMWZ"
      }
    },
    {
      "cell_type": "code",
      "metadata": {
        "id": "_ZOM0MBSTmVL"
      },
      "source": [
        "#%% import stuff:\n",
        "\n",
        "import matplotlib.pyplot as plt\n",
        "import numpy as np\n",
        "import pickle\n",
        "\n",
        "import torch\n",
        "import torch.nn as nn\n",
        "import random\n",
        "from torch.utils.data import Dataset, DataLoader"
      ],
      "execution_count": null,
      "outputs": []
    },
    {
      "cell_type": "markdown",
      "metadata": {
        "id": "xKjDsEy8FjHr"
      },
      "source": [
        "The cell below assumes you have already downloaded the dataset from brightspace, and put it in your google drive folder. It demonstrates how to use google drive together with a colab notebook."
      ]
    },
    {
      "cell_type": "code",
      "metadata": {
        "colab": {
          "base_uri": "https://localhost:8080/"
        },
        "id": "w39eu-buTV55",
        "outputId": "24eddf8f-bfe8-483d-a13f-9a7d6bd7ce26"
      },
      "source": [
        "from google.colab import drive\n",
        "drive.mount('/content/drive', force_remount=True)\n",
        "\n",
        "\n",
        "temp=pickle.load(open('/content/drive/MyDrive/starData.p','rb'))\n",
        "X=temp['X']\n",
        "y=temp['y']\n"
      ],
      "execution_count": null,
      "outputs": [
        {
          "output_type": "stream",
          "name": "stdout",
          "text": [
            "Mounted at /content/drive\n"
          ]
        }
      ]
    },
    {
      "cell_type": "code",
      "metadata": {
        "colab": {
          "base_uri": "https://localhost:8080/",
          "height": 285
        },
        "id": "mu0NWnqR9C-p",
        "outputId": "f2b3037c-e886-4786-9b2d-acbb5002d933"
      },
      "source": [
        "#Let's plot an example\n",
        "idx=125\n",
        "plt.imshow(np.squeeze(X[125,:,:,:],axis=0))\n",
        "print(y[idx,:]) #first column is number of points, second is size of the star"
      ],
      "execution_count": null,
      "outputs": [
        {
          "output_type": "stream",
          "name": "stdout",
          "text": [
            "tensor([5.0000, 3.1239])\n"
          ]
        },
        {
          "output_type": "display_data",
          "data": {
            "text/plain": [
              "<Figure size 432x288 with 1 Axes>"
            ],
            "image/png": "[encoded data removed]"
          },
          "metadata": {
            "needs_background": "light"
          }
        }
      ]
    },
    {
      "cell_type": "code",
      "metadata": {
        "id": "14iffVhhTkWY"
      },
      "source": [
        "#%% make datasets & loaders\n",
        "\n",
        "#split in val and train:\n",
        "nData=X.shape[0]\n",
        "nVal=300\n",
        "valIdx=range(nVal)\n",
        "trainIdx=range(nVal+1,nData)\n",
        "\n",
        "#datasets:\n",
        "trainDataset=torch.utils.data.TensorDataset(X[trainIdx,:,:,:],y[trainIdx,:])\n",
        "valDataset=torch.utils.data.TensorDataset(X[valIdx,:,:,:],y[valIdx,:])\n",
        "\n",
        "#dataloaders:\n",
        "trainLoader=torch.utils.data.DataLoader(trainDataset,batch_size=32,shuffle=True)\n",
        "valLoader=torch.utils.data.DataLoader(valDataset,batch_size=32,shuffle=True)"
      ],
      "execution_count": null,
      "outputs": []
    },
    {
      "cell_type": "code",
      "metadata": {
        "id": "6HtnbXn0NXyj",
        "colab": {
          "base_uri": "https://localhost:8080/"
        },
        "outputId": "5d3d3617-6770-48f9-c9b2-99bbff2ca275"
      },
      "source": [
        "#%% make network\n",
        "\n",
        "#something simple like cnn-cnn-fc-relu-fc will do\n",
        "\n",
        "import torch.nn as nn\n",
        "import torch.nn.functional as F\n",
        "\n",
        "num_classes= 10\n",
        "\n",
        "class Net(nn.Module):\n",
        "    def __init__(self):\n",
        "        super().__init__()\n",
        "        self.cnn1=nn.Conv2d(in_channels=1,out_channels=1,kernel_size=5,stride=1,padding=2)\n",
        "        self.cnn2=nn.Conv2d(in_channels=1,out_channels=1,kernel_size=5,stride=2,padding=2)\n",
        "\n",
        "        self.fc1=nn.Linear(50*50, 80, bias=True)\n",
        "        self.leakRelu1=nn.LeakyReLU()\n",
        "        self.fc2=nn.Linear(80, 2, bias=True)\n",
        "        self.leakRelu2=nn.LeakyReLU()\n",
        "\n",
        "    def forward(self,x):\n",
        "        x=self.cnn1(x)\n",
        "        x=self.cnn2(x)\n",
        "        x=torch.reshape(x,(-1,50*50))\n",
        "        x=self.fc1(x)\n",
        "        x=self.leakRelu1(x)\n",
        "        x=self.fc2(x)\n",
        "        return x\n",
        "\n",
        "net = Net()\n",
        "print(net)\n",
        "\n",
        "#testing:\n",
        "testData=torch.rand((1,1,100,100))\n",
        "testNet=Net()\n",
        "testNet.forward(testData)"
      ],
      "execution_count": null,
      "outputs": [
        {
          "output_type": "stream",
          "name": "stdout",
          "text": [
            "Net(\n",
            "  (cnn1): Conv2d(1, 1, kernel_size=(5, 5), stride=(1, 1), padding=(2, 2))\n",
            "  (cnn2): Conv2d(1, 1, kernel_size=(5, 5), stride=(2, 2), padding=(2, 2))\n",
            "  (fc1): Linear(in_features=2500, out_features=80, bias=True)\n",
            "  (leakRelu1): LeakyReLU(negative_slope=0.01)\n",
            "  (fc2): Linear(in_features=80, out_features=2, bias=True)\n",
            "  (leakRelu2): LeakyReLU(negative_slope=0.01)\n",
            ")\n"
          ]
        },
        {
          "output_type": "execute_result",
          "data": {
            "text/plain": [
              "tensor([[-0.0065,  0.0259]], grad_fn=<AddmmBackward0>)"
            ]
          },
          "metadata": {},
          "execution_count": 13
        }
      ]
    },
    {
      "cell_type": "code",
      "metadata": {
        "id": "kCUFfJsFN7op"
      },
      "source": [
        "#%% define loss'es\n",
        "loss1=nn.SmoothL1Loss(reduction='sum',beta=0.05)\n",
        "loss2=nn.SmoothL1Loss(reduction='sum',beta=0.05)\n",
        "loss_fn = lambda pred,target : 0.5*loss1(pred[:,0],target[:,0].float())+0.5*loss2(pred[:,1],target[:,1])"
      ],
      "execution_count": null,
      "outputs": []
    },
    {
      "cell_type": "code",
      "metadata": {
        "id": "gOCTOuj3FR0X",
        "colab": {
          "base_uri": "https://localhost:8080/",
          "height": 1000
        },
        "outputId": "bd3fc205-a90c-4583-ed2e-90d36f24f7a2"
      },
      "source": [
        "#%% train & validate\n",
        "\n",
        "nEpoch= 30\n",
        "\n",
        "net=Net()\n",
        "optimizer= torch.optim.Adam(net.parameters())\n",
        "\n",
        "\n",
        "# equivalently, define the loss as a usual function object instead of a lambda function\n",
        "def loss_equivalent(pred, target):\n",
        "  loss = loss1(pred[:,0],target[:,0].float())\n",
        "  loss += loss2(pred[:,1],target[:,1])\n",
        "  return 0.5*loss\n",
        "\n",
        "for iEpoch in range(nEpoch):\n",
        "    print(iEpoch)\n",
        "    totLoss=0\n",
        "    for xbatch,ybatch in trainLoader:\n",
        "\n",
        "        ypred=net(xbatch)\n",
        "        loss = loss_fn(ypred,ybatch)\n",
        "        totLoss+=loss\n",
        "        net.zero_grad()\n",
        "\n",
        "        loss.backward()\n",
        "\n",
        "        optimizer.step()\n",
        "\n",
        "    print(totLoss/len(trainLoader))\n",
        "\n",
        "    for xbatch,ybatch in valLoader:\n",
        "\n",
        "        ypred=net(xbatch)\n",
        "        loss = loss_fn(ypred,ybatch)\n",
        "        totLoss+=loss\n",
        "\n",
        "    print(totLoss/len(trainLoader))\n",
        "\n",
        "\n",
        "trainy=np.zeros((0,2))\n",
        "trainRes=np.zeros((0,2))\n",
        "\n",
        "for xbatch,ybatch in trainLoader:\n",
        "\n",
        "        ypred=net(xbatch)\n",
        "        trainRes=np.concatenate((trainRes,ypred.detach().numpy()),axis=0)\n",
        "        trainy=np.concatenate((trainy,ybatch.detach().numpy()),axis=0)\n",
        "\n",
        "valy=np.zeros((0,2))\n",
        "valRes=np.zeros((0,2))\n",
        "\n",
        "for xbatch,ybatch in valLoader:\n",
        "\n",
        "        ypred=net(xbatch)\n",
        "        valRes=np.concatenate((valRes,ypred.detach().numpy()),axis=0)\n",
        "        valy=np.concatenate((valy,ybatch.detach().numpy()),axis=0)\n",
        "\n",
        "\n",
        "plt.close('all')\n",
        "plt.plot(trainy,trainRes,'*')\n",
        "\n",
        "plt.figure()\n",
        "plt.plot(valy,valRes,'*')\n",
        "\n",
        "\n"
      ],
      "execution_count": null,
      "outputs": [
        {
          "output_type": "stream",
          "name": "stdout",
          "text": [
            "0\n",
            "tensor(1039.4407, grad_fn=<DivBackward0>)\n",
            "tensor(1051.9120, grad_fn=<DivBackward0>)\n",
            "1\n",
            "tensor(42.5577, grad_fn=<DivBackward0>)\n",
            "tensor(51.9593, grad_fn=<DivBackward0>)\n",
            "2\n",
            "tensor(43.5128, grad_fn=<DivBackward0>)\n",
            "tensor(50.4492, grad_fn=<DivBackward0>)\n",
            "3\n",
            "tensor(30.8851, grad_fn=<DivBackward0>)\n",
            "tensor(36.0781, grad_fn=<DivBackward0>)\n",
            "4\n",
            "tensor(29.1212, grad_fn=<DivBackward0>)\n",
            "tensor(34.4837, grad_fn=<DivBackward0>)\n",
            "5\n",
            "tensor(29.8853, grad_fn=<DivBackward0>)\n",
            "tensor(34.7459, grad_fn=<DivBackward0>)\n",
            "6\n",
            "tensor(30.4229, grad_fn=<DivBackward0>)\n",
            "tensor(38.3696, grad_fn=<DivBackward0>)\n",
            "7\n",
            "tensor(29.6243, grad_fn=<DivBackward0>)\n",
            "tensor(34.5768, grad_fn=<DivBackward0>)\n",
            "8\n",
            "tensor(26.5014, grad_fn=<DivBackward0>)\n",
            "tensor(32.1841, grad_fn=<DivBackward0>)\n",
            "9\n",
            "tensor(25.6595, grad_fn=<DivBackward0>)\n",
            "tensor(30.3587, grad_fn=<DivBackward0>)\n",
            "10\n",
            "tensor(26.9964, grad_fn=<DivBackward0>)\n",
            "tensor(33.4326, grad_fn=<DivBackward0>)\n",
            "11\n",
            "tensor(27.8116, grad_fn=<DivBackward0>)\n",
            "tensor(33.2707, grad_fn=<DivBackward0>)\n",
            "12\n",
            "tensor(24.5062, grad_fn=<DivBackward0>)\n",
            "tensor(28.7702, grad_fn=<DivBackward0>)\n",
            "13\n",
            "tensor(22.9589, grad_fn=<DivBackward0>)\n",
            "tensor(27.6780, grad_fn=<DivBackward0>)\n",
            "14\n",
            "tensor(23.1750, grad_fn=<DivBackward0>)\n",
            "tensor(29.1187, grad_fn=<DivBackward0>)\n",
            "15\n",
            "tensor(24.2852, grad_fn=<DivBackward0>)\n",
            "tensor(28.8278, grad_fn=<DivBackward0>)\n",
            "16\n",
            "tensor(21.2269, grad_fn=<DivBackward0>)\n",
            "tensor(25.1377, grad_fn=<DivBackward0>)\n",
            "17\n",
            "tensor(21.0440, grad_fn=<DivBackward0>)\n",
            "tensor(25.2301, grad_fn=<DivBackward0>)\n",
            "18\n",
            "tensor(20.3421, grad_fn=<DivBackward0>)\n",
            "tensor(24.4244, grad_fn=<DivBackward0>)\n",
            "19\n",
            "tensor(20.3063, grad_fn=<DivBackward0>)\n",
            "tensor(24.0703, grad_fn=<DivBackward0>)\n",
            "20\n",
            "tensor(19.0769, grad_fn=<DivBackward0>)\n",
            "tensor(23.3295, grad_fn=<DivBackward0>)\n",
            "21\n",
            "tensor(21.5644, grad_fn=<DivBackward0>)\n",
            "tensor(25.8049, grad_fn=<DivBackward0>)\n",
            "22\n",
            "tensor(19.3474, grad_fn=<DivBackward0>)\n",
            "tensor(23.1753, grad_fn=<DivBackward0>)\n",
            "23\n",
            "tensor(20.2090, grad_fn=<DivBackward0>)\n",
            "tensor(24.6189, grad_fn=<DivBackward0>)\n",
            "24\n",
            "tensor(19.1178, grad_fn=<DivBackward0>)\n",
            "tensor(22.5725, grad_fn=<DivBackward0>)\n",
            "25\n",
            "tensor(18.6306, grad_fn=<DivBackward0>)\n",
            "tensor(22.3286, grad_fn=<DivBackward0>)\n",
            "26\n",
            "tensor(17.7047, grad_fn=<DivBackward0>)\n",
            "tensor(21.4086, grad_fn=<DivBackward0>)\n",
            "27\n",
            "tensor(18.0863, grad_fn=<DivBackward0>)\n",
            "tensor(21.7332, grad_fn=<DivBackward0>)\n",
            "28\n",
            "tensor(18.3075, grad_fn=<DivBackward0>)\n",
            "tensor(22.6325, grad_fn=<DivBackward0>)\n",
            "29\n",
            "tensor(17.6215, grad_fn=<DivBackward0>)\n",
            "tensor(21.0024, grad_fn=<DivBackward0>)\n"
          ]
        },
        {
          "output_type": "execute_result",
          "data": {
            "text/plain": [
              "[<matplotlib.lines.Line2D at 0x7f01090f24d0>,\n",
              " <matplotlib.lines.Line2D at 0x7f0109cd3f10>]"
            ]
          },
          "metadata": {},
          "execution_count": 15
        },
        {
          "output_type": "display_data",
          "data": {
            "text/plain": [
              "<Figure size 432x288 with 1 Axes>"
            ],
            "image/png": "[encoded data removed]"
          },
          "metadata": {
            "needs_background": "light"
          }
        },
        {
          "output_type": "display_data",
          "data": {
            "text/plain": [
              "<Figure size 432x288 with 1 Axes>"
            ],
            "image/png": "[encoded data removed]"
          },
          "metadata": {
            "needs_background": "light"
          }
        }
      ]
    },
    {
      "cell_type": "markdown",
      "source": [
        "#evaluate\n",
        "\n",
        "try plotting predictions vs. targets for both training data and validation data in a scatterplot, and see how much variation you've captured"
      ],
      "metadata": {
        "id": "3k9GN4L3llFQ"
      }
    }
  ]
}