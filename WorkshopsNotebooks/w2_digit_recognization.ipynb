{
  "nbformat": 4,
  "nbformat_minor": 0,
  "metadata": {
    "colab": {
      "provenance": []
    },
    "kernelspec": {
      "name": "python3",
      "display_name": "Python 3"
    },
    "language_info": {
      "name": "python"
    }
  },
  "cells": [
    {
      "cell_type": "code",
      "metadata": {
        "id": "t6fw5i94caKp"
      },
      "source": [
        "import os\n",
        "import torch\n",
        "import sklearn.model_selection\n",
        "from torch import nn\n",
        "import numpy as np"
      ],
      "execution_count": null,
      "outputs": []
    },
    {
      "cell_type": "code",
      "metadata": {
        "id": "DVPxZ9DpfgQd"
      },
      "source": [
        "from mlxtend.data import mnist_data\n",
        "X, y = mnist_data()\n",
        "\n",
        "\n",
        "keep=(y==0) | (y==1)\n",
        "X=X[keep,:]\n",
        "y=y[keep]\n",
        "\n",
        "Xtrain,Xtest,ytrain,ytest=sklearn.model_selection.train_test_split(X,y,test_size=0.3,shuffle=True)\n",
        "\n",
        "\n",
        "trainDataset=torch.utils.data.TensorDataset(torch.tensor(Xtrain).float(),torch.tensor(ytrain).float())\n",
        "testDataset=torch.utils.data.TensorDataset(torch.tensor(Xtest).float(),torch.tensor(ytest).float())\n"
      ],
      "execution_count": null,
      "outputs": []
    },
    {
      "cell_type": "code",
      "metadata": {
        "colab": {
          "base_uri": "https://localhost:8080/"
        },
        "id": "bI-g-JTkfiRp",
        "outputId": "b7490c08-2f12-4677-916c-40519bbbd8e8"
      },
      "source": [
        "class logRegression(nn.Module):\n",
        "    def __init__(self):\n",
        "        super(logRegression, self).__init__()\n",
        "        self.inputLayer=nn.Linear(784, 1, bias=True)\n",
        "\n",
        "    def forward(self,x):\n",
        "      x=self.inputLayer(x)\n",
        "      x=torch.sigmoid(x)\n",
        "\n",
        "      return torch.squeeze(x)\n",
        "\n",
        "testData=torch.rand((20,784))\n",
        "testNet=logRegression()\n",
        "testNet.forward(testData)"
      ],
      "execution_count": null,
      "outputs": [
        {
          "output_type": "execute_result",
          "data": {
            "text/plain": [
              "tensor([0.6139, 0.6129, 0.5125, 0.5988, 0.5469, 0.6298, 0.5160, 0.5630, 0.5711,\n",
              "        0.5835, 0.5004, 0.5742, 0.5672, 0.5354, 0.5228, 0.5715, 0.5580, 0.5678,\n",
              "        0.5784, 0.5489], grad_fn=<SqueezeBackward0>)"
            ]
          },
          "metadata": {},
          "execution_count": 40
        }
      ]
    },
    {
      "cell_type": "code",
      "metadata": {
        "id": "qJXIks-tqDx2",
        "colab": {
          "base_uri": "https://localhost:8080/"
        },
        "outputId": "1b0b266d-13b1-4c54-996c-1d465e32ca56"
      },
      "source": [
        "class logRegression(nn.Module):\n",
        "    def __init__(self):\n",
        "        super(logRegression, self).__init__()\n",
        "        self.inputLayer=nn.Linear(784, 1, bias=True)\n",
        "\n",
        "    def forward(self,x):\n",
        "      x=self.inputLayer(x)\n",
        "      m=nn.Softmax(dim=1)\n",
        "      x= m(x)\n",
        "\n",
        "      return torch.squeeze(x)\n",
        "\n",
        "testData=torch.rand((20,784))\n",
        "testNet=logRegression()\n",
        "testNet.forward(testData)"
      ],
      "execution_count": null,
      "outputs": [
        {
          "output_type": "execute_result",
          "data": {
            "text/plain": [
              "tensor([1., 1., 1., 1., 1., 1., 1., 1., 1., 1., 1., 1., 1., 1., 1., 1., 1., 1.,\n",
              "        1., 1.], grad_fn=<SqueezeBackward0>)"
            ]
          },
          "metadata": {},
          "execution_count": 3
        }
      ]
    },
    {
      "cell_type": "code",
      "metadata": {
        "colab": {
          "base_uri": "https://localhost:8080/"
        },
        "id": "KeRt8e8EsgKQ",
        "outputId": "c094a347-7000-4c2d-f04f-349745a309df"
      },
      "source": [
        "nEpoch=10\n",
        "learningRate=0.001\n",
        "batchSize=64\n",
        "\n",
        "trainDataLoader=torch.utils.data.DataLoader(trainDataset,batch_size=batchSize,shuffle=True)\n",
        "\n",
        "model=logRegression()\n",
        "\n",
        "optimizer = torch.optim.SGD(model.parameters(), lr=learningRate)\n",
        "\n",
        "loss_fn=nn.BCELoss()\n",
        "\n",
        "accuracy=np.zeros(nEpoch)\n",
        "for iEpoch in range(nEpoch):\n",
        "  estimatedLabels=np.empty((0,))\n",
        "  trueLabels=np.empty((0,))\n",
        "  for xbatch,ybatch in trainDataLoader:\n",
        "    y_pred=model(xbatch)\n",
        "\n",
        "    loss = loss_fn(y_pred,ybatch)\n",
        "\n",
        "    model.zero_grad()\n",
        "\n",
        "    loss.backward()\n",
        "\n",
        "    optimizer.step()\n",
        "\n",
        "\n",
        "    yhat=y_pred>.5\n",
        "    estimatedLabels=np.append(estimatedLabels,yhat)\n",
        "    trueLabels=np.append(trueLabels,ybatch)\n",
        "  accuracy[iEpoch]=np.mean(estimatedLabels==trueLabels)\n",
        "\n",
        "accuracy"
      ],
      "execution_count": null,
      "outputs": [
        {
          "output_type": "execute_result",
          "data": {
            "text/plain": [
              "array([0.50142857, 0.50142857, 0.50142857, 0.50142857, 0.50142857,\n",
              "       0.50142857, 0.50142857, 0.50142857, 0.50142857, 0.50142857])"
            ]
          },
          "metadata": {},
          "execution_count": 25
        }
      ]
    },
    {
      "cell_type": "code",
      "source": [],
      "metadata": {
        "id": "lkzpC0nCLykr"
      },
      "execution_count": null,
      "outputs": []
    },
    {
      "cell_type": "code",
      "metadata": {
        "colab": {
          "base_uri": "https://localhost:8080/"
        },
        "outputId": "f38353fd-bb69-4cc8-c9fc-c5ba63f447de",
        "id": "Jjc22OZ1L0ZO"
      },
      "source": [
        "nEpoch=10\n",
        "learningRate=0.001\n",
        "batchSize=64\n",
        "\n",
        "trainDataLoader=torch.utils.data.DataLoader(trainDataset,batch_size=batchSize,shuffle=True)\n",
        "\n",
        "model=nn.Sequential(\n",
        "    nn.Linear(784, 128),\n",
        "    nn.ReLU(),\n",
        "    nn.Linear(128,10),\n",
        "    nn.Softmax(dim=1)\n",
        "  )\n",
        "\n",
        "optimizer = torch.optim.Adam(model.parameters(), lr=learningRate)\n",
        "\n",
        "# loss_fn=nn.BCELoss()\n",
        "loss_fn=nn.NLLLoss()\n",
        "\n",
        "accuracy=np.zeros(nEpoch)\n",
        "for iEpoch in range(nEpoch):\n",
        "  estimatedLabels=np.empty((0,))\n",
        "  trueLabels=np.empty((0,))\n",
        "  for xbatch,ybatch in trainDataLoader:\n",
        "    y_pred=model(xbatch)\n",
        "\n",
        "    # ybatch = nn.functional.one_hot(ybatch.long(), num_classes= 10)\n",
        "\n",
        "    ybatch= ybatch.long()\n",
        "\n",
        "    loss = loss_fn(y_pred,ybatch)\n",
        "\n",
        "    model.zero_grad()\n",
        "\n",
        "    loss.backward()\n",
        "\n",
        "    optimizer.step()\n",
        "\n",
        "\n",
        "    yhat= y_pred.argmax(1)\n",
        "    estimatedLabels=np.append(estimatedLabels,yhat)\n",
        "    trueLabels=np.append(trueLabels,ybatch)\n",
        "  accuracy[iEpoch]=np.mean(estimatedLabels==trueLabels)\n",
        "\n",
        "accuracy"
      ],
      "execution_count": null,
      "outputs": [
        {
          "output_type": "execute_result",
          "data": {
            "text/plain": [
              "array([0.61285714, 0.98142857, 0.99142857, 0.99      , 0.98857143,\n",
              "       0.98857143, 0.99      , 0.99142857, 0.99142857, 0.99571429])"
            ]
          },
          "metadata": {},
          "execution_count": 48
        }
      ]
    },
    {
      "cell_type": "code",
      "metadata": {
        "colab": {
          "base_uri": "https://localhost:8080/"
        },
        "id": "Qbl0c1_s1MpT",
        "outputId": "a46a9d8d-434e-4f9d-d972-c92e1136ed00"
      },
      "source": [
        "#test performance:\n",
        "testDataLoader=torch.utils.data.DataLoader(testDataset,batch_size=batchSize,shuffle=True)\n",
        "\n",
        "estimatedLabels=np.empty((0,))\n",
        "trueLabels=np.empty((0,))\n",
        "for xbatch,ybatch in testDataLoader:\n",
        "    y_pred=model(xbatch)\n",
        "\n",
        "\n",
        "    # yhat=y_pred>.5\n",
        "    yhat= y_pred.argmax(1)\n",
        "    estimatedLabels=np.append(estimatedLabels,yhat)\n",
        "    trueLabels=np.append(trueLabels,ybatch)\n",
        "\n",
        "testAcc=np.mean(estimatedLabels==trueLabels)\n",
        "print(testAcc)"
      ],
      "execution_count": null,
      "outputs": [
        {
          "output_type": "stream",
          "name": "stdout",
          "text": [
            "1.0\n"
          ]
        }
      ]
    }
  ]
}