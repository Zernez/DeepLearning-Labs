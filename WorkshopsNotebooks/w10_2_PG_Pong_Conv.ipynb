{
  "cells": [
    {
      "cell_type": "markdown",
      "id": "ec1a5c46-4b01-4a21-97f1-adbf3867f001",
      "metadata": {
        "id": "ec1a5c46-4b01-4a21-97f1-adbf3867f001"
      },
      "source": [
        "# PyTorch policy gradient example at openai-gym pong\n",
        "**Reference**\n",
        "1. Karpathy pg-pong.py: https://gist.github.com/karpathy/a4166c7fe253700972fcbc77e4ea32c5\n",
        "2. PyTorch official example: https://github.com/pytorch/examples/blob/master/reinforcement_learning/reinforce.py\n",
        "\n",
        "\n",
        "In this exercise, your will implement Policy Gradient on Pong. Go through the code-blocks and notice, what happens. The exercise description is at the bottom of the notebook.\n"
      ]
    },
    {
      "cell_type": "markdown",
      "id": "fbf4898d-1b3f-472e-9503-1e6cd38e3468",
      "metadata": {
        "id": "fbf4898d-1b3f-472e-9503-1e6cd38e3468"
      },
      "source": [
        "### Imports"
      ]
    },
    {
      "cell_type": "code",
      "source": [
        "!pip install gym[atari]\n",
        "!pip install gym[accept-rom-license]"
      ],
      "metadata": {
        "colab": {
          "base_uri": "https://localhost:8080/"
        },
        "id": "tx6Ud_v_lHVz",
        "outputId": "f35d3c64-5bb2-4cf6-e6fe-fcfb4ffc9e5a"
      },
      "id": "tx6Ud_v_lHVz",
      "execution_count": 1,
      "outputs": [
        {
          "output_type": "stream",
          "name": "stdout",
          "text": [
            "Requirement already satisfied: gym[atari] in /usr/local/lib/python3.10/dist-packages (0.25.2)\n",
            "Requirement already satisfied: numpy>=1.18.0 in /usr/local/lib/python3.10/dist-packages (from gym[atari]) (1.26.4)\n",
            "Requirement already satisfied: cloudpickle>=1.2.0 in /usr/local/lib/python3.10/dist-packages (from gym[atari]) (2.2.1)\n",
            "Requirement already satisfied: gym-notices>=0.0.4 in /usr/local/lib/python3.10/dist-packages (from gym[atari]) (0.0.8)\n",
            "Requirement already satisfied: ale-py~=0.7.5 in /usr/local/lib/python3.10/dist-packages (from gym[atari]) (0.7.5)\n",
            "Requirement already satisfied: importlib-resources in /usr/local/lib/python3.10/dist-packages (from ale-py~=0.7.5->gym[atari]) (6.4.5)\n",
            "Requirement already satisfied: gym[accept-rom-license] in /usr/local/lib/python3.10/dist-packages (0.25.2)\n",
            "Requirement already satisfied: numpy>=1.18.0 in /usr/local/lib/python3.10/dist-packages (from gym[accept-rom-license]) (1.26.4)\n",
            "Requirement already satisfied: cloudpickle>=1.2.0 in /usr/local/lib/python3.10/dist-packages (from gym[accept-rom-license]) (2.2.1)\n",
            "Requirement already satisfied: gym-notices>=0.0.4 in /usr/local/lib/python3.10/dist-packages (from gym[accept-rom-license]) (0.0.8)\n",
            "Requirement already satisfied: autorom~=0.4.2 in /usr/local/lib/python3.10/dist-packages (from autorom[accept-rom-license]~=0.4.2; extra == \"accept-rom-license\"->gym[accept-rom-license]) (0.4.2)\n",
            "Requirement already satisfied: click in /usr/local/lib/python3.10/dist-packages (from autorom~=0.4.2->autorom[accept-rom-license]~=0.4.2; extra == \"accept-rom-license\"->gym[accept-rom-license]) (8.1.7)\n",
            "Requirement already satisfied: requests in /usr/local/lib/python3.10/dist-packages (from autorom~=0.4.2->autorom[accept-rom-license]~=0.4.2; extra == \"accept-rom-license\"->gym[accept-rom-license]) (2.32.3)\n",
            "Requirement already satisfied: tqdm in /usr/local/lib/python3.10/dist-packages (from autorom~=0.4.2->autorom[accept-rom-license]~=0.4.2; extra == \"accept-rom-license\"->gym[accept-rom-license]) (4.66.5)\n",
            "Requirement already satisfied: AutoROM.accept-rom-license in /usr/local/lib/python3.10/dist-packages (from autorom[accept-rom-license]~=0.4.2; extra == \"accept-rom-license\"->gym[accept-rom-license]) (0.6.1)\n",
            "Requirement already satisfied: charset-normalizer<4,>=2 in /usr/local/lib/python3.10/dist-packages (from requests->autorom~=0.4.2->autorom[accept-rom-license]~=0.4.2; extra == \"accept-rom-license\"->gym[accept-rom-license]) (3.3.2)\n",
            "Requirement already satisfied: idna<4,>=2.5 in /usr/local/lib/python3.10/dist-packages (from requests->autorom~=0.4.2->autorom[accept-rom-license]~=0.4.2; extra == \"accept-rom-license\"->gym[accept-rom-license]) (3.8)\n",
            "Requirement already satisfied: urllib3<3,>=1.21.1 in /usr/local/lib/python3.10/dist-packages (from requests->autorom~=0.4.2->autorom[accept-rom-license]~=0.4.2; extra == \"accept-rom-license\"->gym[accept-rom-license]) (2.0.7)\n",
            "Requirement already satisfied: certifi>=2017.4.17 in /usr/local/lib/python3.10/dist-packages (from requests->autorom~=0.4.2->autorom[accept-rom-license]~=0.4.2; extra == \"accept-rom-license\"->gym[accept-rom-license]) (2024.8.30)\n"
          ]
        }
      ]
    },
    {
      "cell_type": "code",
      "execution_count": 2,
      "id": "b75c2c20-cb8c-43b8-868b-fccc5e617c57",
      "metadata": {
        "id": "b75c2c20-cb8c-43b8-868b-fccc5e617c57"
      },
      "outputs": [],
      "source": [
        "%matplotlib inline\n",
        "import matplotlib.pyplot as plt\n",
        "import os\n",
        "import argparse\n",
        "import gym\n",
        "import numpy as np\n",
        "from itertools import count\n",
        "import matplotlib.pyplot as plt\n",
        "\n",
        "import time\n",
        "import torch\n",
        "import torch.nn as nn\n",
        "import torch.nn.functional as F\n",
        "import torch.optim as optim\n",
        "from torch.autograd import Variable\n",
        "from torch.distributions import Categorical\n",
        "\n",
        "is_cuda = torch.cuda.is_available()\n",
        "\n",
        "device = torch.device('cuda' if torch.cuda.is_available() else 'cpu')\n",
        "#device = torch.device('cpu')"
      ]
    },
    {
      "cell_type": "markdown",
      "id": "85663394-23f7-46e4-9ebe-cf05ee2bfaa5",
      "metadata": {
        "id": "85663394-23f7-46e4-9ebe-cf05ee2bfaa5"
      },
      "source": [
        "Let's set-up the environment and parameters"
      ]
    },
    {
      "cell_type": "code",
      "execution_count": 3,
      "id": "e2b5cc94-eb79-4766-8e75-e63fc43ca0b1",
      "metadata": {
        "id": "e2b5cc94-eb79-4766-8e75-e63fc43ca0b1",
        "colab": {
          "base_uri": "https://localhost:8080/"
        },
        "outputId": "d90f4a45-0e14-478d-8e78-f6a293a9fb63"
      },
      "outputs": [
        {
          "output_type": "stream",
          "name": "stderr",
          "text": [
            "/usr/local/lib/python3.10/dist-packages/gym/envs/registration.py:593: UserWarning: \u001b[33mWARN: The environment Pong-v0 is out of date. You should consider upgrading to version `v4`.\u001b[0m\n",
            "  logger.warn(\n",
            "/usr/local/lib/python3.10/dist-packages/gym/core.py:317: DeprecationWarning: \u001b[33mWARN: Initializing wrapper in old step API which returns one bool instead of two. It is recommended to set `new_step_api=True` to use new step API. This will be the default behaviour in future.\u001b[0m\n",
            "  deprecation(\n",
            "/usr/local/lib/python3.10/dist-packages/gym/wrappers/step_api_compatibility.py:39: DeprecationWarning: \u001b[33mWARN: Initializing environment in old step API which returns one bool instead of two. It is recommended to set `new_step_api=True` to use new step API. This will be the default behaviour in future.\u001b[0m\n",
            "  deprecation(\n"
          ]
        }
      ],
      "source": [
        "# Parameters\n",
        "seed = 87 #random seed (default: 87)\n",
        "batch_size = 10 #Every how many episodes to da a param update\n",
        "learning_rate = 1e-4  # learning rate (default: 1e-4)\n",
        "decay_rate = 0.99 # decay rate for RMSprop (default: 0.99)\n",
        "gamma = 0.99 #discount factor (default: 0.99\n",
        "test = False # whether to test the trained model or keep training\n",
        "\n",
        "#Environment\n",
        "game = 'Pong-v0'\n",
        "\n",
        "env = gym.make(game, render_mode='rgb_array')\n",
        "env.seed(seed)\n",
        "torch.manual_seed(seed)\n",
        "\n",
        "#Only render frame when we are looking\n",
        "if test ==True:\n",
        "    render = True\n",
        "else:\n",
        "    render = False\n",
        "\n",
        "n_actions = 2\n",
        "\n",
        "#Path to save the trained model\n",
        "savepath = 'pg_params_conv'+game+'.pkl'"
      ]
    },
    {
      "cell_type": "markdown",
      "id": "eb97f94e-d409-47fa-af8a-2f5d1685fc92",
      "metadata": {
        "id": "eb97f94e-d409-47fa-af8a-2f5d1685fc92"
      },
      "source": [
        "Let's see how the environment looks when we take random actions."
      ]
    },
    {
      "cell_type": "code",
      "execution_count": 5,
      "id": "3916486a-9d5a-4072-9365-c7017b09ec28",
      "metadata": {
        "id": "3916486a-9d5a-4072-9365-c7017b09ec28",
        "colab": {
          "base_uri": "https://localhost:8080/"
        },
        "outputId": "2ae954ae-8244-4f69-92c6-144b460c49d3"
      },
      "outputs": [
        {
          "output_type": "stream",
          "name": "stderr",
          "text": [
            "/usr/local/lib/python3.10/dist-packages/ipykernel/ipkernel.py:283: DeprecationWarning: `should_run_async` will not call `transform_cell` automatically in the future. Please pass the result to `transformed_cell` argument and any exception that happen during thetransform in `preprocessing_exc_tuple` in IPython 7.17 and above.\n",
            "  and should_run_async(code)\n",
            "/usr/local/lib/python3.10/dist-packages/gym/core.py:43: DeprecationWarning: \u001b[33mWARN: The argument mode in render method is deprecated; use render_mode during environment initialization instead.\n",
            "See here for more information: https://www.gymlibrary.ml/content/api/\u001b[0m\n",
            "  deprecation(\n",
            "/usr/local/lib/python3.10/dist-packages/gym/utils/passive_env_checker.py:227: DeprecationWarning: \u001b[33mWARN: Core environment is written in old step API which returns one bool instead of two. It is recommended to rewrite the environment with new step API. \u001b[0m\n",
            "  logger.deprecation(\n",
            "/usr/local/lib/python3.10/dist-packages/gym/utils/passive_env_checker.py:233: DeprecationWarning: `np.bool8` is a deprecated alias for `np.bool_`.  (Deprecated NumPy 1.24)\n",
            "  if not isinstance(done, (bool, np.bool8)):\n"
          ]
        }
      ],
      "source": [
        "s = env.reset()\n",
        "\n",
        "for _ in range(100):\n",
        "    env.render(mode = 'rgb_array')\n",
        "    #a = policy(torch.from_numpy(np.atleast_2d(s)).float()).argmax().item()\n",
        "    s, r, done, _ = env.step(np.random.randint(n_actions)+2)\n",
        "    time.sleep(0.05)\n",
        "    if done: break\n",
        "\n",
        "env.close()\n",
        "#show_replay()"
      ]
    },
    {
      "cell_type": "markdown",
      "id": "326eb625-5d55-4533-93d6-af0745f06e4d",
      "metadata": {
        "id": "326eb625-5d55-4533-93d6-af0745f06e4d"
      },
      "source": [
        "Set-up preprocessing that crop-out the important part of the frame. In order to reduce the number of computations, the image is converted to a black/white iamge"
      ]
    },
    {
      "cell_type": "code",
      "execution_count": 6,
      "id": "175555d8-3fcb-420b-bddc-7fcdfa00f5c2",
      "metadata": {
        "id": "175555d8-3fcb-420b-bddc-7fcdfa00f5c2"
      },
      "outputs": [],
      "source": [
        "def prepro(I):\n",
        "    \"\"\" prepro 210x160x3 \"\"\"\n",
        "    I = I[35:195]\n",
        "    I = I[::2, ::2, 0]\n",
        "    I[I == 144] = 0\n",
        "    I[I == 109] = 0\n",
        "    I[I != 0 ] = 1\n",
        "    return I.astype(float)"
      ]
    },
    {
      "cell_type": "markdown",
      "id": "ba8ce78e-83db-430d-b06d-c7aab257a476",
      "metadata": {
        "id": "ba8ce78e-83db-430d-b06d-c7aab257a476"
      },
      "source": [
        "## Let's define our policy"
      ]
    },
    {
      "cell_type": "code",
      "execution_count": 7,
      "id": "05336361-b4c3-4dbe-a88c-dc6b934e9e26",
      "metadata": {
        "id": "05336361-b4c3-4dbe-a88c-dc6b934e9e26"
      },
      "outputs": [],
      "source": [
        "class Policy(nn.Module):\n",
        "    def __init__(self, num_actions= n_actions):\n",
        "        super(Policy, self).__init__()\n",
        "        self.conv1 =  nn.Conv2d(in_channels=1, out_channels=16, kernel_size=5, stride=2)\n",
        "        self.conv2 =  nn.Conv2d(in_channels=16, out_channels=16, kernel_size=5, stride=2)\n",
        "        self.affine3 = nn.Linear(4624, num_actions)\n",
        "\n",
        "       # self.affine1 = nn.Linear(6400, 200)\n",
        "        self.num_actions = num_actions\n",
        "        self.saved_log_probs = []\n",
        "        self.rewards = []\n",
        "        rand_var = torch.tensor([0.5,0.5])\n",
        "        rand_var = rand_var.to(device)\n",
        "        self.random = Categorical(rand_var)\n",
        "\n",
        "    def forward(self, x):\n",
        "        x = self.conv1(x)\n",
        "        x = F.relu(x)\n",
        "        x = self.conv2(x)\n",
        "        x = F.relu(x)\n",
        "        action_scores = self.affine3(x.view(-1))\n",
        "\n",
        "        return F.softmax(action_scores, dim=0)\n",
        "\n",
        "\n",
        "    def select_action(self, x):\n",
        "        x = Variable(torch.from_numpy(x).float().unsqueeze(0).unsqueeze(0))\n",
        "        x = x.to(device)\n",
        "        probs = self.forward(x)\n",
        "        m = Categorical(probs)\n",
        "        action = m.sample()\n",
        "\n",
        "        self.saved_log_probs.append(m.log_prob(action))\n",
        "        return action\n",
        "\n",
        "# built policy network\n",
        "policy = Policy()\n",
        "policy.to(device)\n",
        "\n",
        "# check & load pretrain model\n",
        "if os.path.isfile(savepath):\n",
        "    print('Load Policy Network parametets ...')\n",
        "    policy.load_state_dict(torch.load(savepath, map_location=device))\n",
        "\n",
        "\n",
        "# construct a optimal function\n",
        "optimizer = optim.RMSprop(policy.parameters(), lr=learning_rate, weight_decay=decay_rate)\n",
        "\n",
        "\n",
        "def finish_episode():\n",
        "    R = 0\n",
        "    policy_loss = []\n",
        "    rewards = []\n",
        "    for r in policy.rewards[::-1]: # run through the rewards\n",
        "        R = r + gamma * R # And the current reward and down-weight later rewards\n",
        "        rewards.insert(0, R) # store this reward in the reward list\n",
        "    # turn rewards to pytorch tensor and standardize\n",
        "    rewards = torch.Tensor(rewards)\n",
        "    rewards = (rewards - rewards.mean()) / (rewards.std() + 1e-6) # Standadize rewards so that this number does not explode, if the rounds are long\n",
        "\n",
        "    for log_prob, reward in zip(policy.saved_log_probs, rewards):\n",
        "        policy_loss.append(- log_prob * reward)\n",
        "    optimizer.zero_grad()\n",
        "    policy_loss = torch.stack(policy_loss).sum()\n",
        "    policy_loss.to(device)\n",
        "    policy_loss.backward()\n",
        "    optimizer.step()\n",
        "\n",
        "    # bookkeeping\n",
        "    losses.append(policy_loss.to('cpu').detach().numpy())\n",
        "\n",
        "    # clean rewards and saved_actions\n",
        "    del policy.rewards[:]\n",
        "    del policy.saved_log_probs[:]"
      ]
    },
    {
      "cell_type": "markdown",
      "id": "3100e3cb-ba68-4c90-83e3-59034c21defc",
      "metadata": {
        "id": "3100e3cb-ba68-4c90-83e3-59034c21defc"
      },
      "source": [
        "## Main loop"
      ]
    },
    {
      "cell_type": "code",
      "execution_count": 8,
      "id": "b61138c5-7ad0-400c-ae6e-b30e66fbaa44",
      "metadata": {
        "id": "b61138c5-7ad0-400c-ae6e-b30e66fbaa44",
        "colab": {
          "base_uri": "https://localhost:8080/"
        },
        "outputId": "2120b143-d6ab-497a-adb0-0e665f0bfdcc"
      },
      "outputs": [
        {
          "output_type": "stream",
          "name": "stdout",
          "text": [
            "Action meaning: ['NOOP', 'FIRE', 'RIGHT', 'LEFT', 'RIGHTFIRE', 'LEFTFIRE']\n",
            "REINFORCE ep 000 done. reward: -21.000000. reward running mean: -21.000000\n",
            "ep 0: model saving...\n",
            "REINFORCE ep 001 done. reward: -21.000000. reward running mean: -21.000000\n",
            "REINFORCE ep 002 done. reward: -21.000000. reward running mean: -21.000000\n",
            "REINFORCE ep 003 done. reward: -21.000000. reward running mean: -21.000000\n",
            "REINFORCE ep 004 done. reward: -19.000000. reward running mean: -20.980000\n",
            "REINFORCE ep 005 done. reward: -21.000000. reward running mean: -20.980200\n",
            "REINFORCE ep 006 done. reward: -21.000000. reward running mean: -20.980398\n",
            "REINFORCE ep 007 done. reward: -21.000000. reward running mean: -20.980594\n",
            "REINFORCE ep 008 done. reward: -21.000000. reward running mean: -20.980788\n",
            "REINFORCE ep 009 done. reward: -18.000000. reward running mean: -20.950980\n",
            "REINFORCE ep 010 done. reward: -20.000000. reward running mean: -20.941470\n",
            "REINFORCE ep 011 done. reward: -21.000000. reward running mean: -20.942056\n",
            "REINFORCE ep 012 done. reward: -18.000000. reward running mean: -20.912635\n",
            "REINFORCE ep 013 done. reward: -21.000000. reward running mean: -20.913509\n",
            "REINFORCE ep 014 done. reward: -21.000000. reward running mean: -20.914374\n",
            "REINFORCE ep 015 done. reward: -21.000000. reward running mean: -20.915230\n",
            "REINFORCE ep 016 done. reward: -20.000000. reward running mean: -20.906078\n",
            "REINFORCE ep 017 done. reward: -18.000000. reward running mean: -20.877017\n",
            "REINFORCE ep 018 done. reward: -21.000000. reward running mean: -20.878247\n",
            "REINFORCE ep 019 done. reward: -21.000000. reward running mean: -20.879464\n",
            "REINFORCE ep 020 done. reward: -18.000000. reward running mean: -20.850670\n",
            "REINFORCE ep 021 done. reward: -21.000000. reward running mean: -20.852163\n",
            "REINFORCE ep 022 done. reward: -19.000000. reward running mean: -20.833641\n",
            "REINFORCE ep 023 done. reward: -21.000000. reward running mean: -20.835305\n",
            "REINFORCE ep 024 done. reward: -19.000000. reward running mean: -20.816952\n",
            "REINFORCE ep 025 done. reward: -21.000000. reward running mean: -20.818782\n",
            "REINFORCE ep 026 done. reward: -20.000000. reward running mean: -20.810594\n",
            "REINFORCE ep 027 done. reward: -20.000000. reward running mean: -20.802489\n",
            "REINFORCE ep 028 done. reward: -20.000000. reward running mean: -20.794464\n",
            "REINFORCE ep 029 done. reward: -20.000000. reward running mean: -20.786519\n",
            "REINFORCE ep 030 done. reward: -19.000000. reward running mean: -20.768654\n",
            "REINFORCE ep 031 done. reward: -19.000000. reward running mean: -20.750967\n",
            "REINFORCE ep 032 done. reward: -21.000000. reward running mean: -20.753458\n",
            "REINFORCE ep 033 done. reward: -20.000000. reward running mean: -20.745923\n",
            "REINFORCE ep 034 done. reward: -21.000000. reward running mean: -20.748464\n",
            "REINFORCE ep 035 done. reward: -21.000000. reward running mean: -20.750979\n",
            "REINFORCE ep 036 done. reward: -18.000000. reward running mean: -20.723469\n",
            "REINFORCE ep 037 done. reward: -20.000000. reward running mean: -20.716235\n",
            "REINFORCE ep 038 done. reward: -21.000000. reward running mean: -20.719072\n",
            "REINFORCE ep 039 done. reward: -21.000000. reward running mean: -20.721882\n",
            "REINFORCE ep 040 done. reward: -21.000000. reward running mean: -20.724663\n",
            "REINFORCE ep 041 done. reward: -21.000000. reward running mean: -20.727416\n",
            "REINFORCE ep 042 done. reward: -21.000000. reward running mean: -20.730142\n",
            "REINFORCE ep 043 done. reward: -21.000000. reward running mean: -20.732841\n",
            "REINFORCE ep 044 done. reward: -21.000000. reward running mean: -20.735512\n",
            "REINFORCE ep 045 done. reward: -20.000000. reward running mean: -20.728157\n",
            "REINFORCE ep 046 done. reward: -21.000000. reward running mean: -20.730875\n",
            "REINFORCE ep 047 done. reward: -20.000000. reward running mean: -20.723567\n",
            "REINFORCE ep 048 done. reward: -21.000000. reward running mean: -20.726331\n",
            "REINFORCE ep 049 done. reward: -21.000000. reward running mean: -20.729068\n"
          ]
        }
      ],
      "source": [
        "running_reward = None\n",
        "reward_sum = 0\n",
        "prev_x = None\n",
        "training_rewards, losses = [], []\n",
        "\n",
        "print('Action meaning:', env.env.get_action_meanings())\n",
        "\n",
        "n_episodes = 50 # After few thousand episodes, the agent will play reasonable using the current policy network\n",
        "\n",
        "for i_episode in range(n_episodes):\n",
        "    state = env.reset()\n",
        "    for t in range(10000):\n",
        "        if render:\n",
        "            env.render()\n",
        "            time.sleep(0.02)\n",
        "\n",
        "        cur_x = prepro(state)\n",
        "        x = cur_x - prev_x if prev_x is not None else np.zeros(cur_x.shape)\n",
        "        prev_x = cur_x\n",
        "        action = policy.select_action(x)\n",
        "        action_env = action + 2 # possible actions are left/right, which are on position 2 and 3 in the action space. Output is 0/1 -> therefore offset by 2. ['NOOP', 'FIRE', 'RIGHT', 'LEFT', 'RIGHTFIRE', 'LEFTFIRE']\n",
        "        state, reward, done, _ = env.step(action_env)\n",
        "        reward_sum += reward\n",
        "\n",
        "        policy.rewards.append(reward)\n",
        "        if done:\n",
        "            # bookkeeping\n",
        "            training_rewards.append(reward_sum)\n",
        "\n",
        "            # tracking log\n",
        "            running_reward = reward_sum if running_reward is None else running_reward * 0.99 + reward_sum * 0.01\n",
        "            print('REINFORCE ep %03d done. reward: %f. reward running mean: %f' % (i_episode, reward_sum, running_reward))\n",
        "            reward_sum = 0\n",
        "            break\n",
        "\n",
        "\n",
        "    # use policy gradient update model weights\n",
        "    if i_episode % batch_size == 0:\n",
        "        finish_episode()\n",
        "\n",
        "    # Save model in every 50 episode\n",
        "    if i_episode % 50 == 0:\n",
        "        print('ep %d: model saving...' % (i_episode))\n",
        "        torch.save(policy.state_dict(), savepath)"
      ]
    },
    {
      "cell_type": "markdown",
      "id": "150986da-c918-4ee9-89e6-1be5d7fda9a6",
      "metadata": {
        "id": "150986da-c918-4ee9-89e6-1be5d7fda9a6"
      },
      "source": [
        "# Plot training results"
      ]
    },
    {
      "cell_type": "code",
      "execution_count": 9,
      "id": "4b3aaeca-ca43-470c-ab4f-ae2598833c69",
      "metadata": {
        "id": "4b3aaeca-ca43-470c-ab4f-ae2598833c69",
        "colab": {
          "base_uri": "https://localhost:8080/",
          "height": 538
        },
        "outputId": "e7eff80f-4c2f-4166-8b7b-4eed474f5e15"
      },
      "outputs": [
        {
          "output_type": "display_data",
          "data": {
            "text/plain": [
              "<Figure size 1600x600 with 2 Axes>"
            ],
            "image/png": "[encoded data removed]"
          },
          "metadata": {}
        }
      ],
      "source": [
        "def moving_average(a, n=10) :\n",
        "    ret = np.cumsum(a, dtype=float)\n",
        "    ret[n:] = ret[n:] - ret[:-n]\n",
        "    return ret / n\n",
        "\n",
        "plt.figure(figsize=(16,6))\n",
        "plt.subplot(211)\n",
        "plt.plot(range(1, len(training_rewards)+1), training_rewards, label='training reward')\n",
        "plt.plot(moving_average(training_rewards))\n",
        "plt.xlabel('episode'); plt.ylabel('reward')\n",
        "plt.xlim((0, len(training_rewards)))\n",
        "plt.legend(loc=4); plt.grid()\n",
        "plt.subplot(212)\n",
        "plt.plot(range(1, len(losses)+1), losses, label='loss')\n",
        "plt.plot(moving_average(losses))\n",
        "plt.xlabel('episode'); plt.ylabel('loss')\n",
        "plt.xlim((0, len(losses)))\n",
        "plt.legend(loc=4); plt.grid()\n",
        "plt.tight_layout(); plt.show()"
      ]
    },
    {
      "cell_type": "markdown",
      "id": "9a284cb9-e02d-4394-8952-815b36b7c378",
      "metadata": {
        "id": "9a284cb9-e02d-4394-8952-815b36b7c378"
      },
      "source": [
        "## Exercises\n",
        "\n",
        "Now it is your turn! Make sure you read and understand the code, then play around with it.\n",
        "\n",
        "Experiment with the:\n",
        "\n",
        "* number of episodes\n",
        "* discount factor\n",
        "* learning rate\n",
        "* network layers\n",
        "* Choose another GYM-task https://gym.openai.com/"
      ]
    },
    {
      "cell_type": "code",
      "execution_count": null,
      "id": "5bc13d7d-10dd-4fd2-a95b-c3d1199b2244",
      "metadata": {
        "id": "5bc13d7d-10dd-4fd2-a95b-c3d1199b2244"
      },
      "outputs": [],
      "source": []
    }
  ],
  "metadata": {
    "kernelspec": {
      "display_name": "Python 3",
      "name": "python3"
    },
    "language_info": {
      "codemirror_mode": {
        "name": "ipython",
        "version": 3
      },
      "file_extension": ".py",
      "mimetype": "text/x-python",
      "name": "python",
      "nbconvert_exporter": "python",
      "pygments_lexer": "ipython3",
      "version": "3.8.10"
    },
    "colab": {
      "provenance": [],
      "gpuType": "T4"
    },
    "accelerator": "GPU"
  },
  "nbformat": 4,
  "nbformat_minor": 5
}