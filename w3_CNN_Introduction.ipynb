{
  "nbformat": 4,
  "nbformat_minor": 0,
  "metadata": {
    "kernelspec": {
      "display_name": "Python 3",
      "language": "python",
      "name": "python3"
    },
    "language_info": {
      "codemirror_mode": {
        "name": "ipython",
        "version": 3
      },
      "file_extension": ".py",
      "mimetype": "text/x-python",
      "name": "python",
      "nbconvert_exporter": "python",
      "pygments_lexer": "ipython3",
      "version": "3.8.10"
    },
    "colab": {
      "provenance": [],
      "collapsed_sections": [
        "4mGL-C5--oU7",
        "ZXF54leN-oVA",
        "OFeuPZ8gVRKd",
        "mZDulHIf-oVb",
        "9muknP8r-oVc"
      ]
    },
    "accelerator": "GPU",
    "widgets": {
      "application/vnd.jupyter.widget-state+json": {
        "54d00abce10f4734b877b301bcb97ca5": {
          "model_module": "@jupyter-widgets/controls",
          "model_name": "HBoxModel",
          "model_module_version": "1.5.0",
          "state": {
            "_dom_classes": [],
            "_model_module": "@jupyter-widgets/controls",
            "_model_module_version": "1.5.0",
            "_model_name": "HBoxModel",
            "_view_count": null,
            "_view_module": "@jupyter-widgets/controls",
            "_view_module_version": "1.5.0",
            "_view_name": "HBoxView",
            "box_style": "",
            "children": [
              "IPY_MODEL_e156ed8a1a47432a8398b7395ef8f5d2",
              "IPY_MODEL_42705b9896294e4ab27ce326986ff547",
              "IPY_MODEL_199344b6440447f5a47cbeecb5332a2f"
            ],
            "layout": "IPY_MODEL_cec0467824894134afec806d373f2f22"
          }
        },
        "e156ed8a1a47432a8398b7395ef8f5d2": {
          "model_module": "@jupyter-widgets/controls",
          "model_name": "HTMLModel",
          "model_module_version": "1.5.0",
          "state": {
            "_dom_classes": [],
            "_model_module": "@jupyter-widgets/controls",
            "_model_module_version": "1.5.0",
            "_model_name": "HTMLModel",
            "_view_count": null,
            "_view_module": "@jupyter-widgets/controls",
            "_view_module_version": "1.5.0",
            "_view_name": "HTMLView",
            "description": "",
            "description_tooltip": null,
            "layout": "IPY_MODEL_751825fb4a5344bbab3145631cdc5342",
            "placeholder": "​",
            "style": "IPY_MODEL_9cc54c5599704d2199d062114073db29",
            "value": "100%"
          }
        },
        "42705b9896294e4ab27ce326986ff547": {
          "model_module": "@jupyter-widgets/controls",
          "model_name": "FloatProgressModel",
          "model_module_version": "1.5.0",
          "state": {
            "_dom_classes": [],
            "_model_module": "@jupyter-widgets/controls",
            "_model_module_version": "1.5.0",
            "_model_name": "FloatProgressModel",
            "_view_count": null,
            "_view_module": "@jupyter-widgets/controls",
            "_view_module_version": "1.5.0",
            "_view_name": "ProgressView",
            "bar_style": "success",
            "description": "",
            "description_tooltip": null,
            "layout": "IPY_MODEL_d44f3de3896646b3b88b9f67c58fe9aa",
            "max": 170498071,
            "min": 0,
            "orientation": "horizontal",
            "style": "IPY_MODEL_549657e9292744aea6d883e44e15b41b",
            "value": 170498071
          }
        },
        "199344b6440447f5a47cbeecb5332a2f": {
          "model_module": "@jupyter-widgets/controls",
          "model_name": "HTMLModel",
          "model_module_version": "1.5.0",
          "state": {
            "_dom_classes": [],
            "_model_module": "@jupyter-widgets/controls",
            "_model_module_version": "1.5.0",
            "_model_name": "HTMLModel",
            "_view_count": null,
            "_view_module": "@jupyter-widgets/controls",
            "_view_module_version": "1.5.0",
            "_view_name": "HTMLView",
            "description": "",
            "description_tooltip": null,
            "layout": "IPY_MODEL_5f70e1d7de7a4853b81b7ceebcc7d7ff",
            "placeholder": "​",
            "style": "IPY_MODEL_81f80b64ebe541eab4d8cbedff7bf990",
            "value": " 170498071/170498071 [00:15&lt;00:00, 14740181.84it/s]"
          }
        },
        "cec0467824894134afec806d373f2f22": {
          "model_module": "@jupyter-widgets/base",
          "model_name": "LayoutModel",
          "model_module_version": "1.2.0",
          "state": {
            "_model_module": "@jupyter-widgets/base",
            "_model_module_version": "1.2.0",
            "_model_name": "LayoutModel",
            "_view_count": null,
            "_view_module": "@jupyter-widgets/base",
            "_view_module_version": "1.2.0",
            "_view_name": "LayoutView",
            "align_content": null,
            "align_items": null,
            "align_self": null,
            "border": null,
            "bottom": null,
            "display": null,
            "flex": null,
            "flex_flow": null,
            "grid_area": null,
            "grid_auto_columns": null,
            "grid_auto_flow": null,
            "grid_auto_rows": null,
            "grid_column": null,
            "grid_gap": null,
            "grid_row": null,
            "grid_template_areas": null,
            "grid_template_columns": null,
            "grid_template_rows": null,
            "height": null,
            "justify_content": null,
            "justify_items": null,
            "left": null,
            "margin": null,
            "max_height": null,
            "max_width": null,
            "min_height": null,
            "min_width": null,
            "object_fit": null,
            "object_position": null,
            "order": null,
            "overflow": null,
            "overflow_x": null,
            "overflow_y": null,
            "padding": null,
            "right": null,
            "top": null,
            "visibility": null,
            "width": null
          }
        },
        "751825fb4a5344bbab3145631cdc5342": {
          "model_module": "@jupyter-widgets/base",
          "model_name": "LayoutModel",
          "model_module_version": "1.2.0",
          "state": {
            "_model_module": "@jupyter-widgets/base",
            "_model_module_version": "1.2.0",
            "_model_name": "LayoutModel",
            "_view_count": null,
            "_view_module": "@jupyter-widgets/base",
            "_view_module_version": "1.2.0",
            "_view_name": "LayoutView",
            "align_content": null,
            "align_items": null,
            "align_self": null,
            "border": null,
            "bottom": null,
            "display": null,
            "flex": null,
            "flex_flow": null,
            "grid_area": null,
            "grid_auto_columns": null,
            "grid_auto_flow": null,
            "grid_auto_rows": null,
            "grid_column": null,
            "grid_gap": null,
            "grid_row": null,
            "grid_template_areas": null,
            "grid_template_columns": null,
            "grid_template_rows": null,
            "height": null,
            "justify_content": null,
            "justify_items": null,
            "left": null,
            "margin": null,
            "max_height": null,
            "max_width": null,
            "min_height": null,
            "min_width": null,
            "object_fit": null,
            "object_position": null,
            "order": null,
            "overflow": null,
            "overflow_x": null,
            "overflow_y": null,
            "padding": null,
            "right": null,
            "top": null,
            "visibility": null,
            "width": null
          }
        },
        "9cc54c5599704d2199d062114073db29": {
          "model_module": "@jupyter-widgets/controls",
          "model_name": "DescriptionStyleModel",
          "model_module_version": "1.5.0",
          "state": {
            "_model_module": "@jupyter-widgets/controls",
            "_model_module_version": "1.5.0",
            "_model_name": "DescriptionStyleModel",
            "_view_count": null,
            "_view_module": "@jupyter-widgets/base",
            "_view_module_version": "1.2.0",
            "_view_name": "StyleView",
            "description_width": ""
          }
        },
        "d44f3de3896646b3b88b9f67c58fe9aa": {
          "model_module": "@jupyter-widgets/base",
          "model_name": "LayoutModel",
          "model_module_version": "1.2.0",
          "state": {
            "_model_module": "@jupyter-widgets/base",
            "_model_module_version": "1.2.0",
            "_model_name": "LayoutModel",
            "_view_count": null,
            "_view_module": "@jupyter-widgets/base",
            "_view_module_version": "1.2.0",
            "_view_name": "LayoutView",
            "align_content": null,
            "align_items": null,
            "align_self": null,
            "border": null,
            "bottom": null,
            "display": null,
            "flex": null,
            "flex_flow": null,
            "grid_area": null,
            "grid_auto_columns": null,
            "grid_auto_flow": null,
            "grid_auto_rows": null,
            "grid_column": null,
            "grid_gap": null,
            "grid_row": null,
            "grid_template_areas": null,
            "grid_template_columns": null,
            "grid_template_rows": null,
            "height": null,
            "justify_content": null,
            "justify_items": null,
            "left": null,
            "margin": null,
            "max_height": null,
            "max_width": null,
            "min_height": null,
            "min_width": null,
            "object_fit": null,
            "object_position": null,
            "order": null,
            "overflow": null,
            "overflow_x": null,
            "overflow_y": null,
            "padding": null,
            "right": null,
            "top": null,
            "visibility": null,
            "width": null
          }
        },
        "549657e9292744aea6d883e44e15b41b": {
          "model_module": "@jupyter-widgets/controls",
          "model_name": "ProgressStyleModel",
          "model_module_version": "1.5.0",
          "state": {
            "_model_module": "@jupyter-widgets/controls",
            "_model_module_version": "1.5.0",
            "_model_name": "ProgressStyleModel",
            "_view_count": null,
            "_view_module": "@jupyter-widgets/base",
            "_view_module_version": "1.2.0",
            "_view_name": "StyleView",
            "bar_color": null,
            "description_width": ""
          }
        },
        "5f70e1d7de7a4853b81b7ceebcc7d7ff": {
          "model_module": "@jupyter-widgets/base",
          "model_name": "LayoutModel",
          "model_module_version": "1.2.0",
          "state": {
            "_model_module": "@jupyter-widgets/base",
            "_model_module_version": "1.2.0",
            "_model_name": "LayoutModel",
            "_view_count": null,
            "_view_module": "@jupyter-widgets/base",
            "_view_module_version": "1.2.0",
            "_view_name": "LayoutView",
            "align_content": null,
            "align_items": null,
            "align_self": null,
            "border": null,
            "bottom": null,
            "display": null,
            "flex": null,
            "flex_flow": null,
            "grid_area": null,
            "grid_auto_columns": null,
            "grid_auto_flow": null,
            "grid_auto_rows": null,
            "grid_column": null,
            "grid_gap": null,
            "grid_row": null,
            "grid_template_areas": null,
            "grid_template_columns": null,
            "grid_template_rows": null,
            "height": null,
            "justify_content": null,
            "justify_items": null,
            "left": null,
            "margin": null,
            "max_height": null,
            "max_width": null,
            "min_height": null,
            "min_width": null,
            "object_fit": null,
            "object_position": null,
            "order": null,
            "overflow": null,
            "overflow_x": null,
            "overflow_y": null,
            "padding": null,
            "right": null,
            "top": null,
            "visibility": null,
            "width": null
          }
        },
        "81f80b64ebe541eab4d8cbedff7bf990": {
          "model_module": "@jupyter-widgets/controls",
          "model_name": "DescriptionStyleModel",
          "model_module_version": "1.5.0",
          "state": {
            "_model_module": "@jupyter-widgets/controls",
            "_model_module_version": "1.5.0",
            "_model_name": "DescriptionStyleModel",
            "_view_count": null,
            "_view_module": "@jupyter-widgets/base",
            "_view_module_version": "1.2.0",
            "_view_name": "StyleView",
            "description_width": ""
          }
        }
      }
    }
  },
  "cells": [
    {
      "cell_type": "markdown",
      "metadata": {
        "id": "4mGL-C5--oU7"
      },
      "source": [
        "### Credits: Exercises are made with inspiration from the [DTU-deep-learning](https://github.com/DeepLearningDTU/02456-deep-learning-with-PyTorch/blob/master/4_Convolutional/4.1-CNN-Introduction.ipynb) and [PyTorch Tutorials](https://pytorch.org/tutorials/).\n",
        "\n",
        "\n",
        "---\n",
        "\n"
      ]
    },
    {
      "cell_type": "markdown",
      "metadata": {
        "id": "ZXF54leN-oVA"
      },
      "source": [
        "# Introduction to Convolutional Neural Networks\n",
        "\n",
        "This exercise will introduce Convolutional Neural Networks in Pytorch. An important part of the exercise is to read and understand the PyTorch syntax and how, e.g., training loops are structured.\n",
        "You also have to implement your own CNN for classification :-)"
      ]
    },
    {
      "cell_type": "code",
      "metadata": {
        "id": "oPxLUQ4M-oVC"
      },
      "source": [
        "# Later in the exercise, you will have to download the CIFAR-10 data-set. It might take a while,\n",
        "# so it would be a good idea to run this cell to start downloading the data already now.\n",
        "import torchvision\n",
        "torchvision.datasets.CIFAR10(root='./data', download=True)"
      ],
      "execution_count": null,
      "outputs": []
    },
    {
      "cell_type": "markdown",
      "metadata": {
        "id": "v_vvOrtz-oVF"
      },
      "source": [
        "# Exercise 1:\n",
        "\n",
        "### Exercise 1.1: Convolve manually\n",
        "\n",
        "Perform the following calculations by hand, and write the result below. You decide if you want to make a convolution or correlation.\n",
        "\n",
        "\n",
        "<img src=\"https://nextcloud.theailab.dk/s/fCF7XZktJDwYA4C/download/inputKernel.jpg\" alt=\"Kernel\" style=\"width:300px;\"/>\n",
        "\n",
        "\n",
        "1. Manually convolve the input with the kernel, and write down the result. Use no padding and stride of 1.\n",
        "1. Perform $2\\times2$ max pooling on the output of the convolution. Use a stride of 2.\n",
        "\n",
        "**Answer:**\n",
        "\n",
        "```\n",
        "Convolution:\n",
        "C1= (2*1) + (2*0) + (3*0) + (0*3) + (1*0) + (2*0) + (0*3) + (0*3) + (0*0)= 2\n",
        "C2= (2*0) + (2*0) + (3*0) + (0*0) + (1*0) + (2*0) + (0*3) + (0*0) + (0*0)= 0\n",
        "C3= (2*3) + (2*0) + (3*0) + (0*3) + (1*3) + (2*0) + (0*4) + (0*2) + (0*2)= 9\n",
        "C4= (2*0) + (2*0) + (3*0) + (0*3) + (1*0) + (2*0) + (0*2) + (0*2) + (0*2)= 0\n",
        "```\n",
        "\n",
        "\\begin{array}{|c|c|}\n",
        "\\hline\n",
        "     2 & 0 \\\\\\hline\n",
        "     9 & 0 \\\\\\hline\n",
        "\\end{array}\n",
        "\n",
        "```\n",
        "Max Pooling:\n",
        "max (C1,C2,C3,C4) = 9\n",
        "```\n",
        "\n",
        "\\begin{array}{|c|}\n",
        "\\hline\n",
        "     9 \\\\\\hline\n",
        "\\end{array}\n",
        "\n",
        "\n",
        "### Exercise 1.2: Calculate output sizes of convolution output\n",
        "\n",
        "In the following list, you will be given a 3D tensor and some filters. Based on their sizes, calculate the size of the output (if valid). We will use PyTorch notation of dimensions. This means that dimensions are given as channel-first. I.e.: `(channel, height, width)`.\n",
        "\n",
        "The size of the 3D tensor input is givens as `(channel, height, width)`.\n",
        "A number `(channels_out)` of filters, have a size of `(channels_in, filter_height, filter_width)`, stride `(height, width)` and padding `(height, width)`.\n",
        "\n",
        "\n",
        "1. input tensor with dimensionality (1, 28, 28) and 16 filters of size (1, 5, 5) with stride (1, 1) and padding (0, 0)\n",
        "\n",
        "    **Answer: (16,24,24)**\n",
        "\n",
        "2. input tensor with dimensionality (3, 32, 32) and 24 filters of size (3, 3, 3) with stride (1, 1) and padding (0, 0)\n",
        "\n",
        "    **Answer: (24,30,30)**\n",
        "\n",
        "3. input tensor with dimensionality (40, 32, 32) and 3 filters of size (40, 2, 2) with stride (2, 2) and padding (0, 0)\n",
        "  \n",
        "    **Answer: (3,16,16)**      \n",
        "\n",
        "4. input tensor with dimensionality (11, 8, 16) and 7 filters of size (11, 3, 3) with stride (2, 2) and padding (1, 1)\n",
        "\n",
        "    **Answer: (7,4,8)**\n",
        "\n",
        "5. input tensor with dimensionality (128, 256, 256) and 112 filters of size (128, 3, 3) with stride (1, 1) and padding (1, 1)\n",
        "\n",
        "    **Answer: (112,256,256)**\n",
        ""
      ]
    },
    {
      "cell_type": "markdown",
      "source": [],
      "metadata": {
        "id": "nT7C1AU5gudW"
      }
    },
    {
      "cell_type": "code",
      "source": [],
      "metadata": {
        "id": "L8upiBNngvVk"
      },
      "execution_count": null,
      "outputs": []
    },
    {
      "cell_type": "markdown",
      "source": [
        "### Exercise 1.3: Associative property of convolution\n",
        "Assume that we have two convolution kernels of size k1 and k2, respectively (with no nonlinearity in-between). The kernels are applied one after the other.\n",
        "  1. Prove that the result of the operation can be expressed by a single convolution.\n",
        "\n",
        "  R1. From the chain rule that catch the contribute weights relate to the result\n",
        "  ![Chain.jpg](data:image/jpeg;base64,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)\n",
        "  \n",
        "  The part of dZ/dW is equal to= dX*W/dW => x\n",
        "  The part of dF/dZ is 1\n",
        "  The part of dL/dZ is equal to 1 due to the linearity\n",
        "\n",
        "  We cannot insert a linear function because the derivative of this function is always a costant value and consequently, we have no relation to the input. So, we cannot estabilish which weights provide better prediction and updating weights using the backpropagation\n",
        "\n",
        "  2. What is the dimensionality of the equivalent single convolution?\n",
        "  \n",
        "  R2. It is came from the formula (m-f+1) x (n-f+1), where m,n is the width,    height of the input volume, and f is the size of the filter. Also the striding determine the size as (2,2) for example for filter reduce the output dimension of 2 times. Because the next steps (doubled) of the kernel of the filter reach the border before.\n",
        "\n",
        "  3. Is the converse true, i.e., can you always decompose a convolution into two smaller ones?\n",
        "\n",
        " R3. On two cases we don't have a reduction of dimension in output: When we have 1x1 convolution and when we add padding on the inputs. The padding add zeros inside rows and columns merged into the inputs space at the edges.\n"
      ],
      "metadata": {
        "id": "OFeuPZ8gVRKd"
      }
    },
    {
      "cell_type": "markdown",
      "metadata": {
        "id": "UiQQ0PHa-oVG"
      },
      "source": [
        "# Exercise 2: Creating a convolutional neural network\n",
        "\n",
        "In this exercise, we will once again train a network to recognize MNIST digits.\n",
        "First, we will set up the data and the network. Please spend some time reading and understanding the code. Problems are defined at the buttom of the section."
      ]
    },
    {
      "cell_type": "code",
      "metadata": {
        "id": "ksx-o9Bn-oVH"
      },
      "source": [
        "import numpy as np\n",
        "import matplotlib.pyplot as plt\n",
        "import random\n",
        "%matplotlib inline"
      ],
      "execution_count": null,
      "outputs": []
    },
    {
      "cell_type": "markdown",
      "metadata": {
        "id": "NJGldiK9-oVJ"
      },
      "source": [
        "## Data: MNIST\n",
        "\n",
        "This code prepares MNIST and sets dimensions to `(num_samples, num_channels, height, width)`, as PyTorch expects."
      ]
    },
    {
      "cell_type": "code",
      "metadata": {
        "id": "Fs6AVjOb-oVK"
      },
      "source": [
        "from mlxtend.data import mnist_data\n",
        "X, y = mnist_data()\n",
        "X = (X/255.0).astype(np.float32) # Convert to interval 0:1\n",
        "y = y.astype(np.float32)\n",
        "num_classes = 10\n",
        "nchannels, rows, cols = 1, 28, 28\n",
        "\n",
        "X = np.expand_dims(X.reshape(len(X),rows,cols),1) # Add a channel-dimension"
      ],
      "execution_count": null,
      "outputs": []
    },
    {
      "cell_type": "markdown",
      "metadata": {
        "id": "5KGH9fKi-oVK"
      },
      "source": [
        "Split data in train, validation, and test"
      ]
    },
    {
      "cell_type": "code",
      "metadata": {
        "id": "LIhbTUDx-oVM"
      },
      "source": [
        "def splitdata(X, y, Ngroups, weights=None):\n",
        "    '''\n",
        "    X, y = input data and labels\n",
        "    Ngroups = number of groups to split data into\n",
        "    weights = a list with Ngroups weights, that tell the probability of a sample ending in either of the data sets\n",
        "    '''\n",
        "    if weights is None:\n",
        "        weights = [1/Ngroups]*Ngroups\n",
        "\n",
        "    groups = np.array(random.choices(list(range(Ngroups)), weights=weights, cum_weights=None, k=len(X)))\n",
        "    return ((X[np.where(groups==g)], y[np.where(groups==g)]) for g in np.array(range(Ngroups)))\n",
        "\n",
        "(x_train, targets_train), (x_valid, targets_valid), (x_test, targets_test) = splitdata(X, y, Ngroups=3, weights=[0.8, 0.1, 0.1])"
      ],
      "execution_count": null,
      "outputs": []
    },
    {
      "cell_type": "markdown",
      "metadata": {
        "id": "_MxC0x7l-oVN"
      },
      "source": [
        "## Let's plot some samples from the training set."
      ]
    },
    {
      "cell_type": "code",
      "metadata": {
        "id": "Ek-ps6hd-oVN",
        "colab": {
          "base_uri": "https://localhost:8080/",
          "height": 97
        },
        "outputId": "5b8907a8-3ba3-420d-e2a8-9fe419a0f348"
      },
      "source": [
        "from mpl_toolkits.axes_grid1 import ImageGrid\n",
        "\n",
        "fig = plt.figure()\n",
        "nrows_ncols=(1, 6)\n",
        "grid = ImageGrid(fig, 111,  # similar to subplot(111)\n",
        "                 nrows_ncols=nrows_ncols,  # creates 2x2 grid of axes\n",
        "                 axes_pad=0.1,  # pad between axes in inch.\n",
        "                 )\n",
        "\n",
        "for ax, idx in zip(grid, np.random.randint(low=0, high=len(x_train), size=np.prod(nrows_ncols))):\n",
        "    # Iterating over the grid returns the Axes.\n",
        "    ax.imshow(X[idx].reshape(28,28), cmap='gray')\n",
        "    ax.set_title(str(int(y[idx])))\n",
        "    ax.set_axis_off()"
      ],
      "execution_count": null,
      "outputs": [
        {
          "output_type": "display_data",
          "data": {
            "text/plain": [
              "<Figure size 432x288 with 12 Axes>"
            ],
            "image/png": "[encoded data removed]"
          },
          "metadata": {
            "needs_background": "light"
          }
        }
      ]
    },
    {
      "cell_type": "markdown",
      "metadata": {
        "id": "sEBMGM1m-oVO"
      },
      "source": [
        "# Define a simple feed forward neural network without convolutions"
      ]
    },
    {
      "cell_type": "code",
      "metadata": {
        "id": "un5Ba6Zk-oVO"
      },
      "source": [
        "import torch\n",
        "from torch.nn.parameter import Parameter\n",
        "import torch.nn as nn\n",
        "import torch.nn.functional as F\n",
        "import torch.optim as optim\n",
        "import torch.nn.init as init\n",
        "\n",
        "from torch.nn import Linear, Conv2d, BatchNorm2d, MaxPool2d, Dropout2d\n",
        "from torch.nn.functional import relu, elu, relu6, sigmoid, tanh, softmax"
      ],
      "execution_count": null,
      "outputs": []
    },
    {
      "cell_type": "markdown",
      "metadata": {
        "id": "GR3mhgQH-oVP"
      },
      "source": [
        "We'll use the nn.Module class to define our network. It will help us create clearer and more compact code by encapsulating the network in a class. It also helps us, if we want to save our trained weights and load them again.\n",
        "\n",
        "Everything that contains weights, which you want to be trained during the training process should be defined in your \\_\\_init\\_\\_ method.\n",
        "\n",
        "You can read more about the nn.Module class here:\n",
        "https://pytorch.org/tutorials/beginner/nn_tutorial.html"
      ]
    },
    {
      "cell_type": "code",
      "metadata": {
        "id": "83PT-55d-oVP",
        "colab": {
          "base_uri": "https://localhost:8080/"
        },
        "outputId": "5c297cd6-9b38-45d0-d946-7ee5177deb98"
      },
      "source": [
        "# hyperameters of the model\n",
        "num_classes = 10\n",
        "channels = x_train.shape[1]\n",
        "height = x_train.shape[2]\n",
        "width = x_train.shape[3]\n",
        "kernel_size1 = 5\n",
        "\n",
        "print (channels)\n",
        "print (height)\n",
        "print (width)\n",
        "\n",
        "height_c1= x_train.shape[2] - kernel_size1 + 1\n",
        "width_c1= x_train.shape[3] - kernel_size1 + 1\n",
        "\n",
        "# define network\n",
        "class NeuralNetwork(nn.Module):\n",
        "    def __init__(self):\n",
        "        super(NeuralNetwork, self).__init__()\n",
        "        # YOUR CODE BEGINS HERE\n",
        "        # Define the needed Conv-layer(s)\n",
        "        self.conv = nn.Conv2d(in_channels= channels, out_channels= channels, kernel_size= kernel_size1, padding= 2)\n",
        "        self.pool = nn.MaxPool2d(kernel_size= 5, stride=1, padding= 2)\n",
        "        # YOUR CODE ENDS HERE\n",
        "\n",
        "        self.flatten = nn.Flatten()\n",
        "\n",
        "        # CNN no padding\n",
        "        # self.flatten = nn.Flatten(1,3)\n",
        "\n",
        "        # self.FC1 = nn.Linear(height_c1*width_c1, 512)\n",
        "        # self.FC1 = nn.Linear(height*width, 512)\n",
        "\n",
        "        # self.FC2 = nn.Linear(512, num_classes)\n",
        "        # with padding\n",
        "        self.FC2 = nn.Linear(784, num_classes)\n",
        "\n",
        "\n",
        "    def forward(self, x):\n",
        "        # YOUR CODE BEGINS HERE\n",
        "        # Define your network architecture\n",
        "        # print (x.size())\n",
        "        x= self.conv(x)\n",
        "        x= self.pool(x)\n",
        "        x= self.conv(x)\n",
        "        x= self.pool(x)\n",
        "        # x= torch.squeeze(x) eventually????\n",
        "        x = self.flatten(x)\n",
        "        # x = self.FC1(x)\n",
        "        x = F.relu(x)\n",
        "        x = self.FC2(x)\n",
        "        # YOUR CODE ENDS HERE\n",
        "        return x\n",
        "\n",
        "net = NeuralNetwork()\n",
        "print(net)"
      ],
      "execution_count": null,
      "outputs": [
        {
          "output_type": "stream",
          "name": "stdout",
          "text": [
            "1\n",
            "28\n",
            "28\n",
            "NeuralNetwork(\n",
            "  (conv): Conv2d(1, 1, kernel_size=(5, 5), stride=(1, 1), padding=(2, 2))\n",
            "  (pool): MaxPool2d(kernel_size=5, stride=1, padding=2, dilation=1, ceil_mode=False)\n",
            "  (flatten): Flatten(start_dim=1, end_dim=-1)\n",
            "  (FC2): Linear(in_features=784, out_features=10, bias=True)\n",
            ")\n"
          ]
        }
      ]
    },
    {
      "cell_type": "markdown",
      "metadata": {
        "id": "Ogb2gRsS-oVQ"
      },
      "source": [
        "## Setting up loss function and optimizer"
      ]
    },
    {
      "cell_type": "code",
      "metadata": {
        "id": "s3mx6HDq-oVQ"
      },
      "source": [
        "criterion = nn.CrossEntropyLoss()\n",
        "optimizer = optim.SGD(net.parameters(), lr=0.001)"
      ],
      "execution_count": null,
      "outputs": []
    },
    {
      "cell_type": "markdown",
      "metadata": {
        "id": "aaRph9wS-oVR"
      },
      "source": [
        "We can test our architecture by forwarding random data through it"
      ]
    },
    {
      "cell_type": "code",
      "metadata": {
        "id": "hwXMO0wP-oVR",
        "colab": {
          "base_uri": "https://localhost:8080/"
        },
        "outputId": "ec761c2a-eb27-48c9-fd99-ed781a032118"
      },
      "source": [
        "x = np.random.randn(3, 1, 28, 28).astype('float32')\n",
        "out = net(torch.from_numpy(x))\n",
        "print('Output shape:', out.shape)\n",
        "print('Output tensor:')\n",
        "out"
      ],
      "execution_count": null,
      "outputs": [
        {
          "output_type": "stream",
          "name": "stdout",
          "text": [
            "Output shape: torch.Size([3, 10])\n",
            "Output tensor:\n"
          ]
        },
        {
          "output_type": "execute_result",
          "data": {
            "text/plain": [
              "tensor([[  4.4686, -11.1640,   5.9372,   1.5680,  -8.3296,   8.8924,   5.6856,\n",
              "          -2.9600,   6.8871,  -3.6786],\n",
              "        [ -4.3696,  -7.3817,   8.0027,  10.2176,  -4.7924,   8.7065,   1.6368,\n",
              "          -9.6871,   4.9344,  -4.9201],\n",
              "        [ -6.0606,  -8.4995,   4.6497,   1.4003,  -2.4524,   8.0640,   3.8144,\n",
              "          -3.4301,   7.3167,   0.0211]], grad_fn=<AddmmBackward0>)"
            ]
          },
          "metadata": {},
          "execution_count": 194
        }
      ]
    },
    {
      "cell_type": "markdown",
      "metadata": {
        "id": "TP7XGBSh-oVR"
      },
      "source": [
        "Notice how the default weight initialization distributes the output scores nicely between the classes."
      ]
    },
    {
      "cell_type": "markdown",
      "metadata": {
        "id": "mUTo1QMC-oVS"
      },
      "source": [
        "## Now we set up the training loop.\n",
        "Notice that we don't use dataloaders, since writing the training loop manually gives a better understanding of what is going on.\n",
        "Please spend some time going through the following code-block line-by-line"
      ]
    },
    {
      "cell_type": "code",
      "metadata": {
        "id": "IXDRwyqY-oVS",
        "colab": {
          "base_uri": "https://localhost:8080/"
        },
        "outputId": "171ea8df-5a72-49b5-c3ca-97f5fe88fb80"
      },
      "source": [
        "batch_size = 100\n",
        "num_epochs = 100\n",
        "\n",
        "num_samples_train = x_train.shape[0]\n",
        "num_batches_train = num_samples_train // batch_size\n",
        "num_samples_valid = x_valid.shape[0]\n",
        "num_batches_valid = num_samples_valid // batch_size\n",
        "\n",
        "train_acc, train_loss = [], []\n",
        "valid_acc, valid_loss = [], []\n",
        "test_acc, test_loss = [], []\n",
        "cur_loss = 0\n",
        "losses = []\n",
        "\n",
        "def get_slice(i, size):\n",
        "    return range(i * size, (i + 1) * size)\n",
        "\n",
        "def accuracy_score(targets, predictions):\n",
        "    return 1.0*np.sum((np.array(targets) == np.array(predictions)))/len(targets)\n",
        "\n",
        "\n",
        "\n",
        "# This function iterates through all batches of a dataset, X_data and returns predictions and matching targets\n",
        "def evaluateLoop(X_data, targets, num_batches):\n",
        "    allTargets, allPredictions = [], []\n",
        "\n",
        "    #Iterate through the batches\n",
        "    for i in range(num_batches):\n",
        "        slce = get_slice(i, batch_size)\n",
        "        x_batch = torch.from_numpy(X_data[slce])\n",
        "\n",
        "        output = net(x_batch)\n",
        "        predictions = torch.max(output, 1)[1]\n",
        "\n",
        "        allTargets += list(targets[slce])\n",
        "        allPredictions += list(predictions.data.numpy())\n",
        "\n",
        "    return allTargets, allPredictions\n",
        "\n",
        "\n",
        "for epoch in range(num_epochs):\n",
        "\n",
        "    ## Train\n",
        "    cur_loss = 0\n",
        "    net.train()\n",
        "\n",
        "    for i in range(num_batches_train):\n",
        "        slce = get_slice(i, batch_size)\n",
        "        x_batch = torch.from_numpy(x_train[slce])\n",
        "        output = net(x_batch) # Forward pass\n",
        "\n",
        "        # compute gradients given loss\n",
        "        target_batch = torch.from_numpy(targets_train[slce]).long()\n",
        "        batch_loss = criterion(output, target_batch) # Calculate loss\n",
        "        optimizer.zero_grad() # Reset gradients\n",
        "        batch_loss.backward() # Backprobagation\n",
        "        optimizer.step() # Update parameters\n",
        "\n",
        "        cur_loss += batch_loss\n",
        "    losses.append(cur_loss / batch_size)\n",
        "\n",
        "    net.eval()\n",
        "\n",
        "    ### Evaluate training data\n",
        "    train_targs, train_preds = evaluateLoop(X_data=x_train, targets=targets_train, num_batches=num_batches_train)\n",
        "\n",
        "\n",
        "    ### Evaluate validation fata\n",
        "    val_targs, val_preds = evaluateLoop(X_data=x_valid, targets=targets_valid, num_batches=num_batches_valid)\n",
        "\n",
        "\n",
        "    #Calculate accuracies\n",
        "    train_acc_cur = accuracy_score(train_targs, train_preds)\n",
        "    valid_acc_cur = accuracy_score(val_targs, val_preds)\n",
        "\n",
        "    train_acc.append(train_acc_cur)\n",
        "    valid_acc.append(valid_acc_cur)\n",
        "\n",
        "    #Plot output\n",
        "    if epoch % 10 == 0:\n",
        "        print(\"Epoch %2i : Train Loss %f , Train acc %f, Valid acc %f\" % (\n",
        "                epoch+1, losses[-1], train_acc_cur, valid_acc_cur))\n",
        "\n",
        "### Evaluate test set\n",
        "x_batch = torch.from_numpy(x_test)\n",
        "output = net(x_batch)\n",
        "preds = torch.max(output, 1)[1]\n",
        "print(\"\\nTest set Acc:  %f\" % (accuracy_score(list(targets_test), list(preds.data.numpy()))))"
      ],
      "execution_count": null,
      "outputs": [
        {
          "output_type": "stream",
          "name": "stdout",
          "text": [
            "Epoch  1 : Train Loss 0.120179 , Train acc 0.863333, Valid acc 0.860000\n",
            "Epoch 11 : Train Loss 0.117723 , Train acc 0.864615, Valid acc 0.862000\n",
            "Epoch 21 : Train Loss 0.115433 , Train acc 0.868462, Valid acc 0.868000\n",
            "Epoch 31 : Train Loss 0.113276 , Train acc 0.870769, Valid acc 0.870000\n",
            "Epoch 41 : Train Loss 0.111278 , Train acc 0.871795, Valid acc 0.870000\n",
            "Epoch 51 : Train Loss 0.109389 , Train acc 0.874359, Valid acc 0.872000\n",
            "Epoch 61 : Train Loss 0.107660 , Train acc 0.874359, Valid acc 0.870000\n",
            "Epoch 71 : Train Loss 0.106056 , Train acc 0.875128, Valid acc 0.870000\n",
            "Epoch 81 : Train Loss 0.104558 , Train acc 0.877436, Valid acc 0.870000\n",
            "Epoch 91 : Train Loss 0.103109 , Train acc 0.879231, Valid acc 0.870000\n",
            "\n",
            "Test set Acc:  0.869811\n"
          ]
        }
      ]
    },
    {
      "cell_type": "code",
      "metadata": {
        "id": "CpMEMbNk-oVS",
        "colab": {
          "base_uri": "https://localhost:8080/",
          "height": 281
        },
        "outputId": "4be43af1-66a1-4131-b6f8-52e0c982ba1f"
      },
      "source": [
        "# Plot training and validation accuracies vs. epochs\n",
        "epoch = range(len(train_acc))\n",
        "plt.figure()\n",
        "plt.plot(epoch, train_acc, 'r', epoch, valid_acc, 'b')\n",
        "plt.legend(['Train Accuracy', 'Val Accuracy'])\n",
        "plt.xlabel('Epochs')\n",
        "plt.ylabel('Accuracy')\n",
        "plt.show()"
      ],
      "execution_count": null,
      "outputs": [
        {
          "output_type": "display_data",
          "data": {
            "text/plain": [
              "<Figure size 432x288 with 1 Axes>"
            ],
            "image/png": "[encoded data removed]"
          },
          "metadata": {
            "needs_background": "light"
          }
        }
      ]
    },
    {
      "cell_type": "markdown",
      "metadata": {
        "id": "SHPVvGiA-oVT"
      },
      "source": [
        "**Exercise**\n",
        "\n",
        "1. Replace the first fully connected layer with a 2D convolution layer and adjust the input size of the remaining fully connected layer so that it fits the new input. Does the performance change?\n",
        "(try num_filters=16 and filter_size=5 as a starting point).\n",
        "You can define a conv-layers using the following code:\n",
        "\n",
        "```\n",
        "self.conv1 = nn.Conv2d(in_channels=<in_channels>, out_channels=<out_channels>, kernel_size=<kernel_size>)\n",
        "```\n",
        "\n",
        "2. After the convolution layer, the size of the input is reduced by `(heigh-1,width-1)` pixels, where `(height,width)` is the filter size. This limits the number of convolutional layers that can be stacked.\n",
        "Try adding adequate padding to the convolutional layer to retain the spatial dimensions.\n",
        "\n",
        "3. Try adding more convolution layers and see if you can increase the performance.\n",
        "\n",
        "4. Increasing the number of convolutions also increases the number of calculations. Try adding a $2\\times 2$ max-pool layer after your convolution to decrease the size of the feature-map, while keeping the important features.\n",
        "\n",
        "    You can define a pooling layer using the following code:\n",
        "\n",
        "```\n",
        "self.pool = nn.MaxPool2d(kernel_size=<kernel_size>, stride=<stride>)\n",
        "```\n",
        "\n",
        "5. Try experimenting with more convolutional layers and pooling layers and see how it influences the performance.\n",
        "\n",
        "\n",
        "  <pre>\n",
        "\n",
        "\n",
        "\n",
        "\n",
        "\n",
        "\n",
        "</pre>"
      ]
    },
    {
      "cell_type": "markdown",
      "metadata": {
        "id": "Aihme2io-oVT"
      },
      "source": [
        "# Let's try using RGB images\n",
        "## Data: CIFAR-10\n",
        "\n",
        "The CIFAR-10 dataset (Canadian Institute For Advanced Research) is a collection of images that are commonly used to train machine learning and computer vision algorithms.\n",
        "You can see it as a \"Color-MNIST\" dataset.\n",
        "\n",
        "The CIFAR-10 dataset contains 60,000 32x32 color images in 10 different classes. The 10 different classes represent airplanes, cars, birds, cats, deer, dogs, frogs, horses, ships, and trucks. There are 6,000 images of each class. (https://en.wikipedia.org/wiki/CIFAR-10)\n",
        "\n",
        "The following code will set up a dataloader that processes images and create mini-batches"
      ]
    },
    {
      "cell_type": "code",
      "metadata": {
        "id": "fqTzwYxW-oVT",
        "colab": {
          "base_uri": "https://localhost:8080/",
          "height": 101,
          "referenced_widgets": [
            "54d00abce10f4734b877b301bcb97ca5",
            "e156ed8a1a47432a8398b7395ef8f5d2",
            "42705b9896294e4ab27ce326986ff547",
            "199344b6440447f5a47cbeecb5332a2f",
            "cec0467824894134afec806d373f2f22",
            "751825fb4a5344bbab3145631cdc5342",
            "9cc54c5599704d2199d062114073db29",
            "d44f3de3896646b3b88b9f67c58fe9aa",
            "549657e9292744aea6d883e44e15b41b",
            "5f70e1d7de7a4853b81b7ceebcc7d7ff",
            "81f80b64ebe541eab4d8cbedff7bf990"
          ]
        },
        "outputId": "aa3508bd-ab4d-4f2d-8da3-922a5d210707"
      },
      "source": [
        "# Load CIFAR-10 and set-up dataloaders. PyTorch has helper-functions for downloading the dataset the first time it is used.\n",
        "import torch\n",
        "import torchvision\n",
        "import torchvision.transforms as transforms\n",
        "\n",
        "# Transforms are common image transformations, that can be stacked and used for preprocessing images.\n",
        "# Here, our preprocessing consists of converting the data to torch tensors and normalizing the data\n",
        "# with 0.5 mean and 0.5 std. diviation for all three channels\n",
        "transform = transforms.Compose(\n",
        "    [transforms.ToTensor(),\n",
        "     transforms.Normalize((0.5, 0.5, 0.5), (0.5, 0.5, 0.5))])\n",
        "\n",
        "batch_size = 4\n",
        "\n",
        "\n",
        "# Set up the training set. The data-set helper function already implemented a data-split\n",
        "trainset = torchvision.datasets.CIFAR10(root='./data', train=True,\n",
        "                                        download=True, transform=transform)\n",
        "trainloader = torch.utils.data.DataLoader(trainset, batch_size=batch_size,\n",
        "                                          shuffle=True, num_workers=2)\n",
        "\n",
        "# Set up the test set. The data-set helper function already implemented a data-split\n",
        "testset = torchvision.datasets.CIFAR10(root='./data', train=False,\n",
        "                                       download=True, transform=transform)\n",
        "testloader = torch.utils.data.DataLoader(testset, batch_size=batch_size,\n",
        "                                         shuffle=False, num_workers=2)\n",
        "\n",
        "# The CIFAR-10 Classes\n",
        "classes = ('plane', 'car', 'bird', 'cat', 'deer', 'dog', 'frog', 'horse', 'ship', 'truck')"
      ],
      "execution_count": null,
      "outputs": [
        {
          "output_type": "stream",
          "name": "stdout",
          "text": [
            "Downloading https://www.cs.toronto.edu/~kriz/cifar-10-python.tar.gz to ./data/cifar-10-python.tar.gz\n"
          ]
        },
        {
          "output_type": "display_data",
          "data": {
            "text/plain": [
              "  0%|          | 0/170498071 [00:00<?, ?it/s]"
            ],
            "application/vnd.jupyter.widget-view+json": {
              "version_major": 2,
              "version_minor": 0,
              "model_id": "54d00abce10f4734b877b301bcb97ca5"
            }
          },
          "metadata": {}
        },
        {
          "output_type": "stream",
          "name": "stdout",
          "text": [
            "Extracting ./data/cifar-10-python.tar.gz to ./data\n",
            "Files already downloaded and verified\n"
          ]
        }
      ]
    },
    {
      "cell_type": "markdown",
      "metadata": {
        "id": "F4dwgjMq-oVU"
      },
      "source": [
        "## Data visalization\n",
        "Let's visualize some of the images from CIFAR-10"
      ]
    },
    {
      "cell_type": "code",
      "metadata": {
        "id": "05iVZnJg-oVU",
        "colab": {
          "base_uri": "https://localhost:8080/",
          "height": 155
        },
        "outputId": "69fcb088-dc98-4849-b152-f0b8c3daf878"
      },
      "source": [
        "import matplotlib.pyplot as plt\n",
        "import numpy as np\n",
        "\n",
        "# functions to show an image\n",
        "def imshow(img):\n",
        "    img = img / 2 + 0.5     # unnormalize\n",
        "    npimg = img.numpy()\n",
        "    plt.imshow(np.transpose(npimg, (1, 2, 0)))\n",
        "    plt.show()\n",
        "\n",
        "\n",
        "# get some random training images\n",
        "dataiter = iter(trainloader)\n",
        "images, labels = dataiter.next()\n",
        "\n",
        "# show images\n",
        "imshow(torchvision.utils.make_grid(images))\n",
        "# print labels\n",
        "print(' '.join('%5s' % classes[labels[j]] for j in range(batch_size)))"
      ],
      "execution_count": null,
      "outputs": [
        {
          "output_type": "display_data",
          "data": {
            "text/plain": [
              "<Figure size 432x288 with 1 Axes>"
            ],
            "image/png": "[encoded data removed]"
          },
          "metadata": {
            "needs_background": "light"
          }
        },
        {
          "output_type": "stream",
          "name": "stdout",
          "text": [
            " frog  deer truck   car\n"
          ]
        }
      ]
    },
    {
      "cell_type": "markdown",
      "metadata": {
        "id": "urQ4RtDY-oVV"
      },
      "source": [
        "## Exercise 2.1: Define a simple neural network\n",
        "\n",
        "\n",
        "\n",
        "__Exercise__: Define a convolutional neural network. Start out with a small network and test that everything is working. Then start adding more layers. Remember that the output should be a vector with 10 indices.\n",
        "Try adding both conv-layers, pooling layers, fully-connected layers and activations\n",
        "\n",
        "A reasonable architecture could be:\n",
        "\n",
        "| Layer type   | size    | Output channels  | Stride |\n",
        "|--------------|---------|------------------|--------|\n",
        "| conv         | 5x5     | 6                | 1      |\n",
        "| pool         | 2x2     |                  | 2      |\n",
        "| conv         | 5x5     | 16               | 1      |\n",
        "| fully connected   |      | 120               |       |\n",
        "| fully connected   |      | 184               |       |\n",
        "| fully connected   |      | 10               |       |\n",
        "\n",
        "\n",
        "\n",
        "You can define a conv-layers and pooling layers using the following code:\n",
        "\n",
        "```\n",
        "self.conv1 = nn.Conv2d(in_channels=<in_channels>, out_channels=<out_channels>, kernel_size=<kernel_size>)\n",
        "self.pool = nn.MaxPool2d(kernel_size=<kernel_size>, stride=<stride>)\n",
        "```\n",
        "\n",
        "https://pytorch.org/docs/stable/generated/torch.nn.Conv2d.html\n",
        "\n",
        "https://pytorch.org/docs/stable/generated/torch.nn.MaxPool2d.html\n"
      ]
    },
    {
      "cell_type": "code",
      "source": [
        "for i, data in enumerate(trainloader, 0):\n",
        "  # get the inputs; data is a list of [inputs, labels]\n",
        "  inputs, labels = data\n",
        "  break\n",
        "inputs.size()"
      ],
      "metadata": {
        "colab": {
          "base_uri": "https://localhost:8080/"
        },
        "id": "qGzNpMnrtOFs",
        "outputId": "471d6a94-0f1c-40c2-cae9-3164904b74c8"
      },
      "execution_count": null,
      "outputs": [
        {
          "output_type": "execute_result",
          "data": {
            "text/plain": [
              "torch.Size([4, 3, 32, 32])"
            ]
          },
          "metadata": {},
          "execution_count": 3
        }
      ]
    },
    {
      "cell_type": "code",
      "metadata": {
        "id": "wTKe-6nW-oVV",
        "colab": {
          "base_uri": "https://localhost:8080/"
        },
        "outputId": "c71a6ca4-9829-4e44-e62d-b59bb248d8dc"
      },
      "source": [
        "import torch.nn as nn\n",
        "import torch.nn.functional as F\n",
        "\n",
        "num_classes= 10\n",
        "\n",
        "\n",
        "class Net(nn.Module):\n",
        "    def __init__(self):\n",
        "        super().__init__()\n",
        "        self.conv1 = nn.Conv2d(in_channels= 3, out_channels= 6, kernel_size= 5, padding= 'same', stride= 1)\n",
        "        self.conv2 = nn.Conv2d(in_channels= 6, out_channels= 16, kernel_size= 5, padding= 'same', stride= 1)\n",
        "        self.pool = nn.MaxPool2d(kernel_size= 2, stride= 2, padding= 1)\n",
        "        self.FC1 = nn.Linear(4624, 120)\n",
        "\n",
        "        # No global pooling\n",
        "        # self.FC2 = nn.Linear(120, 184)\n",
        "\n",
        "        self.FC2 = nn.Linear(400, 184)\n",
        "        self.FC3 = nn.Linear(184, num_classes)\n",
        "        self.flatten = nn.Flatten(1,3)\n",
        "        self.averPool = nn.AdaptiveAvgPool2d(5)\n",
        "\n",
        "    def forward(self, x):\n",
        "\n",
        "        # print (x.size())\n",
        "        x= self.conv1(x)\n",
        "        x = F.leaky_relu(x)\n",
        "        x= self.pool(x)\n",
        "        x= self.conv2(x)\n",
        "        x = F.relu(x)\n",
        "        # No global pooling\n",
        "        # x = self.flatten(x)\n",
        "        # x = self.FC1(x)\n",
        "\n",
        "        x= self.averPool(x)\n",
        "        x = torch.flatten(x, 1)\n",
        "        x = self.FC2(x)\n",
        "        x = F.relu(x)\n",
        "        x = self.FC3(x)\n",
        "        return x\n",
        "\n",
        "net = Net()\n",
        "print(net)"
      ],
      "execution_count": null,
      "outputs": [
        {
          "output_type": "stream",
          "name": "stdout",
          "text": [
            "Net(\n",
            "  (conv1): Conv2d(3, 6, kernel_size=(5, 5), stride=(1, 1), padding=same)\n",
            "  (conv2): Conv2d(6, 16, kernel_size=(5, 5), stride=(1, 1), padding=same)\n",
            "  (pool): MaxPool2d(kernel_size=2, stride=2, padding=1, dilation=1, ceil_mode=False)\n",
            "  (FC1): Linear(in_features=4624, out_features=120, bias=True)\n",
            "  (FC2): Linear(in_features=400, out_features=184, bias=True)\n",
            "  (FC3): Linear(in_features=184, out_features=10, bias=True)\n",
            "  (flatten): Flatten(start_dim=1, end_dim=3)\n",
            "  (averPool): AdaptiveAvgPool2d(output_size=5)\n",
            ")\n"
          ]
        }
      ]
    },
    {
      "cell_type": "code",
      "source": [
        "# test the net\n",
        "x = np.random.randn(4, 3, 32, 32).astype('float32')\n",
        "out = net(torch.from_numpy(x))\n",
        "print('Output shape:', out.shape)\n",
        "print('Output tensor:')\n",
        "out"
      ],
      "metadata": {
        "colab": {
          "base_uri": "https://localhost:8080/"
        },
        "id": "efgxKG9TskIz",
        "outputId": "b9f611df-e3a8-41e3-a996-21c23bdef519"
      },
      "execution_count": null,
      "outputs": [
        {
          "output_type": "stream",
          "name": "stdout",
          "text": [
            "Output shape: torch.Size([4, 10])\n",
            "Output tensor:\n"
          ]
        },
        {
          "output_type": "execute_result",
          "data": {
            "text/plain": [
              "tensor([[ 0.1513,  0.1870,  0.0733, -0.0552, -0.1653, -0.0917, -0.0316,  0.1377,\n",
              "          0.0828, -0.0009],\n",
              "        [ 0.1548,  0.2004,  0.0657, -0.0730, -0.1663, -0.0749, -0.0456,  0.1271,\n",
              "          0.0626, -0.0095],\n",
              "        [ 0.1329,  0.1886,  0.0725, -0.0610, -0.1642, -0.0854, -0.0446,  0.1108,\n",
              "          0.0672, -0.0052],\n",
              "        [ 0.1288,  0.1936,  0.0685, -0.0565, -0.1764, -0.0891, -0.0541,  0.1365,\n",
              "          0.0766,  0.0024]], grad_fn=<AddmmBackward0>)"
            ]
          },
          "metadata": {},
          "execution_count": 5
        }
      ]
    },
    {
      "cell_type": "markdown",
      "metadata": {
        "id": "zrBCQQd5-oVW"
      },
      "source": [
        "## Defining a loss-function\n",
        "\n",
        "Let’s use a Classification Cross-Entropy loss and SGD with momentum.\n",
        "Our labels are one-hot encoded, which means that for each image, we have a target vector with 10 entries (one for each class).\n",
        "This target vector contains only zeros except for the entry of the class to which the image belongs.\n",
        "\n",
        "\\begin{equation}\n",
        "H(y,\\hat y) = -\\sum_j y_j \\cdot log(\\hat y_j)\n",
        "\\end{equation}\n",
        "\n",
        "where\n",
        "\n",
        "$j=(1,2,...,n_{classes})$ and $\\hat y=\\begin{cases}\n",
        "      1 & j=\\text{true class}\\\\\n",
        "      0 & \\text{otherwise}\n",
        "    \\end{cases}     $\n"
      ]
    },
    {
      "cell_type": "code",
      "metadata": {
        "id": "Ei54jAWZ-oVW"
      },
      "source": [
        "import torch.optim as optim\n",
        "\n",
        "criterion = nn.CrossEntropyLoss()\n",
        "optimizer = optim.SGD(net.parameters(), lr=0.001, momentum=0.9) # Let's use stocastic gradient descent (We will talk about momentum next week)"
      ],
      "execution_count": null,
      "outputs": []
    },
    {
      "cell_type": "code",
      "source": [
        "gpu_avail = torch.cuda.is_available()\n",
        "print(f\"Is the GPU available? {gpu_avail}\")\n",
        "device = torch.device(\"cuda:0\" if torch.cuda.is_available() else \"cpu\")\n",
        "print (torch.version.cuda)\n",
        "print(\"Device\", device)"
      ],
      "metadata": {
        "colab": {
          "base_uri": "https://localhost:8080/"
        },
        "id": "Y8pQOsji6OJ8",
        "outputId": "47a44dcb-b375-4f33-bbd1-460ee315b71a"
      },
      "execution_count": null,
      "outputs": [
        {
          "output_type": "stream",
          "name": "stdout",
          "text": [
            "Is the GPU available? True\n",
            "11.3\n",
            "Device cuda:0\n"
          ]
        }
      ]
    },
    {
      "cell_type": "code",
      "source": [
        "net.to(device)"
      ],
      "metadata": {
        "colab": {
          "base_uri": "https://localhost:8080/"
        },
        "id": "6pbrwkqG8k7z",
        "outputId": "a1a0a111-57ff-4009-d9a2-2d19eae52767"
      },
      "execution_count": null,
      "outputs": [
        {
          "output_type": "execute_result",
          "data": {
            "text/plain": [
              "Net(\n",
              "  (conv1): Conv2d(3, 6, kernel_size=(5, 5), stride=(1, 1), padding=same)\n",
              "  (conv2): Conv2d(6, 16, kernel_size=(5, 5), stride=(1, 1), padding=same)\n",
              "  (pool): MaxPool2d(kernel_size=2, stride=2, padding=1, dilation=1, ceil_mode=False)\n",
              "  (FC1): Linear(in_features=4624, out_features=120, bias=True)\n",
              "  (FC2): Linear(in_features=400, out_features=184, bias=True)\n",
              "  (FC3): Linear(in_features=184, out_features=10, bias=True)\n",
              "  (flatten): Flatten(start_dim=1, end_dim=3)\n",
              "  (averPool): AdaptiveAvgPool2d(output_size=5)\n",
              ")"
            ]
          },
          "metadata": {},
          "execution_count": 8
        }
      ]
    },
    {
      "cell_type": "markdown",
      "metadata": {
        "id": "36KRYYot-oVW"
      },
      "source": [
        "## Train the network\n",
        "\n",
        "This is when things start to get interesting. We simply have to loop over our data iterator, and feed the inputs to the network and optimize."
      ]
    },
    {
      "cell_type": "code",
      "metadata": {
        "id": "DFDqoZL6-oVW",
        "colab": {
          "base_uri": "https://localhost:8080/"
        },
        "outputId": "59a526c9-80e7-48a7-fb14-0395fca4bd52"
      },
      "source": [
        "nEpocs = 10 # How many times should we run over the data set?\n",
        "\n",
        "for epoch in range(nEpocs):  # loop over the dataset multiple times\n",
        "\n",
        "    running_loss = 0.0\n",
        "    for i, data in enumerate(trainloader, 0):\n",
        "        # get the inputs; data is a list of [inputs, labels]\n",
        "        inputs, labels = data\n",
        "\n",
        "        #GPU\n",
        "        inputs= inputs.to(device)\n",
        "        labels= labels.to(device)\n",
        "\n",
        "        # zero the parameter gradients\n",
        "        optimizer.zero_grad()\n",
        "\n",
        "        # forward + backward + optimize + GPU\n",
        "        outputs = net(inputs)\n",
        "        loss = criterion(outputs, labels)\n",
        "        loss.backward()\n",
        "        optimizer.step()\n",
        "\n",
        "        # print statistics\n",
        "        running_loss += loss.item()\n",
        "        if i % 2000 == 1999:    # print every 2000 mini-batches\n",
        "            print('Epoch %d, iteration %5d, Train loss: %.3f' %\n",
        "                  (epoch + 1, i + 1, running_loss / 2000))\n",
        "\n",
        "            running_loss = 0.0\n",
        "\n",
        "torch.cuda.synchronize()\n",
        "print('Finished Training')"
      ],
      "execution_count": null,
      "outputs": [
        {
          "output_type": "stream",
          "name": "stdout",
          "text": [
            "Epoch 1, iteration  2000, Train loss: 1.829\n",
            "Epoch 1, iteration  4000, Train loss: 1.633\n",
            "Epoch 1, iteration  6000, Train loss: 1.548\n",
            "Epoch 1, iteration  8000, Train loss: 1.470\n",
            "Epoch 1, iteration 10000, Train loss: 1.449\n",
            "Epoch 1, iteration 12000, Train loss: 1.409\n",
            "Epoch 2, iteration  2000, Train loss: 1.345\n",
            "Epoch 2, iteration  4000, Train loss: 1.295\n",
            "Epoch 2, iteration  6000, Train loss: 1.256\n",
            "Epoch 2, iteration  8000, Train loss: 1.230\n",
            "Epoch 2, iteration 10000, Train loss: 1.221\n",
            "Epoch 2, iteration 12000, Train loss: 1.182\n",
            "Epoch 3, iteration  2000, Train loss: 1.132\n",
            "Epoch 3, iteration  4000, Train loss: 1.115\n",
            "Epoch 3, iteration  6000, Train loss: 1.101\n",
            "Epoch 3, iteration  8000, Train loss: 1.092\n",
            "Epoch 3, iteration 10000, Train loss: 1.085\n",
            "Epoch 3, iteration 12000, Train loss: 1.056\n",
            "Epoch 4, iteration  2000, Train loss: 0.993\n",
            "Epoch 4, iteration  4000, Train loss: 1.010\n",
            "Epoch 4, iteration  6000, Train loss: 0.988\n",
            "Epoch 4, iteration  8000, Train loss: 0.984\n",
            "Epoch 4, iteration 10000, Train loss: 0.982\n",
            "Epoch 4, iteration 12000, Train loss: 0.984\n",
            "Epoch 5, iteration  2000, Train loss: 0.918\n",
            "Epoch 5, iteration  4000, Train loss: 0.911\n",
            "Epoch 5, iteration  6000, Train loss: 0.917\n",
            "Epoch 5, iteration  8000, Train loss: 0.911\n",
            "Epoch 5, iteration 10000, Train loss: 0.939\n",
            "Epoch 5, iteration 12000, Train loss: 0.926\n",
            "Epoch 6, iteration  2000, Train loss: 0.872\n",
            "Epoch 6, iteration  4000, Train loss: 0.855\n",
            "Epoch 6, iteration  6000, Train loss: 0.850\n",
            "Epoch 6, iteration  8000, Train loss: 0.865\n",
            "Epoch 6, iteration 10000, Train loss: 0.860\n",
            "Epoch 6, iteration 12000, Train loss: 0.868\n",
            "Epoch 7, iteration  2000, Train loss: 0.794\n",
            "Epoch 7, iteration  4000, Train loss: 0.797\n",
            "Epoch 7, iteration  6000, Train loss: 0.794\n",
            "Epoch 7, iteration  8000, Train loss: 0.816\n",
            "Epoch 7, iteration 10000, Train loss: 0.823\n",
            "Epoch 7, iteration 12000, Train loss: 0.841\n",
            "Epoch 8, iteration  2000, Train loss: 0.745\n",
            "Epoch 8, iteration  4000, Train loss: 0.773\n",
            "Epoch 8, iteration  6000, Train loss: 0.753\n",
            "Epoch 8, iteration  8000, Train loss: 0.764\n",
            "Epoch 8, iteration 10000, Train loss: 0.783\n",
            "Epoch 8, iteration 12000, Train loss: 0.782\n",
            "Epoch 9, iteration  2000, Train loss: 0.686\n",
            "Epoch 9, iteration  4000, Train loss: 0.715\n",
            "Epoch 9, iteration  6000, Train loss: 0.743\n",
            "Epoch 9, iteration  8000, Train loss: 0.717\n",
            "Epoch 9, iteration 10000, Train loss: 0.751\n",
            "Epoch 9, iteration 12000, Train loss: 0.749\n",
            "Epoch 10, iteration  2000, Train loss: 0.664\n",
            "Epoch 10, iteration  4000, Train loss: 0.676\n",
            "Epoch 10, iteration  6000, Train loss: 0.678\n",
            "Epoch 10, iteration  8000, Train loss: 0.715\n",
            "Epoch 10, iteration 10000, Train loss: 0.706\n",
            "Epoch 10, iteration 12000, Train loss: 0.714\n",
            "Finished Training\n"
          ]
        }
      ]
    },
    {
      "cell_type": "markdown",
      "metadata": {
        "id": "JMU5zZ0F-oVX"
      },
      "source": [
        "## Save the models"
      ]
    },
    {
      "cell_type": "code",
      "metadata": {
        "id": "4W6G9Ti8-oVX"
      },
      "source": [
        "MODEL_PATH = './cifar_net.pth'\n",
        "torch.save(net.state_dict(), MODEL_PATH)"
      ],
      "execution_count": null,
      "outputs": []
    },
    {
      "cell_type": "markdown",
      "metadata": {
        "id": "2QOJ6ZnD-oVX"
      },
      "source": [
        "## Test the network on the test data\n",
        "\n",
        "We have trained the network for 2 passes over the training dataset. But we need to check if the network has learnt anything at all.\n",
        "\n",
        "We will check this by predicting the class label that the neural network outputs, and checking it against the ground-truth. If the prediction is correct, we add the sample to the list of correct predictions.\n",
        "\n",
        "Okay, first step. Let us display an image from the test set to get familiar."
      ]
    },
    {
      "cell_type": "code",
      "metadata": {
        "id": "9zCLxjeG-oVX",
        "colab": {
          "base_uri": "https://localhost:8080/",
          "height": 155
        },
        "outputId": "b6fe530e-6f0d-455d-a634-7fda2db205aa"
      },
      "source": [
        "dataiter = iter(testloader)\n",
        "images, labels = dataiter.next()\n",
        "\n",
        "# print images\n",
        "imshow(torchvision.utils.make_grid(images))\n",
        "print('GroundTruth: ', ' '.join('%5s' % classes[labels[j]] for j in range(4)))"
      ],
      "execution_count": null,
      "outputs": [
        {
          "output_type": "display_data",
          "data": {
            "text/plain": [
              "<Figure size 432x288 with 1 Axes>"
            ],
            "image/png": "[encoded data removed]"
          },
          "metadata": {
            "needs_background": "light"
          }
        },
        {
          "output_type": "stream",
          "name": "stdout",
          "text": [
            "GroundTruth:    cat  ship  ship plane\n"
          ]
        }
      ]
    },
    {
      "cell_type": "markdown",
      "metadata": {
        "id": "j6MYS7hB-oVY"
      },
      "source": [
        "## Loading the model\n",
        "\n",
        "Let's load the model, we just saved. Since the weights are already set, we don't need this step, but in the future, you can skip the training pass, and just load the weights, you just trained. This is also used when doing _transfer learning_, which will be covered in a future lecture"
      ]
    },
    {
      "cell_type": "code",
      "metadata": {
        "id": "I4BxnfOw-oVY",
        "colab": {
          "base_uri": "https://localhost:8080/"
        },
        "outputId": "c99cc4b6-4e59-43f9-ca77-0a12d9ebb3c2"
      },
      "source": [
        "net = Net()\n",
        "net.load_state_dict(torch.load(MODEL_PATH))"
      ],
      "execution_count": null,
      "outputs": [
        {
          "output_type": "execute_result",
          "data": {
            "text/plain": [
              "<All keys matched successfully>"
            ]
          },
          "metadata": {},
          "execution_count": 18
        }
      ]
    },
    {
      "cell_type": "markdown",
      "metadata": {
        "id": "EJW1Gh27-oVY"
      },
      "source": [
        "## Test the model\n",
        "Let's classify the images, we just displayed above:"
      ]
    },
    {
      "cell_type": "code",
      "metadata": {
        "id": "5naZyD2E-oVZ"
      },
      "source": [
        "outputs = net(images)"
      ],
      "execution_count": null,
      "outputs": []
    },
    {
      "cell_type": "markdown",
      "metadata": {
        "id": "rMlKt9Vu-oVZ"
      },
      "source": [
        "The output of the network is the raw scores for the 10 classes. In the current network, these scores are unbounded. The higher the score for a class, the more the network thinks that the image is of the particular class. So, let’s get the index of the highest score."
      ]
    },
    {
      "cell_type": "code",
      "metadata": {
        "id": "XHX7i37e-oVa",
        "colab": {
          "base_uri": "https://localhost:8080/"
        },
        "outputId": "3e33a87d-a1da-49fa-8254-1d1569eeb32f"
      },
      "source": [
        "_, predicted = torch.max(outputs, 1)\n",
        "\n",
        "print('Predicted: ', ' '.join('%5s' % classes[predicted[j]]\n",
        "                              for j in range(4)))"
      ],
      "execution_count": null,
      "outputs": [
        {
          "output_type": "stream",
          "name": "stdout",
          "text": [
            "Predicted:    cat   car  ship  ship\n"
          ]
        }
      ]
    },
    {
      "cell_type": "markdown",
      "metadata": {
        "id": "O3HFAgiZ-oVa"
      },
      "source": [
        "## How was the results?\n",
        "Let's iterate through all the test images and see the performance"
      ]
    },
    {
      "cell_type": "code",
      "metadata": {
        "id": "CORiH6Am-oVa",
        "colab": {
          "base_uri": "https://localhost:8080/"
        },
        "outputId": "20685787-9def-463c-efc7-ac865a506982"
      },
      "source": [
        "correct = 0\n",
        "total = 0\n",
        "# since we're not training, we don't need to calculate the gradients for our outputs\n",
        "with torch.no_grad():\n",
        "    for data in testloader:\n",
        "        images, labels = data\n",
        "        # calculate outputs by running images through the network\n",
        "        outputs = net(images)\n",
        "        # the class with the highest energy is what we choose as prediction\n",
        "        _, predicted = torch.max(outputs.data, 1)\n",
        "        total += labels.size(0)\n",
        "        correct += (predicted == labels).sum().item()\n",
        "\n",
        "print('Accuracy of the network on the 10000 test images: %d %%' % (\n",
        "    100 * correct / total))\n"
      ],
      "execution_count": null,
      "outputs": [
        {
          "output_type": "stream",
          "name": "stdout",
          "text": [
            "Accuracy of the network on the 10000 test images: 68 %\n"
          ]
        }
      ]
    },
    {
      "cell_type": "code",
      "source": [
        "import imageio"
      ],
      "metadata": {
        "id": "Wf6adlqSfUpJ"
      },
      "execution_count": null,
      "outputs": []
    },
    {
      "cell_type": "code",
      "source": [
        "im = imageio.imread('./mydata/dog.jpg').astype(np.float32)\n",
        "im = torch.from_numpy(im).permute(2,0,1).unsqueeze(0)\n",
        "\n",
        "print (im.size())\n",
        "im = im.permute(0, 2, 3,1)\n",
        "print (im.size())\n",
        "# im= im.squeeze()\n",
        "print (im.size())\n",
        "transform = transforms.Compose(\n",
        "    [transforms.Resize((1,1)),\n",
        "     transforms.Normalize((0.5, 0.5, 0.5), (0.5, 0.5, 0.5))])\n",
        "\n",
        "im = transform(im)\n",
        "print (im.size())\n",
        "output = net(im)\n",
        "print(classes[np.argmax(output.detach().numpy())])"
      ],
      "metadata": {
        "colab": {
          "base_uri": "https://localhost:8080/"
        },
        "id": "O8eFZg9lfFAQ",
        "outputId": "ab923023-669e-40b3-9d5c-f029863e543f"
      },
      "execution_count": null,
      "outputs": [
        {
          "output_type": "stream",
          "name": "stdout",
          "text": [
            "torch.Size([1, 1200, 3, 900])\n",
            "torch.Size([1, 3, 900, 1200])\n",
            "torch.Size([1, 3, 900, 1200])\n",
            "torch.Size([1, 3, 1, 1])\n",
            "frog\n"
          ]
        }
      ]
    },
    {
      "cell_type": "markdown",
      "metadata": {
        "id": "mZDulHIf-oVb"
      },
      "source": [
        "# Global average pooling\n",
        "\n",
        "Recall that global average pooling takes a `(height x width x channels_in)` volume and reduces it to a `channels_in`-dimensional vector by averaging the `height x width` values of each channel.\n",
        "\n",
        "Thus, we can replace the flatten layer and the first fully connected layer with a `(1 x 1 x channels_out)` convolution, followed by a global average pooling layer.\n",
        "The cool thing about global average pooling is that it works for all input sizes. If you consider the\n",
        "\n",
        "**Exercise**\n",
        "Your task is to replace your flatten layer and first final fully connected layer with global average pooling. In PyTorch, this is called\n",
        "`nn.AdaptiveAvgPool2d`\n",
        "https://pytorch.org/docs/stable/generated/torch.nn.AdaptiveAvgPool2d.html\n",
        "\n",
        "The output of `AdaptiveAvgPool` is still a 3D volume `(1 x 1 x channels_out)`, so you have to reshape it. You can use `x = torch.flatten(x, 1)` after `AdaptiveAvgPool` to convert the output to a 1D vector for each sample.\n",
        "\n",
        "Now try inputting an image larger than 32x32 pixels.\n",
        "\n",
        "You can input your own image using this code:\n",
        "\n",
        "```\n",
        "im = imageio.imread('horse.jpg').astype(np.float32)\n",
        "im = torch.from_numpy(im).permute(2,0,1).unsqueeze(0)\n",
        "\n",
        "transform = transforms.Compose(\n",
        "    [transforms.Resize((32,32)),\n",
        "     transforms.Normalize((0.5, 0.5, 0.5), (0.5, 0.5, 0.5))])\n",
        "\n",
        "im = transform(im)\n",
        "output = net(im)\n",
        "print(classes[np.argmax(output.detach().numpy())])\n",
        "```\n",
        "\n",
        "**Question** The network can only handle input images down to a certain shape (height/width).\n",
        "\n",
        " 1. Why?\n",
        "\n",
        " R1. Beacuse of the convolutional layers that reduce the dimension for the output layer\n",
        "\n",
        " 1. What is the smallest input width/height your model can handle?\n",
        "\n",
        " R2. Depends on the configuration of the network.\n",
        "\n",
        "\n"
      ]
    },
    {
      "cell_type": "markdown",
      "metadata": {
        "id": "9muknP8r-oVc"
      },
      "source": [
        "# EXTRA: Train on the GPU\n",
        "\n",
        "If you have a CUDA-enabled computer you can try training the network on the GPU to see a great speed-up. You have to move your network and your variables to the GPU's memory, which you can do by adding the following lines to your code:\n",
        "```\n",
        "device = torch.device(\"cuda:0\" if torch.cuda.is_available() else \"cpu\")\n",
        "net.to(device)\n",
        "```\n",
        "\n",
        "Remember that you will have to send the inputs and targets at every step to the GPU too:\n",
        "```\n",
        "inputs.to(device)\n",
        "labels.to(device)\n",
        "```\n",
        "\n",
        "When pulling data from the GPU, use the following commands:\n",
        "```\n",
        "myVar.cpu().detach().numpy()\n",
        "```"
      ]
    },
    {
      "cell_type": "markdown",
      "metadata": {
        "id": "xFX8ovCX-oVc"
      },
      "source": [
        "# EXTRA: Use your own data\n",
        "Try training a network on your own classes, e.g., cats and dogs. You can use the following library to scrape images from google image search.\n",
        "https://pypi.org/project/simple-image-download/\n",
        "\n",
        "A good starting point is to use the `ImageFolder` dataset, which lets you define an image dataset as folders with names that indicate labels.\n",
        "https://pytorch.org/tutorials/beginner/data_loading_tutorial.html\n",
        "\n",
        "You might also have to modify the `transformer`, which preprocesses the images. So far we have only used it to normalize images and convert them to tensors, but it can also be used to resize images (and much more):\n",
        "```\n",
        "transform = transforms.Compose(\n",
        "    [transforms.ToTensor(),\n",
        "     transforms.Resize((32,32)),\n",
        "     transforms.Normalize((0.5, 0.5, 0.5), (0.5, 0.5, 0.5))]).\n",
        "```"
      ]
    },
    {
      "cell_type": "code",
      "metadata": {
        "id": "3zzuBOhh-oVd"
      },
      "source": [],
      "execution_count": null,
      "outputs": []
    }
  ]
}