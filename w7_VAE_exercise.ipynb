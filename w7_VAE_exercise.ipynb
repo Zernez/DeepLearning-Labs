{
  "cells": [
    {
      "cell_type": "markdown",
      "metadata": {
        "id": "dGQcPAM1_pG8"
      },
      "source": [
        "## Credit\n",
        "This notebook is based on a notebook by Frederik Hvilshøj [[4]](#References), which was created as part of a talk he held Wednesday, December 19th 2018, in the ML Journal Club at the Engineering Department at Aarhus University. It is inspired the paper by Kingma and Welling [[1]](#References) and the tutorial by Doersch [[2]](#References).\n",
        "\n",
        "\n",
        "---\n",
        "\n",
        "\n",
        "\n",
        "\n",
        "# Variational Auto-encoders\n",
        "\n",
        "\n",
        "## Agenda\n",
        "1. Introduction\n",
        "2. Auto-encoders\n",
        "3. Variational Auto-encoders"
      ]
    },
    {
      "cell_type": "markdown",
      "metadata": {
        "id": "_bxR18Zt_pHA"
      },
      "source": [
        "## Introduction\n",
        "\n",
        "Deep neural networks is a class of very powerful models. In a usual scenario, we wish to approximate some function $f: X \\in \\mathbb{R}^{n \\times d} \\rightarrow Y \\in \\mathbb{R}^n$, from some data set $D = \\{(x_1, y_1), \\dots, (x_n, y_n)\\}$, where $x \\in X$ and $y \\in Y$. Typically, we train these networks by minimizing a loss function using mini-batch gradient descent on some loss function $\\mathcal{L}(\\Theta) = \\frac{1}{n} \\sum_{i =1}^n e(NN_\\Theta(x_i), y_i)$. Here, $\\Theta$ is the parameters of the neural network (NN) and $e$ is some error funtion.\n",
        "\n",
        "Let's see a small example"
      ]
    },
    {
      "cell_type": "code",
      "execution_count": null,
      "metadata": {
        "id": "3IfBA-FG_pHD",
        "colab": {
          "base_uri": "https://localhost:8080/",
          "height": 943,
          "referenced_widgets": [
            "45140082383a45048c146b6ef82e4773",
            "f6ef65641e854a588ff5889c34f03f4d",
            "fb8fb7a360b54f6297c826b85e598133",
            "5b4ac2f115e44309b8b7cf860d03c037",
            "505b959b80e24ce6bac6427a1c753b34",
            "4efbac2c82624e2baf592332c8980e26",
            "7dbb5c71a0db4ac8a174e5dca3be6327",
            "157f33281ba941899998dce374ca49e7",
            "e3276f89dcc04027a4cb853547e03aa4",
            "ac98ad57be794dd597d0421d4a7d0616",
            "509a95d47ae44e429ababebabf83cc7a",
            "89d9628027684315bb2bf1d4d61a980d",
            "853bbbe5b9fa4a579da64b2819a8202d",
            "b43c39a854a54313bc9d6964fb2e6a0c",
            "92cbc108993e4034a1aee14e0656fb7a",
            "71ece27851044c22b2ab39522cad25c1",
            "41cf0a46b1b440fc936c048813dbbd65",
            "93af680ae5d64c1db6e869c7c6a1f801",
            "a2ffc64320374fb2b2811d4f146ad233",
            "f571b175748b40b18d6b5875402761e2",
            "25b4072921e144fa9bbc7ac7bdacbd45",
            "8232e94d951940e1b21580e110b69abc",
            "f1b2164cb51b47d595d9b69c0082558b",
            "feb730ac6418479c8be3edd16c77895d",
            "e817a33bf98a491b98826e1d6799f78f",
            "c0bb44f295ff4522aa1f469c9b4e9173",
            "a2eb2caad791409bbc1962a224f555db",
            "dda5d7981d454a68818ccdbff78ba302",
            "784e70e649484993a4cd0f3ce3f43d29",
            "550b527b0b5743a99a84b8d622371c01",
            "2b4d5198c23c4a39b41e5184e51d8eec",
            "443b3f41c95d4e50b55ac6436ef72d46",
            "f4b1f6904fa944e78c2142b8a9457b92",
            "9734aba3ed474a0585c563062c2b6bfa",
            "e7bff59257234073b496e6ba3cddb147",
            "76f66575c1c74004bbac9e951c471e45",
            "226d33d994a347a4bfbca8f8f3139ea4",
            "f963dd4157c94bba996adf069d33dfcb",
            "bab7e190db6745f182cbf5c910785c80",
            "80ea4b4207b74f77acfe9a5c9392061d",
            "3e9f74cbb63747889c25b959752ec8d2",
            "f89585016404430fa4ef8324f1714b18",
            "2a2a5b049786480aac0d543b0c4a9e7a",
            "a2d7093317324d4c8739aef020e8fae6"
          ]
        },
        "outputId": "bafd9179-fb07-4867-c0d2-97b1fd9b9be1"
      },
      "outputs": [
        {
          "output_type": "stream",
          "name": "stdout",
          "text": [
            "Downloading http://yann.lecun.com/exdb/mnist/train-images-idx3-ubyte.gz\n",
            "Downloading http://yann.lecun.com/exdb/mnist/train-images-idx3-ubyte.gz to ./data/MNIST/raw/train-images-idx3-ubyte.gz\n"
          ]
        },
        {
          "output_type": "display_data",
          "data": {
            "text/plain": [
              "  0%|          | 0/9912422 [00:00<?, ?it/s]"
            ],
            "application/vnd.jupyter.widget-view+json": {
              "version_major": 2,
              "version_minor": 0,
              "model_id": "45140082383a45048c146b6ef82e4773"
            }
          },
          "metadata": {}
        },
        {
          "output_type": "stream",
          "name": "stdout",
          "text": [
            "Extracting ./data/MNIST/raw/train-images-idx3-ubyte.gz to ./data/MNIST/raw\n",
            "\n",
            "Downloading http://yann.lecun.com/exdb/mnist/train-labels-idx1-ubyte.gz\n",
            "Downloading http://yann.lecun.com/exdb/mnist/train-labels-idx1-ubyte.gz to ./data/MNIST/raw/train-labels-idx1-ubyte.gz\n"
          ]
        },
        {
          "output_type": "display_data",
          "data": {
            "text/plain": [
              "  0%|          | 0/28881 [00:00<?, ?it/s]"
            ],
            "application/vnd.jupyter.widget-view+json": {
              "version_major": 2,
              "version_minor": 0,
              "model_id": "89d9628027684315bb2bf1d4d61a980d"
            }
          },
          "metadata": {}
        },
        {
          "output_type": "stream",
          "name": "stdout",
          "text": [
            "Extracting ./data/MNIST/raw/train-labels-idx1-ubyte.gz to ./data/MNIST/raw\n",
            "\n",
            "Downloading http://yann.lecun.com/exdb/mnist/t10k-images-idx3-ubyte.gz\n",
            "Downloading http://yann.lecun.com/exdb/mnist/t10k-images-idx3-ubyte.gz to ./data/MNIST/raw/t10k-images-idx3-ubyte.gz\n"
          ]
        },
        {
          "output_type": "display_data",
          "data": {
            "text/plain": [
              "  0%|          | 0/1648877 [00:00<?, ?it/s]"
            ],
            "application/vnd.jupyter.widget-view+json": {
              "version_major": 2,
              "version_minor": 0,
              "model_id": "f1b2164cb51b47d595d9b69c0082558b"
            }
          },
          "metadata": {}
        },
        {
          "output_type": "stream",
          "name": "stdout",
          "text": [
            "Extracting ./data/MNIST/raw/t10k-images-idx3-ubyte.gz to ./data/MNIST/raw\n",
            "\n",
            "Downloading http://yann.lecun.com/exdb/mnist/t10k-labels-idx1-ubyte.gz\n",
            "Downloading http://yann.lecun.com/exdb/mnist/t10k-labels-idx1-ubyte.gz to ./data/MNIST/raw/t10k-labels-idx1-ubyte.gz\n"
          ]
        },
        {
          "output_type": "display_data",
          "data": {
            "text/plain": [
              "  0%|          | 0/4542 [00:00<?, ?it/s]"
            ],
            "application/vnd.jupyter.widget-view+json": {
              "version_major": 2,
              "version_minor": 0,
              "model_id": "9734aba3ed474a0585c563062c2b6bfa"
            }
          },
          "metadata": {}
        },
        {
          "output_type": "stream",
          "name": "stdout",
          "text": [
            "Extracting ./data/MNIST/raw/t10k-labels-idx1-ubyte.gz to ./data/MNIST/raw\n",
            "\n",
            "\n",
            "Test set: Average loss: 0.5189, Accuracy: 8757/10000 (88%)\n",
            "\n",
            "\n",
            "Test set: Average loss: 0.3783, Accuracy: 8997/10000 (90%)\n",
            "\n",
            "\n",
            "Test set: Average loss: 0.3327, Accuracy: 9070/10000 (91%)\n",
            "\n",
            "\n",
            "Test set: Average loss: 0.3048, Accuracy: 9147/10000 (91%)\n",
            "\n",
            "\n",
            "Test set: Average loss: 0.2890, Accuracy: 9203/10000 (92%)\n",
            "\n",
            "\n",
            "Test set: Average loss: 0.2710, Accuracy: 9249/10000 (92%)\n",
            "\n",
            "\n",
            "Test set: Average loss: 0.2585, Accuracy: 9271/10000 (93%)\n",
            "\n",
            "\n",
            "Test set: Average loss: 0.2469, Accuracy: 9309/10000 (93%)\n",
            "\n",
            "\n",
            "Test set: Average loss: 0.2364, Accuracy: 9335/10000 (93%)\n",
            "\n",
            "\n",
            "Test set: Average loss: 0.2262, Accuracy: 9373/10000 (94%)\n",
            "\n"
          ]
        }
      ],
      "source": [
        "from matplotlib import pyplot as plt\n",
        "import numpy as np\n",
        "import torch\n",
        "import torch.nn as nn\n",
        "import torch.nn.functional as F\n",
        "import torch.optim as optim\n",
        "from torchvision import datasets, transforms\n",
        "\n",
        "%matplotlib inline\n",
        "\n",
        "\n",
        "class Net(nn.Module):\n",
        "    def __init__(self):\n",
        "        super(Net, self).__init__()\n",
        "        self.fc1 = nn.Linear(784, 1000)\n",
        "        self.fc2 = nn.Linear(1000, 10)\n",
        "\n",
        "    def forward(self, x):\n",
        "        x = x.view(-1, 28**2)\n",
        "        x = F.relu(self.fc1(x))\n",
        "        x = self.fc2(x)\n",
        "        return F.log_softmax(x, dim=1)\n",
        "\n",
        "def train(model, train_loader, optimizer, epoch):\n",
        "    model.train()\n",
        "    for batch_idx, (data, target) in enumerate(train_loader):\n",
        "        optimizer.zero_grad()\n",
        "        output = model(data)\n",
        "        loss = F.nll_loss(output, target)\n",
        "        loss.backward()\n",
        "        optimizer.step()\n",
        "\n",
        "def test(model, test_loader):\n",
        "    model.eval()\n",
        "    test_loss = 0\n",
        "    correct = 0\n",
        "    with torch.no_grad():\n",
        "        for data, target in test_loader:\n",
        "            output = model(data)\n",
        "            test_loss += F.nll_loss(output, target, reduction='sum').item() # sum up batch loss\n",
        "            pred = output.max(1, keepdim=True)[1] # get the index of the max log-probability\n",
        "            correct += pred.eq(target.view_as(pred)).sum().item()\n",
        "\n",
        "    test_loss /= len(test_loader.dataset)\n",
        "\n",
        "    print('\\nTest set: Average loss: {:.4f}, Accuracy: {}/{} ({:.0f}%)\\n'.format(\n",
        "        test_loss, correct, len(test_loader.dataset),\n",
        "        100. * correct / len(test_loader.dataset)))\n",
        "\n",
        "\n",
        "batch_size = 120\n",
        "train_loader = torch.utils.data.DataLoader(\n",
        "    datasets.MNIST('./data', train=True, download=True,\n",
        "                   transform=transforms.Compose([\n",
        "                       transforms.ToTensor(),\n",
        "                       #transforms.Normalize((0.1307,), (0.3081,)),\n",
        "                       lambda x: x\n",
        "                   ])),\n",
        "    batch_size=batch_size, shuffle=True)\n",
        "\n",
        "test_loader = torch.utils.data.DataLoader(\n",
        "    datasets.MNIST('./data', train=False, transform=transforms.Compose([\n",
        "                       transforms.ToTensor(),\n",
        "                       #transforms.Normalize((0.1307,), (0.3081,)),\n",
        "                       #transforms.Normalize((0.1307,), (0.3081,)),\n",
        "                       lambda x: x\n",
        "                   ])),\n",
        "    batch_size=batch_size, shuffle=True)\n",
        "\n",
        "model = Net()\n",
        "optimizer = optim.SGD(model.parameters(), lr=1e-2, momentum=0.5)\n",
        "\n",
        "for epoch in range(1, 11):\n",
        "    train(model, train_loader, optimizer, epoch)\n",
        "    test(model, test_loader)"
      ]
    },
    {
      "cell_type": "markdown",
      "metadata": {
        "id": "AWjPxHFJ_pHJ"
      },
      "source": [
        "The approach shown above is typically used for classification or regression. In general, these approaches are known as discriminative models. There are also other usecases where we can set up a similar formulation of a loss function $\\mathcal{L}$ but with the intention of generating data from some distribution $p(x)$, i.e., generative models. For this purpose, there are two main directions. Namely, Generative Adversarial Networks (GANs) and Variational Auto-encoders (VAEs). In this note, we will explore the latter.\n",
        "\n",
        "To understand VAEs, we first need to understand auto-encoders in general."
      ]
    },
    {
      "cell_type": "markdown",
      "metadata": {
        "id": "SfUnJV_B_pHK"
      },
      "source": [
        "## Auto-encoders"
      ]
    },
    {
      "cell_type": "markdown",
      "metadata": {
        "id": "MhYDLipc_pHL"
      },
      "source": [
        "An auto-encoder is a very simple way of encoding data into some lower\n",
        "dimensional latent space. The idea is to change the error function to\n",
        "measure how well the model reconstructs the input to the model. One\n",
        "example could be:\n",
        "\n",
        "$$\n",
        "e(NN(x), x) = (NN(x) - x)^2\n",
        "$$\n",
        "\n",
        "Then we can learn an internal representation or _embedding_ of the data\n",
        "in the network by introducing a bottleneck in the data.\n",
        "\n",
        "![Standard Auto-encoder](autoencoder.png)\n",
        "\n",
        "Let's try this out."
      ]
    },
    {
      "cell_type": "markdown",
      "metadata": {
        "id": "-NEKQLsJ_pHN"
      },
      "source": [
        "**Your task:** Build an autoencoder with the following layers:\n",
        "\n",
        "Encoder and Decoder:\n",
        "\n",
        "| Layer type    | Input size     | Output size |\n",
        "|---------------|--------------|------------|\n",
        "| linear + relu | # of pixels      | 100    |\n",
        "| linear        | 100      | bottleneck_size    |\n",
        "| linear + relu | bottleneck_size      | 100    |\n",
        "| linear        | 100      | # of pixels    |\n",
        "\n",
        "**Questions**\n",
        "1. what layers belong to the encoder and what layers belong to the decoder?"
      ]
    },
    {
      "cell_type": "code",
      "source": [
        "for i, data in enumerate(train_loader, 0):\n",
        "  # get the inputs; data is a list of [inputs, labels]\n",
        "  inputs, labels = data\n",
        "  break\n",
        "inputs.size()"
      ],
      "metadata": {
        "colab": {
          "base_uri": "https://localhost:8080/"
        },
        "id": "PJAWt9CtnqXz",
        "outputId": "49128c0a-2af8-43f0-c7d0-74c6af3c34d5"
      },
      "execution_count": null,
      "outputs": [
        {
          "output_type": "execute_result",
          "data": {
            "text/plain": [
              "torch.Size([120, 1, 28, 28])"
            ]
          },
          "metadata": {},
          "execution_count": 2
        }
      ]
    },
    {
      "cell_type": "code",
      "execution_count": null,
      "metadata": {
        "id": "kvgeqLJV_pHO"
      },
      "outputs": [],
      "source": [
        "bottleneck_size = 2\n",
        "p_size= 28*28\n",
        "\n",
        "class AutoEncoder(nn.Module):\n",
        "    def __init__(self):\n",
        "        super(AutoEncoder, self).__init__()\n",
        "        # YOUR CODE STARTS HERE\n",
        "        self.FC1 = nn.Linear(p_size, 100)\n",
        "        self.FC2 = nn.Linear(100, bottleneck_size)\n",
        "        self.FC3 = nn.Linear(bottleneck_size, 100)\n",
        "        self.FC4 = nn.Linear(100, p_size)\n",
        "        # YOUR CODE ENDS HERE\n",
        "\n",
        "    def forward(self, x):\n",
        "        x = x.view(-1, 28**2)\n",
        "        x = self.encode(x)\n",
        "        x = self.decode(x)\n",
        "        return x\n",
        "\n",
        "    def encode(self, x):\n",
        "        # YOUR CODE STARTS HERE\n",
        "        x = x.view(-1, 28**2)\n",
        "        x = self.FC1(x)\n",
        "        x = F.relu(x)\n",
        "        x = self.FC2(x)\n",
        "        # YOUR CODE ENDS HERE\n",
        "        return x\n",
        "\n",
        "    def decode(self, x):\n",
        "        # YOUR CODE STARTS HERE\n",
        "        x = self.FC3(x)\n",
        "        x = F.relu(x)\n",
        "        x = self.FC4(x)\n",
        "        # YOUR CODE ENDS HERE\n",
        "        return x\n",
        "\n",
        "\n",
        "def draw(model):\n",
        "    img = model(X_test).detach().numpy()\n",
        "    img = img.reshape((-1, 28, 28)).transpose((1, 0, 2)).reshape(-1, 10*28)\n",
        "    #img = img * 0.3081 + 0.1307\n",
        "    axs[1].imshow(img, cmap='gray')\n",
        "    axs[1].set_title('reconstructed data')\n",
        "    fig.canvas.draw()\n",
        "\n",
        "def train(m, train_loader, optimizer, epoch, plot=None):\n",
        "    m.train()\n",
        "    for batch_idx, (data, target) in enumerate(train_loader):\n",
        "        optimizer.zero_grad()\n",
        "        output = m(data)\n",
        "        if batch_idx % 100 == 0:\n",
        "            draw(m)\n",
        "\n",
        "        # MSE Loss!\n",
        "        loss = F.mse_loss(output, data.view(-1, 28**2))\n",
        "        loss.backward()\n",
        "        optimizer.step()\n",
        "    print(f\"{epoch}: {loss}\")\n",
        "\n",
        "ae = AutoEncoder()"
      ]
    },
    {
      "cell_type": "code",
      "source": [
        "# test the net\n",
        "testData=torch.rand((120, 1, 28, 28))\n",
        "testNet=Net()\n",
        "testNet.forward(testData)"
      ],
      "metadata": {
        "colab": {
          "base_uri": "https://localhost:8080/"
        },
        "id": "WVS2EO4RoYKC",
        "outputId": "8db2d82e-4b5b-4d5f-d191-7a021bb0c318"
      },
      "execution_count": null,
      "outputs": [
        {
          "output_type": "execute_result",
          "data": {
            "text/plain": [
              "tensor([[-2.1504, -2.1708, -2.4176,  ..., -2.4776, -2.3625, -2.3624],\n",
              "        [-2.3884, -2.1502, -2.5410,  ..., -2.4681, -2.2742, -2.3273],\n",
              "        [-2.2098, -2.2533, -2.5064,  ..., -2.4002, -2.3468, -2.3233],\n",
              "        ...,\n",
              "        [-2.2370, -2.2211, -2.4945,  ..., -2.4993, -2.3368, -2.3104],\n",
              "        [-2.1961, -2.2896, -2.4112,  ..., -2.3499, -2.4193, -2.3368],\n",
              "        [-2.1719, -2.2965, -2.5581,  ..., -2.3893, -2.3086, -2.3871]],\n",
              "       grad_fn=<LogSoftmaxBackward0>)"
            ]
          },
          "metadata": {},
          "execution_count": 4
        }
      ]
    },
    {
      "cell_type": "markdown",
      "metadata": {
        "id": "VE-4zsay_pHQ"
      },
      "source": [
        "Training"
      ]
    },
    {
      "cell_type": "code",
      "execution_count": null,
      "metadata": {
        "id": "vejtBde5_pHT",
        "colab": {
          "base_uri": "https://localhost:8080/",
          "height": 371
        },
        "outputId": "5514ef6d-ae92-4ddf-c65c-d9ca4a256010"
      },
      "outputs": [
        {
          "output_type": "stream",
          "name": "stdout",
          "text": [
            "1: 0.08313655853271484\n",
            "2: 0.06702172011137009\n",
            "3: 0.06697338819503784\n",
            "4: 0.06610868126153946\n",
            "5: 0.06756249070167542\n",
            "6: 0.06632055342197418\n",
            "7: 0.06485507637262344\n",
            "8: 0.06396674364805222\n",
            "9: 0.06083081290125847\n",
            "10: 0.06457062065601349\n"
          ]
        },
        {
          "output_type": "display_data",
          "data": {
            "text/plain": [
              "<Figure size 576x216 with 2 Axes>"
            ],
            "image/png": "[encoded data removed]"
          },
          "metadata": {
            "needs_background": "light"
          }
        }
      ],
      "source": [
        "optimizer = optim.SGD(ae.parameters(), lr=1e-2, momentum=0.9)\n",
        "# optimizer = optim.Adam(ae.parameters(), lr=1e-2)\n",
        "\n",
        "# Prepare some plotting\n",
        "sample = next(iter(test_loader))\n",
        "X_test = sample[0][:10].view(-1, 28, 28)\n",
        "upper  = X_test.detach().numpy().transpose(1, 0, 2).reshape(-1, 10*28)\n",
        "\n",
        "fig, axs = plt.subplots(2, 1, figsize=(8,3))\n",
        "fig.show()\n",
        "axs[0].imshow(upper, cmap='gray')\n",
        "axs[0].set_title('real data')\n",
        "\n",
        "for epoch in range(1, 11):\n",
        "    train(ae, train_loader, optimizer, epoch)"
      ]
    },
    {
      "cell_type": "markdown",
      "metadata": {
        "id": "lx0r_L5-_pHV"
      },
      "source": [
        "Now we can compress images into a two dimensional space, where we can actually plot their position against each other. Let's do that."
      ]
    },
    {
      "cell_type": "code",
      "execution_count": null,
      "metadata": {
        "id": "qAS230HZ_pHW",
        "colab": {
          "base_uri": "https://localhost:8080/",
          "height": 352
        },
        "outputId": "cb26a2c6-04d3-431b-8443-5ad8c8df13d3"
      },
      "outputs": [
        {
          "output_type": "stream",
          "name": "stdout",
          "text": [
            "tensor([6, 4, 4, 1, 3, 7, 3, 5, 9, 6, 6, 5, 2, 8, 8, 5, 3, 3, 2, 8, 3, 5, 2, 2,\n",
            "        2, 9, 6, 0, 1, 9, 4, 4, 7, 9, 3, 2, 7, 1, 0, 0, 2, 6, 3, 2, 6, 4, 7, 7,\n",
            "        5, 7, 0, 3, 4, 8, 4, 5, 1, 1, 4, 2, 9, 9, 5, 7, 8, 1, 2, 5, 3, 1, 2, 3,\n",
            "        3, 4, 6, 5, 5, 3, 6, 3, 9, 0, 6, 3, 3, 3, 8, 5, 6, 7, 5, 2, 4, 9, 9, 3,\n",
            "        2, 6, 2, 0, 9, 5, 1, 7, 9, 9, 1, 8, 4, 5, 4, 1, 6, 2, 9, 2, 9, 8, 7, 9])\n"
          ]
        },
        {
          "output_type": "display_data",
          "data": {
            "text/plain": [
              "<Figure size 432x288 with 1 Axes>"
            ],
            "image/png": "[encoded data removed]"
          },
          "metadata": {
            "needs_background": "light"
          }
        }
      ],
      "source": [
        "# This import registers the 3D projection, but is otherwise unused.\n",
        "sample   = next(iter(train_loader))\n",
        "X_train  = sample[0].view(-1, 28, 28)\n",
        "embed    = ae.encode(X_train).detach().numpy()\n",
        "\n",
        "print(sample[1])\n",
        "\n",
        "\n",
        "fig = plt.figure()\n",
        "ax = fig.add_subplot(111)\n",
        "ax.scatter(embed[:,0], embed[:,1], c=sample[1], cmap='Paired')\n",
        "\n",
        "plt.savefig('Autoencoder.pdf')"
      ]
    },
    {
      "cell_type": "markdown",
      "metadata": {
        "id": "wVykm5au_pHX"
      },
      "source": [
        "This is okay but there is no clear relation between the classes and the embeddings. Okay, there are some tendencies, but it is not easy to generate new data. We could try though."
      ]
    },
    {
      "cell_type": "code",
      "execution_count": null,
      "metadata": {
        "id": "w3qvCem1_pHY",
        "colab": {
          "base_uri": "https://localhost:8080/",
          "height": 113
        },
        "outputId": "b05c82eb-aef7-4c07-c1c1-404644cd5d01"
      },
      "outputs": [
        {
          "output_type": "execute_result",
          "data": {
            "text/plain": [
              "<matplotlib.image.AxesImage at 0x7f1a032e2050>"
            ]
          },
          "metadata": {},
          "execution_count": 7
        },
        {
          "output_type": "display_data",
          "data": {
            "text/plain": [
              "<Figure size 576x108 with 1 Axes>"
            ],
            "image/png": "[encoded data removed]"
          },
          "metadata": {
            "needs_background": "light"
          }
        }
      ],
      "source": [
        "samples = np.zeros((10, 2))\n",
        "for i in range(10):\n",
        "    sel = sample[1] == i\n",
        "    mu  = np.mean(embed[sel], axis=0)\n",
        "    var = np.var(embed[sel], axis=0)\n",
        "    samples[i] = np.random.multivariate_normal(mu, np.diag(var))\n",
        "\n",
        "# samples = np.random.normal(mu, np.diag(std), (10, 3))\n",
        "generated = ae.decode(torch.from_numpy(samples).float())\n",
        "\n",
        "fig, ax = plt.subplots(figsize=(8,1.5))\n",
        "\n",
        "img = generated.detach().numpy()\n",
        "img = img.reshape((-1, 28, 28)).transpose((1, 0, 2)).reshape(-1, 10*28)\n",
        "#img = img * 0.3081 + 0.1307\n",
        "ax.imshow(img, cmap='gray')\n"
      ]
    },
    {
      "cell_type": "markdown",
      "metadata": {
        "id": "6oU-PUBy_pHZ"
      },
      "source": [
        "## Variational Auto-encoders\n"
      ]
    },
    {
      "cell_type": "markdown",
      "metadata": {
        "id": "mjwhx1c7_pHa"
      },
      "source": [
        "The motivation is now to find a way to make the embeddings more structured. Here, we refer to structure as a simple distribution, that can easily be sampled from."
      ]
    },
    {
      "cell_type": "markdown",
      "metadata": {
        "id": "ZZz12Sn7_pHp"
      },
      "source": [
        "Up til now, we have considered auto-encoders consisting of two components.\n",
        "\n",
        "1. An encoder $P(z | x)$, that approximates some unknown prior distribution $P(z | X)$\n",
        "2. A decoder $P(X | z)$, that approximately decodes the latent variables, $z$,  into the space of $X$.\n",
        "\n",
        "The idea of VAE is to infer $P(z)$ using $P(z|X)$. I.e., we want to make our latent variable likely under our data.\n",
        "We do this by modeling the true distribution $P(z|X)$ using a simpler distribution that is easy to evaluate, e.g. Gaussian, and minimize the difference between those two distribution using KL divergence."
      ]
    },
    {
      "cell_type": "markdown",
      "metadata": {
        "id": "lOAbozu9_pHq"
      },
      "source": [
        "**Your task**\n",
        "\n",
        "The loss function is composed of two terms:\n",
        "1. *Reconstruction term* on the final layer.\n",
        "    * This term helps making the encoding-decoding scheme as performant as possible. You could use mean-square error,\n",
        "    \n",
        "    $L_{recon} = \\left \\| x-\\hat x \\right \\|_2^2$\n",
        "    \n",
        "1. *Regularisation term*  on the latent layer.\n",
        "    * Regularise the organisation of the latent space by making the distributions returned by the encoder close to a standard normal distribution.\n",
        "    * Expressed as the Kulback-Leibler divergence between the returned distribution and a standard Gaussian"
      ]
    },
    {
      "cell_type": "markdown",
      "metadata": {
        "id": "DCEhZ0Eq_pHr"
      },
      "source": [
        "### Using Neural Networks\n"
      ]
    },
    {
      "cell_type": "code",
      "execution_count": null,
      "metadata": {
        "id": "R87G_Agx_pHs",
        "colab": {
          "base_uri": "https://localhost:8080/",
          "height": 359
        },
        "outputId": "2474c380-e898-404b-8485-8ce22594ebd3"
      },
      "outputs": [
        {
          "output_type": "stream",
          "name": "stdout",
          "text": [
            "1: 207.06306497395835\n",
            "2: 192.17070794270833\n",
            "3: 191.03849661458332\n",
            "4: 190.37311526692707\n",
            "5: 189.6942599934896\n",
            "6: 189.35214479166666\n",
            "7: 189.02054397786458\n",
            "8: 188.76755618489582\n",
            "9: 188.51048196614585\n",
            "10: 188.27327526041665\n"
          ]
        },
        {
          "output_type": "display_data",
          "data": {
            "text/plain": [
              "<Figure size 576x216 with 2 Axes>"
            ],
            "image/png": "[encoded data removed]"
          },
          "metadata": {
            "needs_background": "light"
          }
        }
      ],
      "source": [
        "bottleneck_size = 2\n",
        "\n",
        "class VAE(nn.Module):\n",
        "    def __init__(self):\n",
        "        super(VAE, self).__init__()\n",
        "        self.fc1 = nn.Linear(28**2, 400)\n",
        "        self.fc21 = nn.Linear(400, bottleneck_size)\n",
        "        self.fc22 = nn.Linear(400, bottleneck_size)\n",
        "        self.fc3 = nn.Linear(bottleneck_size, 400)\n",
        "        self.fc4 = nn.Linear(400, 28**2)\n",
        "\n",
        "    def encode(self, x):\n",
        "        x  = x.view(-1, 28**2)\n",
        "        h1 = F.relu(self.fc1(x))\n",
        "        mu = self.fc21(h1)\n",
        "        log_sigma = self.fc22(h1)\n",
        "        return mu, log_sigma\n",
        "\n",
        "    def reparameterize(self, mu, log_sigma):\n",
        "        std = torch.exp(0.5*log_sigma)\n",
        "        eps = torch.randn_like(std)\n",
        "        return eps.mul(std).add_(mu)\n",
        "\n",
        "    def decode(self, z):\n",
        "        h3 = F.relu(self.fc3(z))\n",
        "        return torch.sigmoid(self.fc4(h3))\n",
        "\n",
        "    def forward(self, x):\n",
        "        mu, log_sigma = self.encode(x.view(-1, 28**2))\n",
        "        z = self.reparameterize(mu, log_sigma)\n",
        "        return self.decode(z), mu, log_sigma\n",
        "\n",
        "\n",
        "vae = VAE()\n",
        "optimizer = optim.Adam(vae.parameters(), lr=1e-3)\n",
        "\n",
        "\n",
        "def loss_function(recon_x, x, mu, z_log_sigma):\n",
        "    # Since the image is in the range [0:1] we can use Binary Cross Entropy as reconstruction loss\n",
        "    BCE = F.binary_cross_entropy(recon_x, x.view(-1, 784), reduction='sum')\n",
        "\n",
        "\n",
        "    # https://agustinus.kristia.de/techblog/2016/12/10/variational-autoencoder/\n",
        "    # In practice, it’s better to model Σ(X) as logΣ(X),\n",
        "    # as it is more numerically stable to take exponent compared to computing log.\n",
        "    # Hence, our final KL divergence term is:\n",
        "\n",
        "    # D_KL(Q(z|X) || P(z|X)); calculate in closed form as both dist. are Gaussian\n",
        "    KLD = 5* torch.sum( z_log_sigma.exp() + mu.pow(2) - z_log_sigma   - 1)\n",
        "\n",
        "    return BCE + KLD\n",
        "\n",
        "def draw(model):\n",
        "    img = model(X_test)[0].detach().numpy()\n",
        "    img = img.reshape((-1, 28, 28)).transpose((1, 0, 2)).reshape(-1, 10*28)\n",
        "    #img = img * 0.3081 + 0.1307\n",
        "\n",
        "    axs[1].imshow(img, cmap='gray')\n",
        "    fig.canvas.draw()\n",
        "\n",
        "\n",
        "def train(epoch):\n",
        "    vae.train()\n",
        "    train_loss = 0\n",
        "    for batch_idx, (data, _) in enumerate(train_loader):\n",
        "        optimizer.zero_grad()\n",
        "        recon_batch, mu, log_sigma = vae(data)\n",
        "\n",
        "        if batch_idx % 100 == 0:\n",
        "            draw(vae)\n",
        "\n",
        "        loss = loss_function(recon_batch, data, mu, log_sigma)\n",
        "        loss.backward()\n",
        "        train_loss += loss.item()\n",
        "        optimizer.step()\n",
        "    print(f\"{epoch}: {train_loss / len(train_loader.dataset)}\")\n",
        "\n",
        "\n",
        "fig, axs = plt.subplots(2, 1, figsize=(8,3))\n",
        "fig.show()\n",
        "axs[0].imshow(upper, cmap='gray')\n",
        "\n",
        "for epoch in range(1, 11):\n",
        "    train(epoch)\n"
      ]
    },
    {
      "cell_type": "markdown",
      "metadata": {
        "id": "yX4sBrSW_pHu"
      },
      "source": [
        "**Questions**\n",
        "1. The encoder outputs two variables: [mu, log_sigma]. What do you think they represent?\n",
        "  \n",
        "  1. mu is the mean and log_sigma is the expression of standard deviation into a logaritmic scale\n",
        "\n",
        "2. What is the purpose of the reparameterization? You may find the answer in [Kristia's blog](https://agustinus.kristia.de/techblog/2016/12/10/variational-autoencoder/).\n",
        "\n",
        "  2. The idea of VAE is to infer P(z) using P(z|X). We want to make our latent variable likely under our data. We infer P(z|X) using a method called Variational Inference (VI)"
      ]
    },
    {
      "cell_type": "code",
      "execution_count": null,
      "metadata": {
        "id": "XicTorG9_pHu",
        "colab": {
          "base_uri": "https://localhost:8080/",
          "height": 300
        },
        "outputId": "899536bb-07f3-4b18-d050-c501e48edc83"
      },
      "outputs": [
        {
          "output_type": "stream",
          "name": "stderr",
          "text": [
            "WARNING:matplotlib.legend:No handles with labels found to put in legend.\n"
          ]
        },
        {
          "output_type": "stream",
          "name": "stdout",
          "text": [
            "tensor([0, 1, 2, 3, 4, 5, 6, 7, 8, 9])\n"
          ]
        },
        {
          "output_type": "display_data",
          "data": {
            "text/plain": [
              "<Figure size 432x288 with 1 Axes>"
            ],
            "image/png": "[encoded data removed]"
          },
          "metadata": {
            "needs_background": "light"
          }
        }
      ],
      "source": [
        "# This import registers the 3D projection, but is otherwise unused.\n",
        "from mpl_toolkits.mplot3d import Axes3D  # noqa: F401 unused import\n",
        "\n",
        "X_train  = sample[0].view(-1, 28, 28)\n",
        "mu, log_sigma    = vae.encode(X_train)\n",
        "mu = mu.detach().numpy()\n",
        "# var = torch.exp(logvar)\n",
        "\n",
        "fig = plt.figure()\n",
        "ax = fig.add_subplot(111)\n",
        "ax.scatter(mu[:,0], mu[:,1], c=sample[1], cmap='Paired')\n",
        "ax.legend()\n",
        "print(sample[1].unique())\n",
        "\n",
        "plt.savefig('VAE.pdf')"
      ]
    },
    {
      "cell_type": "code",
      "execution_count": null,
      "metadata": {
        "id": "K0UNAxVK_pHv",
        "colab": {
          "base_uri": "https://localhost:8080/",
          "height": 528
        },
        "outputId": "66cf7c72-a236-487e-a226-233922def40c"
      },
      "outputs": [
        {
          "output_type": "stream",
          "name": "stdout",
          "text": [
            "[[-2.00000000e+00  0.00000000e+00]\n",
            " [-1.80000000e+00 -5.00000000e-01]\n",
            " [-1.60000000e+00 -1.00000000e+00]\n",
            " [-1.40000000e+00 -1.50000000e+00]\n",
            " [-1.20000000e+00 -2.00000000e+00]\n",
            " [-1.00000000e+00 -2.50000000e+00]\n",
            " [-8.00000000e-01 -3.00000000e+00]\n",
            " [-6.00000000e-01 -3.50000000e+00]\n",
            " [-4.00000000e-01 -4.00000000e+00]\n",
            " [-2.00000000e-01 -4.50000000e+00]\n",
            " [-2.77555756e-16 -5.00000000e+00]]\n"
          ]
        },
        {
          "output_type": "execute_result",
          "data": {
            "text/plain": [
              "<matplotlib.image.AxesImage at 0x7f1a02aae210>"
            ]
          },
          "metadata": {},
          "execution_count": 13
        },
        {
          "output_type": "display_data",
          "data": {
            "text/plain": [
              "<Figure size 576x360 with 2 Axes>"
            ],
            "image/png": "[encoded data removed]"
          },
          "metadata": {
            "needs_background": "light"
          }
        }
      ],
      "source": [
        "y = sample[1].numpy()\n",
        "mean_0  = mu[y == 0]\n",
        "mean_3  = mu[y == 3]\n",
        "mean_0  = np.array([0, 5]) # mean_0.(axis=0)\n",
        "mean_3  = np.array([0, 10]) # mean_0.mean(axis=0)\n",
        "mean_0  = np.array([0, -5]) # mean_0.(axis=0)\n",
        "mean_3  = np.array([-2, 0]) # mean_0.mean(axis=0)\n",
        "\n",
        "\n",
        "diff    = (mean_0 - mean_3) / 10\n",
        "Zs      = np.zeros((11, 2))\n",
        "Zs[0]   = mean_3\n",
        "for i in range(1, 11):\n",
        "    Zs[i] = Zs[i-1] + diff\n",
        "\n",
        "print(Zs)\n",
        "\n",
        "# samples = np.random.normal(mu, np.diag(std), (10, 3))\n",
        "generated = vae.decode(torch.from_numpy(Zs).float())\n",
        "\n",
        "fig, ax = plt.subplots(1, 2, figsize=(8,5))\n",
        "\n",
        "for i in range(10):\n",
        "    sel = y == i\n",
        "    ax[0].scatter(mu[sel,0], mu[sel,1], label=f\"{i}\")\n",
        "ax[0].legend()\n",
        "ax[0].plot(Zs[:,0], Zs[:,1], 'b--', label=\"Dir. of variation\")\n",
        "\n",
        "img = generated.detach().numpy()\n",
        "img = img.reshape((-1, 28, 28)).transpose((1, 0, 2)).reshape(-1, 11*28)\n",
        "#img = img * 0.3081 + 0.1307\n",
        "ax[1].imshow(img, cmap='gray')"
      ]
    },
    {
      "cell_type": "markdown",
      "metadata": {
        "id": "auc5jFOJ_pHw"
      },
      "source": [
        "**Questions**\n",
        "\n",
        "1. What do you think of this latent representation? In terms of quality? In terms of smoothness? Compare to the same plot for the traditional autoencoder.\n",
        "1. Which digits does the model faithfully reconstruct? Which digits does it have trouble reconstructing? Why?\n",
        "1. What happens if you set the weight of the KL term to, say 5 (KLD *= 5), and re-train the model?\n",
        "\n",
        "Encoding, decoding and latent space interpolation\n",
        "\n",
        "your task is to:\n",
        "1. Encode an image of a 7 and an image of a 9.\n",
        "1. Decode the encodings (to generate reconstructed images)\n",
        "1. Interpolate between the two digits in latent space. You can use the code above as inspiration\n",
        "\n"
      ]
    },
    {
      "cell_type": "markdown",
      "metadata": {
        "id": "JqYyvO9y_pHx"
      },
      "source": [
        "# References\n",
        "[[1]](https://arxiv.org/pdf/1312.6114.pdf) Kingma, D.P. and Welling, M., 2013. Auto-encoding variational bayes. arXiv preprint arXiv:1312.6114.  \n",
        "\n",
        "[[2]](https://arxiv.org/pdf/1606.05908.pdf) Doersch, C., 2016. Tutorial on variational autoencoders. arXiv preprint arXiv:1606.05908.\n",
        "\n",
        "[[3]](https://arxiv.org/pdf/1606.05579.pdf) Higgins, I., Matthey, L., Glorot, X., Pal, A., Uria, B., Blundell, C., Mohamed, S. and Lerchner, A., 2016. Early visual concept learning with unsupervised deep learning. arXiv preprint arXiv:1606.05579.\n",
        "\n",
        "[[4]](https://github.com/fhvilshoj/variational-autoencoders/blob/master/VAEs.ipynb) Frederik Hvilshøj's github page"
      ]
    },
    {
      "cell_type": "code",
      "execution_count": null,
      "metadata": {
        "id": "GvRUWAwm_pHy"
      },
      "outputs": [],
      "source": []
    }
  ],
  "metadata": {
    "kernelspec": {
      "display_name": "Python 3 (ipykernel)",
      "language": "python",
      "name": "python3"
    },
    "language_info": {
      "codemirror_mode": {
        "name": "ipython",
        "version": 3
      },
      "file_extension": ".py",
      "mimetype": "text/x-python",
      "name": "python",
      "nbconvert_exporter": "python",
      "pygments_lexer": "ipython3",
      "version": "3.8.10"
    },
    "colab": {
      "provenance": []
    },
    "widgets": {
      "application/vnd.jupyter.widget-state+json": {
        "45140082383a45048c146b6ef82e4773": {
          "model_module": "@jupyter-widgets/controls",
          "model_name": "HBoxModel",
          "model_module_version": "1.5.0",
          "state": {
            "_dom_classes": [],
            "_model_module": "@jupyter-widgets/controls",
            "_model_module_version": "1.5.0",
            "_model_name": "HBoxModel",
            "_view_count": null,
            "_view_module": "@jupyter-widgets/controls",
            "_view_module_version": "1.5.0",
            "_view_name": "HBoxView",
            "box_style": "",
            "children": [
              "IPY_MODEL_f6ef65641e854a588ff5889c34f03f4d",
              "IPY_MODEL_fb8fb7a360b54f6297c826b85e598133",
              "IPY_MODEL_5b4ac2f115e44309b8b7cf860d03c037"
            ],
            "layout": "IPY_MODEL_505b959b80e24ce6bac6427a1c753b34"
          }
        },
        "f6ef65641e854a588ff5889c34f03f4d": {
          "model_module": "@jupyter-widgets/controls",
          "model_name": "HTMLModel",
          "model_module_version": "1.5.0",
          "state": {
            "_dom_classes": [],
            "_model_module": "@jupyter-widgets/controls",
            "_model_module_version": "1.5.0",
            "_model_name": "HTMLModel",
            "_view_count": null,
            "_view_module": "@jupyter-widgets/controls",
            "_view_module_version": "1.5.0",
            "_view_name": "HTMLView",
            "description": "",
            "description_tooltip": null,
            "layout": "IPY_MODEL_4efbac2c82624e2baf592332c8980e26",
            "placeholder": "​",
            "style": "IPY_MODEL_7dbb5c71a0db4ac8a174e5dca3be6327",
            "value": "100%"
          }
        },
        "fb8fb7a360b54f6297c826b85e598133": {
          "model_module": "@jupyter-widgets/controls",
          "model_name": "FloatProgressModel",
          "model_module_version": "1.5.0",
          "state": {
            "_dom_classes": [],
            "_model_module": "@jupyter-widgets/controls",
            "_model_module_version": "1.5.0",
            "_model_name": "FloatProgressModel",
            "_view_count": null,
            "_view_module": "@jupyter-widgets/controls",
            "_view_module_version": "1.5.0",
            "_view_name": "ProgressView",
            "bar_style": "success",
            "description": "",
            "description_tooltip": null,
            "layout": "IPY_MODEL_157f33281ba941899998dce374ca49e7",
            "max": 9912422,
            "min": 0,
            "orientation": "horizontal",
            "style": "IPY_MODEL_e3276f89dcc04027a4cb853547e03aa4",
            "value": 9912422
          }
        },
        "5b4ac2f115e44309b8b7cf860d03c037": {
          "model_module": "@jupyter-widgets/controls",
          "model_name": "HTMLModel",
          "model_module_version": "1.5.0",
          "state": {
            "_dom_classes": [],
            "_model_module": "@jupyter-widgets/controls",
            "_model_module_version": "1.5.0",
            "_model_name": "HTMLModel",
            "_view_count": null,
            "_view_module": "@jupyter-widgets/controls",
            "_view_module_version": "1.5.0",
            "_view_name": "HTMLView",
            "description": "",
            "description_tooltip": null,
            "layout": "IPY_MODEL_ac98ad57be794dd597d0421d4a7d0616",
            "placeholder": "​",
            "style": "IPY_MODEL_509a95d47ae44e429ababebabf83cc7a",
            "value": " 9912422/9912422 [00:00&lt;00:00, 14704423.11it/s]"
          }
        },
        "505b959b80e24ce6bac6427a1c753b34": {
          "model_module": "@jupyter-widgets/base",
          "model_name": "LayoutModel",
          "model_module_version": "1.2.0",
          "state": {
            "_model_module": "@jupyter-widgets/base",
            "_model_module_version": "1.2.0",
            "_model_name": "LayoutModel",
            "_view_count": null,
            "_view_module": "@jupyter-widgets/base",
            "_view_module_version": "1.2.0",
            "_view_name": "LayoutView",
            "align_content": null,
            "align_items": null,
            "align_self": null,
            "border": null,
            "bottom": null,
            "display": null,
            "flex": null,
            "flex_flow": null,
            "grid_area": null,
            "grid_auto_columns": null,
            "grid_auto_flow": null,
            "grid_auto_rows": null,
            "grid_column": null,
            "grid_gap": null,
            "grid_row": null,
            "grid_template_areas": null,
            "grid_template_columns": null,
            "grid_template_rows": null,
            "height": null,
            "justify_content": null,
            "justify_items": null,
            "left": null,
            "margin": null,
            "max_height": null,
            "max_width": null,
            "min_height": null,
            "min_width": null,
            "object_fit": null,
            "object_position": null,
            "order": null,
            "overflow": null,
            "overflow_x": null,
            "overflow_y": null,
            "padding": null,
            "right": null,
            "top": null,
            "visibility": null,
            "width": null
          }
        },
        "4efbac2c82624e2baf592332c8980e26": {
          "model_module": "@jupyter-widgets/base",
          "model_name": "LayoutModel",
          "model_module_version": "1.2.0",
          "state": {
            "_model_module": "@jupyter-widgets/base",
            "_model_module_version": "1.2.0",
            "_model_name": "LayoutModel",
            "_view_count": null,
            "_view_module": "@jupyter-widgets/base",
            "_view_module_version": "1.2.0",
            "_view_name": "LayoutView",
            "align_content": null,
            "align_items": null,
            "align_self": null,
            "border": null,
            "bottom": null,
            "display": null,
            "flex": null,
            "flex_flow": null,
            "grid_area": null,
            "grid_auto_columns": null,
            "grid_auto_flow": null,
            "grid_auto_rows": null,
            "grid_column": null,
            "grid_gap": null,
            "grid_row": null,
            "grid_template_areas": null,
            "grid_template_columns": null,
            "grid_template_rows": null,
            "height": null,
            "justify_content": null,
            "justify_items": null,
            "left": null,
            "margin": null,
            "max_height": null,
            "max_width": null,
            "min_height": null,
            "min_width": null,
            "object_fit": null,
            "object_position": null,
            "order": null,
            "overflow": null,
            "overflow_x": null,
            "overflow_y": null,
            "padding": null,
            "right": null,
            "top": null,
            "visibility": null,
            "width": null
          }
        },
        "7dbb5c71a0db4ac8a174e5dca3be6327": {
          "model_module": "@jupyter-widgets/controls",
          "model_name": "DescriptionStyleModel",
          "model_module_version": "1.5.0",
          "state": {
            "_model_module": "@jupyter-widgets/controls",
            "_model_module_version": "1.5.0",
            "_model_name": "DescriptionStyleModel",
            "_view_count": null,
            "_view_module": "@jupyter-widgets/base",
            "_view_module_version": "1.2.0",
            "_view_name": "StyleView",
            "description_width": ""
          }
        },
        "157f33281ba941899998dce374ca49e7": {
          "model_module": "@jupyter-widgets/base",
          "model_name": "LayoutModel",
          "model_module_version": "1.2.0",
          "state": {
            "_model_module": "@jupyter-widgets/base",
            "_model_module_version": "1.2.0",
            "_model_name": "LayoutModel",
            "_view_count": null,
            "_view_module": "@jupyter-widgets/base",
            "_view_module_version": "1.2.0",
            "_view_name": "LayoutView",
            "align_content": null,
            "align_items": null,
            "align_self": null,
            "border": null,
            "bottom": null,
            "display": null,
            "flex": null,
            "flex_flow": null,
            "grid_area": null,
            "grid_auto_columns": null,
            "grid_auto_flow": null,
            "grid_auto_rows": null,
            "grid_column": null,
            "grid_gap": null,
            "grid_row": null,
            "grid_template_areas": null,
            "grid_template_columns": null,
            "grid_template_rows": null,
            "height": null,
            "justify_content": null,
            "justify_items": null,
            "left": null,
            "margin": null,
            "max_height": null,
            "max_width": null,
            "min_height": null,
            "min_width": null,
            "object_fit": null,
            "object_position": null,
            "order": null,
            "overflow": null,
            "overflow_x": null,
            "overflow_y": null,
            "padding": null,
            "right": null,
            "top": null,
            "visibility": null,
            "width": null
          }
        },
        "e3276f89dcc04027a4cb853547e03aa4": {
          "model_module": "@jupyter-widgets/controls",
          "model_name": "ProgressStyleModel",
          "model_module_version": "1.5.0",
          "state": {
            "_model_module": "@jupyter-widgets/controls",
            "_model_module_version": "1.5.0",
            "_model_name": "ProgressStyleModel",
            "_view_count": null,
            "_view_module": "@jupyter-widgets/base",
            "_view_module_version": "1.2.0",
            "_view_name": "StyleView",
            "bar_color": null,
            "description_width": ""
          }
        },
        "ac98ad57be794dd597d0421d4a7d0616": {
          "model_module": "@jupyter-widgets/base",
          "model_name": "LayoutModel",
          "model_module_version": "1.2.0",
          "state": {
            "_model_module": "@jupyter-widgets/base",
            "_model_module_version": "1.2.0",
            "_model_name": "LayoutModel",
            "_view_count": null,
            "_view_module": "@jupyter-widgets/base",
            "_view_module_version": "1.2.0",
            "_view_name": "LayoutView",
            "align_content": null,
            "align_items": null,
            "align_self": null,
            "border": null,
            "bottom": null,
            "display": null,
            "flex": null,
            "flex_flow": null,
            "grid_area": null,
            "grid_auto_columns": null,
            "grid_auto_flow": null,
            "grid_auto_rows": null,
            "grid_column": null,
            "grid_gap": null,
            "grid_row": null,
            "grid_template_areas": null,
            "grid_template_columns": null,
            "grid_template_rows": null,
            "height": null,
            "justify_content": null,
            "justify_items": null,
            "left": null,
            "margin": null,
            "max_height": null,
            "max_width": null,
            "min_height": null,
            "min_width": null,
            "object_fit": null,
            "object_position": null,
            "order": null,
            "overflow": null,
            "overflow_x": null,
            "overflow_y": null,
            "padding": null,
            "right": null,
            "top": null,
            "visibility": null,
            "width": null
          }
        },
        "509a95d47ae44e429ababebabf83cc7a": {
          "model_module": "@jupyter-widgets/controls",
          "model_name": "DescriptionStyleModel",
          "model_module_version": "1.5.0",
          "state": {
            "_model_module": "@jupyter-widgets/controls",
            "_model_module_version": "1.5.0",
            "_model_name": "DescriptionStyleModel",
            "_view_count": null,
            "_view_module": "@jupyter-widgets/base",
            "_view_module_version": "1.2.0",
            "_view_name": "StyleView",
            "description_width": ""
          }
        },
        "89d9628027684315bb2bf1d4d61a980d": {
          "model_module": "@jupyter-widgets/controls",
          "model_name": "HBoxModel",
          "model_module_version": "1.5.0",
          "state": {
            "_dom_classes": [],
            "_model_module": "@jupyter-widgets/controls",
            "_model_module_version": "1.5.0",
            "_model_name": "HBoxModel",
            "_view_count": null,
            "_view_module": "@jupyter-widgets/controls",
            "_view_module_version": "1.5.0",
            "_view_name": "HBoxView",
            "box_style": "",
            "children": [
              "IPY_MODEL_853bbbe5b9fa4a579da64b2819a8202d",
              "IPY_MODEL_b43c39a854a54313bc9d6964fb2e6a0c",
              "IPY_MODEL_92cbc108993e4034a1aee14e0656fb7a"
            ],
            "layout": "IPY_MODEL_71ece27851044c22b2ab39522cad25c1"
          }
        },
        "853bbbe5b9fa4a579da64b2819a8202d": {
          "model_module": "@jupyter-widgets/controls",
          "model_name": "HTMLModel",
          "model_module_version": "1.5.0",
          "state": {
            "_dom_classes": [],
            "_model_module": "@jupyter-widgets/controls",
            "_model_module_version": "1.5.0",
            "_model_name": "HTMLModel",
            "_view_count": null,
            "_view_module": "@jupyter-widgets/controls",
            "_view_module_version": "1.5.0",
            "_view_name": "HTMLView",
            "description": "",
            "description_tooltip": null,
            "layout": "IPY_MODEL_41cf0a46b1b440fc936c048813dbbd65",
            "placeholder": "​",
            "style": "IPY_MODEL_93af680ae5d64c1db6e869c7c6a1f801",
            "value": "100%"
          }
        },
        "b43c39a854a54313bc9d6964fb2e6a0c": {
          "model_module": "@jupyter-widgets/controls",
          "model_name": "FloatProgressModel",
          "model_module_version": "1.5.0",
          "state": {
            "_dom_classes": [],
            "_model_module": "@jupyter-widgets/controls",
            "_model_module_version": "1.5.0",
            "_model_name": "FloatProgressModel",
            "_view_count": null,
            "_view_module": "@jupyter-widgets/controls",
            "_view_module_version": "1.5.0",
            "_view_name": "ProgressView",
            "bar_style": "success",
            "description": "",
            "description_tooltip": null,
            "layout": "IPY_MODEL_a2ffc64320374fb2b2811d4f146ad233",
            "max": 28881,
            "min": 0,
            "orientation": "horizontal",
            "style": "IPY_MODEL_f571b175748b40b18d6b5875402761e2",
            "value": 28881
          }
        },
        "92cbc108993e4034a1aee14e0656fb7a": {
          "model_module": "@jupyter-widgets/controls",
          "model_name": "HTMLModel",
          "model_module_version": "1.5.0",
          "state": {
            "_dom_classes": [],
            "_model_module": "@jupyter-widgets/controls",
            "_model_module_version": "1.5.0",
            "_model_name": "HTMLModel",
            "_view_count": null,
            "_view_module": "@jupyter-widgets/controls",
            "_view_module_version": "1.5.0",
            "_view_name": "HTMLView",
            "description": "",
            "description_tooltip": null,
            "layout": "IPY_MODEL_25b4072921e144fa9bbc7ac7bdacbd45",
            "placeholder": "​",
            "style": "IPY_MODEL_8232e94d951940e1b21580e110b69abc",
            "value": " 28881/28881 [00:00&lt;00:00, 333810.14it/s]"
          }
        },
        "71ece27851044c22b2ab39522cad25c1": {
          "model_module": "@jupyter-widgets/base",
          "model_name": "LayoutModel",
          "model_module_version": "1.2.0",
          "state": {
            "_model_module": "@jupyter-widgets/base",
            "_model_module_version": "1.2.0",
            "_model_name": "LayoutModel",
            "_view_count": null,
            "_view_module": "@jupyter-widgets/base",
            "_view_module_version": "1.2.0",
            "_view_name": "LayoutView",
            "align_content": null,
            "align_items": null,
            "align_self": null,
            "border": null,
            "bottom": null,
            "display": null,
            "flex": null,
            "flex_flow": null,
            "grid_area": null,
            "grid_auto_columns": null,
            "grid_auto_flow": null,
            "grid_auto_rows": null,
            "grid_column": null,
            "grid_gap": null,
            "grid_row": null,
            "grid_template_areas": null,
            "grid_template_columns": null,
            "grid_template_rows": null,
            "height": null,
            "justify_content": null,
            "justify_items": null,
            "left": null,
            "margin": null,
            "max_height": null,
            "max_width": null,
            "min_height": null,
            "min_width": null,
            "object_fit": null,
            "object_position": null,
            "order": null,
            "overflow": null,
            "overflow_x": null,
            "overflow_y": null,
            "padding": null,
            "right": null,
            "top": null,
            "visibility": null,
            "width": null
          }
        },
        "41cf0a46b1b440fc936c048813dbbd65": {
          "model_module": "@jupyter-widgets/base",
          "model_name": "LayoutModel",
          "model_module_version": "1.2.0",
          "state": {
            "_model_module": "@jupyter-widgets/base",
            "_model_module_version": "1.2.0",
            "_model_name": "LayoutModel",
            "_view_count": null,
            "_view_module": "@jupyter-widgets/base",
            "_view_module_version": "1.2.0",
            "_view_name": "LayoutView",
            "align_content": null,
            "align_items": null,
            "align_self": null,
            "border": null,
            "bottom": null,
            "display": null,
            "flex": null,
            "flex_flow": null,
            "grid_area": null,
            "grid_auto_columns": null,
            "grid_auto_flow": null,
            "grid_auto_rows": null,
            "grid_column": null,
            "grid_gap": null,
            "grid_row": null,
            "grid_template_areas": null,
            "grid_template_columns": null,
            "grid_template_rows": null,
            "height": null,
            "justify_content": null,
            "justify_items": null,
            "left": null,
            "margin": null,
            "max_height": null,
            "max_width": null,
            "min_height": null,
            "min_width": null,
            "object_fit": null,
            "object_position": null,
            "order": null,
            "overflow": null,
            "overflow_x": null,
            "overflow_y": null,
            "padding": null,
            "right": null,
            "top": null,
            "visibility": null,
            "width": null
          }
        },
        "93af680ae5d64c1db6e869c7c6a1f801": {
          "model_module": "@jupyter-widgets/controls",
          "model_name": "DescriptionStyleModel",
          "model_module_version": "1.5.0",
          "state": {
            "_model_module": "@jupyter-widgets/controls",
            "_model_module_version": "1.5.0",
            "_model_name": "DescriptionStyleModel",
            "_view_count": null,
            "_view_module": "@jupyter-widgets/base",
            "_view_module_version": "1.2.0",
            "_view_name": "StyleView",
            "description_width": ""
          }
        },
        "a2ffc64320374fb2b2811d4f146ad233": {
          "model_module": "@jupyter-widgets/base",
          "model_name": "LayoutModel",
          "model_module_version": "1.2.0",
          "state": {
            "_model_module": "@jupyter-widgets/base",
            "_model_module_version": "1.2.0",
            "_model_name": "LayoutModel",
            "_view_count": null,
            "_view_module": "@jupyter-widgets/base",
            "_view_module_version": "1.2.0",
            "_view_name": "LayoutView",
            "align_content": null,
            "align_items": null,
            "align_self": null,
            "border": null,
            "bottom": null,
            "display": null,
            "flex": null,
            "flex_flow": null,
            "grid_area": null,
            "grid_auto_columns": null,
            "grid_auto_flow": null,
            "grid_auto_rows": null,
            "grid_column": null,
            "grid_gap": null,
            "grid_row": null,
            "grid_template_areas": null,
            "grid_template_columns": null,
            "grid_template_rows": null,
            "height": null,
            "justify_content": null,
            "justify_items": null,
            "left": null,
            "margin": null,
            "max_height": null,
            "max_width": null,
            "min_height": null,
            "min_width": null,
            "object_fit": null,
            "object_position": null,
            "order": null,
            "overflow": null,
            "overflow_x": null,
            "overflow_y": null,
            "padding": null,
            "right": null,
            "top": null,
            "visibility": null,
            "width": null
          }
        },
        "f571b175748b40b18d6b5875402761e2": {
          "model_module": "@jupyter-widgets/controls",
          "model_name": "ProgressStyleModel",
          "model_module_version": "1.5.0",
          "state": {
            "_model_module": "@jupyter-widgets/controls",
            "_model_module_version": "1.5.0",
            "_model_name": "ProgressStyleModel",
            "_view_count": null,
            "_view_module": "@jupyter-widgets/base",
            "_view_module_version": "1.2.0",
            "_view_name": "StyleView",
            "bar_color": null,
            "description_width": ""
          }
        },
        "25b4072921e144fa9bbc7ac7bdacbd45": {
          "model_module": "@jupyter-widgets/base",
          "model_name": "LayoutModel",
          "model_module_version": "1.2.0",
          "state": {
            "_model_module": "@jupyter-widgets/base",
            "_model_module_version": "1.2.0",
            "_model_name": "LayoutModel",
            "_view_count": null,
            "_view_module": "@jupyter-widgets/base",
            "_view_module_version": "1.2.0",
            "_view_name": "LayoutView",
            "align_content": null,
            "align_items": null,
            "align_self": null,
            "border": null,
            "bottom": null,
            "display": null,
            "flex": null,
            "flex_flow": null,
            "grid_area": null,
            "grid_auto_columns": null,
            "grid_auto_flow": null,
            "grid_auto_rows": null,
            "grid_column": null,
            "grid_gap": null,
            "grid_row": null,
            "grid_template_areas": null,
            "grid_template_columns": null,
            "grid_template_rows": null,
            "height": null,
            "justify_content": null,
            "justify_items": null,
            "left": null,
            "margin": null,
            "max_height": null,
            "max_width": null,
            "min_height": null,
            "min_width": null,
            "object_fit": null,
            "object_position": null,
            "order": null,
            "overflow": null,
            "overflow_x": null,
            "overflow_y": null,
            "padding": null,
            "right": null,
            "top": null,
            "visibility": null,
            "width": null
          }
        },
        "8232e94d951940e1b21580e110b69abc": {
          "model_module": "@jupyter-widgets/controls",
          "model_name": "DescriptionStyleModel",
          "model_module_version": "1.5.0",
          "state": {
            "_model_module": "@jupyter-widgets/controls",
            "_model_module_version": "1.5.0",
            "_model_name": "DescriptionStyleModel",
            "_view_count": null,
            "_view_module": "@jupyter-widgets/base",
            "_view_module_version": "1.2.0",
            "_view_name": "StyleView",
            "description_width": ""
          }
        },
        "f1b2164cb51b47d595d9b69c0082558b": {
          "model_module": "@jupyter-widgets/controls",
          "model_name": "HBoxModel",
          "model_module_version": "1.5.0",
          "state": {
            "_dom_classes": [],
            "_model_module": "@jupyter-widgets/controls",
            "_model_module_version": "1.5.0",
            "_model_name": "HBoxModel",
            "_view_count": null,
            "_view_module": "@jupyter-widgets/controls",
            "_view_module_version": "1.5.0",
            "_view_name": "HBoxView",
            "box_style": "",
            "children": [
              "IPY_MODEL_feb730ac6418479c8be3edd16c77895d",
              "IPY_MODEL_e817a33bf98a491b98826e1d6799f78f",
              "IPY_MODEL_c0bb44f295ff4522aa1f469c9b4e9173"
            ],
            "layout": "IPY_MODEL_a2eb2caad791409bbc1962a224f555db"
          }
        },
        "feb730ac6418479c8be3edd16c77895d": {
          "model_module": "@jupyter-widgets/controls",
          "model_name": "HTMLModel",
          "model_module_version": "1.5.0",
          "state": {
            "_dom_classes": [],
            "_model_module": "@jupyter-widgets/controls",
            "_model_module_version": "1.5.0",
            "_model_name": "HTMLModel",
            "_view_count": null,
            "_view_module": "@jupyter-widgets/controls",
            "_view_module_version": "1.5.0",
            "_view_name": "HTMLView",
            "description": "",
            "description_tooltip": null,
            "layout": "IPY_MODEL_dda5d7981d454a68818ccdbff78ba302",
            "placeholder": "​",
            "style": "IPY_MODEL_784e70e649484993a4cd0f3ce3f43d29",
            "value": "100%"
          }
        },
        "e817a33bf98a491b98826e1d6799f78f": {
          "model_module": "@jupyter-widgets/controls",
          "model_name": "FloatProgressModel",
          "model_module_version": "1.5.0",
          "state": {
            "_dom_classes": [],
            "_model_module": "@jupyter-widgets/controls",
            "_model_module_version": "1.5.0",
            "_model_name": "FloatProgressModel",
            "_view_count": null,
            "_view_module": "@jupyter-widgets/controls",
            "_view_module_version": "1.5.0",
            "_view_name": "ProgressView",
            "bar_style": "success",
            "description": "",
            "description_tooltip": null,
            "layout": "IPY_MODEL_550b527b0b5743a99a84b8d622371c01",
            "max": 1648877,
            "min": 0,
            "orientation": "horizontal",
            "style": "IPY_MODEL_2b4d5198c23c4a39b41e5184e51d8eec",
            "value": 1648877
          }
        },
        "c0bb44f295ff4522aa1f469c9b4e9173": {
          "model_module": "@jupyter-widgets/controls",
          "model_name": "HTMLModel",
          "model_module_version": "1.5.0",
          "state": {
            "_dom_classes": [],
            "_model_module": "@jupyter-widgets/controls",
            "_model_module_version": "1.5.0",
            "_model_name": "HTMLModel",
            "_view_count": null,
            "_view_module": "@jupyter-widgets/controls",
            "_view_module_version": "1.5.0",
            "_view_name": "HTMLView",
            "description": "",
            "description_tooltip": null,
            "layout": "IPY_MODEL_443b3f41c95d4e50b55ac6436ef72d46",
            "placeholder": "​",
            "style": "IPY_MODEL_f4b1f6904fa944e78c2142b8a9457b92",
            "value": " 1648877/1648877 [00:00&lt;00:00, 2514146.36it/s]"
          }
        },
        "a2eb2caad791409bbc1962a224f555db": {
          "model_module": "@jupyter-widgets/base",
          "model_name": "LayoutModel",
          "model_module_version": "1.2.0",
          "state": {
            "_model_module": "@jupyter-widgets/base",
            "_model_module_version": "1.2.0",
            "_model_name": "LayoutModel",
            "_view_count": null,
            "_view_module": "@jupyter-widgets/base",
            "_view_module_version": "1.2.0",
            "_view_name": "LayoutView",
            "align_content": null,
            "align_items": null,
            "align_self": null,
            "border": null,
            "bottom": null,
            "display": null,
            "flex": null,
            "flex_flow": null,
            "grid_area": null,
            "grid_auto_columns": null,
            "grid_auto_flow": null,
            "grid_auto_rows": null,
            "grid_column": null,
            "grid_gap": null,
            "grid_row": null,
            "grid_template_areas": null,
            "grid_template_columns": null,
            "grid_template_rows": null,
            "height": null,
            "justify_content": null,
            "justify_items": null,
            "left": null,
            "margin": null,
            "max_height": null,
            "max_width": null,
            "min_height": null,
            "min_width": null,
            "object_fit": null,
            "object_position": null,
            "order": null,
            "overflow": null,
            "overflow_x": null,
            "overflow_y": null,
            "padding": null,
            "right": null,
            "top": null,
            "visibility": null,
            "width": null
          }
        },
        "dda5d7981d454a68818ccdbff78ba302": {
          "model_module": "@jupyter-widgets/base",
          "model_name": "LayoutModel",
          "model_module_version": "1.2.0",
          "state": {
            "_model_module": "@jupyter-widgets/base",
            "_model_module_version": "1.2.0",
            "_model_name": "LayoutModel",
            "_view_count": null,
            "_view_module": "@jupyter-widgets/base",
            "_view_module_version": "1.2.0",
            "_view_name": "LayoutView",
            "align_content": null,
            "align_items": null,
            "align_self": null,
            "border": null,
            "bottom": null,
            "display": null,
            "flex": null,
            "flex_flow": null,
            "grid_area": null,
            "grid_auto_columns": null,
            "grid_auto_flow": null,
            "grid_auto_rows": null,
            "grid_column": null,
            "grid_gap": null,
            "grid_row": null,
            "grid_template_areas": null,
            "grid_template_columns": null,
            "grid_template_rows": null,
            "height": null,
            "justify_content": null,
            "justify_items": null,
            "left": null,
            "margin": null,
            "max_height": null,
            "max_width": null,
            "min_height": null,
            "min_width": null,
            "object_fit": null,
            "object_position": null,
            "order": null,
            "overflow": null,
            "overflow_x": null,
            "overflow_y": null,
            "padding": null,
            "right": null,
            "top": null,
            "visibility": null,
            "width": null
          }
        },
        "784e70e649484993a4cd0f3ce3f43d29": {
          "model_module": "@jupyter-widgets/controls",
          "model_name": "DescriptionStyleModel",
          "model_module_version": "1.5.0",
          "state": {
            "_model_module": "@jupyter-widgets/controls",
            "_model_module_version": "1.5.0",
            "_model_name": "DescriptionStyleModel",
            "_view_count": null,
            "_view_module": "@jupyter-widgets/base",
            "_view_module_version": "1.2.0",
            "_view_name": "StyleView",
            "description_width": ""
          }
        },
        "550b527b0b5743a99a84b8d622371c01": {
          "model_module": "@jupyter-widgets/base",
          "model_name": "LayoutModel",
          "model_module_version": "1.2.0",
          "state": {
            "_model_module": "@jupyter-widgets/base",
            "_model_module_version": "1.2.0",
            "_model_name": "LayoutModel",
            "_view_count": null,
            "_view_module": "@jupyter-widgets/base",
            "_view_module_version": "1.2.0",
            "_view_name": "LayoutView",
            "align_content": null,
            "align_items": null,
            "align_self": null,
            "border": null,
            "bottom": null,
            "display": null,
            "flex": null,
            "flex_flow": null,
            "grid_area": null,
            "grid_auto_columns": null,
            "grid_auto_flow": null,
            "grid_auto_rows": null,
            "grid_column": null,
            "grid_gap": null,
            "grid_row": null,
            "grid_template_areas": null,
            "grid_template_columns": null,
            "grid_template_rows": null,
            "height": null,
            "justify_content": null,
            "justify_items": null,
            "left": null,
            "margin": null,
            "max_height": null,
            "max_width": null,
            "min_height": null,
            "min_width": null,
            "object_fit": null,
            "object_position": null,
            "order": null,
            "overflow": null,
            "overflow_x": null,
            "overflow_y": null,
            "padding": null,
            "right": null,
            "top": null,
            "visibility": null,
            "width": null
          }
        },
        "2b4d5198c23c4a39b41e5184e51d8eec": {
          "model_module": "@jupyter-widgets/controls",
          "model_name": "ProgressStyleModel",
          "model_module_version": "1.5.0",
          "state": {
            "_model_module": "@jupyter-widgets/controls",
            "_model_module_version": "1.5.0",
            "_model_name": "ProgressStyleModel",
            "_view_count": null,
            "_view_module": "@jupyter-widgets/base",
            "_view_module_version": "1.2.0",
            "_view_name": "StyleView",
            "bar_color": null,
            "description_width": ""
          }
        },
        "443b3f41c95d4e50b55ac6436ef72d46": {
          "model_module": "@jupyter-widgets/base",
          "model_name": "LayoutModel",
          "model_module_version": "1.2.0",
          "state": {
            "_model_module": "@jupyter-widgets/base",
            "_model_module_version": "1.2.0",
            "_model_name": "LayoutModel",
            "_view_count": null,
            "_view_module": "@jupyter-widgets/base",
            "_view_module_version": "1.2.0",
            "_view_name": "LayoutView",
            "align_content": null,
            "align_items": null,
            "align_self": null,
            "border": null,
            "bottom": null,
            "display": null,
            "flex": null,
            "flex_flow": null,
            "grid_area": null,
            "grid_auto_columns": null,
            "grid_auto_flow": null,
            "grid_auto_rows": null,
            "grid_column": null,
            "grid_gap": null,
            "grid_row": null,
            "grid_template_areas": null,
            "grid_template_columns": null,
            "grid_template_rows": null,
            "height": null,
            "justify_content": null,
            "justify_items": null,
            "left": null,
            "margin": null,
            "max_height": null,
            "max_width": null,
            "min_height": null,
            "min_width": null,
            "object_fit": null,
            "object_position": null,
            "order": null,
            "overflow": null,
            "overflow_x": null,
            "overflow_y": null,
            "padding": null,
            "right": null,
            "top": null,
            "visibility": null,
            "width": null
          }
        },
        "f4b1f6904fa944e78c2142b8a9457b92": {
          "model_module": "@jupyter-widgets/controls",
          "model_name": "DescriptionStyleModel",
          "model_module_version": "1.5.0",
          "state": {
            "_model_module": "@jupyter-widgets/controls",
            "_model_module_version": "1.5.0",
            "_model_name": "DescriptionStyleModel",
            "_view_count": null,
            "_view_module": "@jupyter-widgets/base",
            "_view_module_version": "1.2.0",
            "_view_name": "StyleView",
            "description_width": ""
          }
        },
        "9734aba3ed474a0585c563062c2b6bfa": {
          "model_module": "@jupyter-widgets/controls",
          "model_name": "HBoxModel",
          "model_module_version": "1.5.0",
          "state": {
            "_dom_classes": [],
            "_model_module": "@jupyter-widgets/controls",
            "_model_module_version": "1.5.0",
            "_model_name": "HBoxModel",
            "_view_count": null,
            "_view_module": "@jupyter-widgets/controls",
            "_view_module_version": "1.5.0",
            "_view_name": "HBoxView",
            "box_style": "",
            "children": [
              "IPY_MODEL_e7bff59257234073b496e6ba3cddb147",
              "IPY_MODEL_76f66575c1c74004bbac9e951c471e45",
              "IPY_MODEL_226d33d994a347a4bfbca8f8f3139ea4"
            ],
            "layout": "IPY_MODEL_f963dd4157c94bba996adf069d33dfcb"
          }
        },
        "e7bff59257234073b496e6ba3cddb147": {
          "model_module": "@jupyter-widgets/controls",
          "model_name": "HTMLModel",
          "model_module_version": "1.5.0",
          "state": {
            "_dom_classes": [],
            "_model_module": "@jupyter-widgets/controls",
            "_model_module_version": "1.5.0",
            "_model_name": "HTMLModel",
            "_view_count": null,
            "_view_module": "@jupyter-widgets/controls",
            "_view_module_version": "1.5.0",
            "_view_name": "HTMLView",
            "description": "",
            "description_tooltip": null,
            "layout": "IPY_MODEL_bab7e190db6745f182cbf5c910785c80",
            "placeholder": "​",
            "style": "IPY_MODEL_80ea4b4207b74f77acfe9a5c9392061d",
            "value": "100%"
          }
        },
        "76f66575c1c74004bbac9e951c471e45": {
          "model_module": "@jupyter-widgets/controls",
          "model_name": "FloatProgressModel",
          "model_module_version": "1.5.0",
          "state": {
            "_dom_classes": [],
            "_model_module": "@jupyter-widgets/controls",
            "_model_module_version": "1.5.0",
            "_model_name": "FloatProgressModel",
            "_view_count": null,
            "_view_module": "@jupyter-widgets/controls",
            "_view_module_version": "1.5.0",
            "_view_name": "ProgressView",
            "bar_style": "success",
            "description": "",
            "description_tooltip": null,
            "layout": "IPY_MODEL_3e9f74cbb63747889c25b959752ec8d2",
            "max": 4542,
            "min": 0,
            "orientation": "horizontal",
            "style": "IPY_MODEL_f89585016404430fa4ef8324f1714b18",
            "value": 4542
          }
        },
        "226d33d994a347a4bfbca8f8f3139ea4": {
          "model_module": "@jupyter-widgets/controls",
          "model_name": "HTMLModel",
          "model_module_version": "1.5.0",
          "state": {
            "_dom_classes": [],
            "_model_module": "@jupyter-widgets/controls",
            "_model_module_version": "1.5.0",
            "_model_name": "HTMLModel",
            "_view_count": null,
            "_view_module": "@jupyter-widgets/controls",
            "_view_module_version": "1.5.0",
            "_view_name": "HTMLView",
            "description": "",
            "description_tooltip": null,
            "layout": "IPY_MODEL_2a2a5b049786480aac0d543b0c4a9e7a",
            "placeholder": "​",
            "style": "IPY_MODEL_a2d7093317324d4c8739aef020e8fae6",
            "value": " 4542/4542 [00:00&lt;00:00, 39679.18it/s]"
          }
        },
        "f963dd4157c94bba996adf069d33dfcb": {
          "model_module": "@jupyter-widgets/base",
          "model_name": "LayoutModel",
          "model_module_version": "1.2.0",
          "state": {
            "_model_module": "@jupyter-widgets/base",
            "_model_module_version": "1.2.0",
            "_model_name": "LayoutModel",
            "_view_count": null,
            "_view_module": "@jupyter-widgets/base",
            "_view_module_version": "1.2.0",
            "_view_name": "LayoutView",
            "align_content": null,
            "align_items": null,
            "align_self": null,
            "border": null,
            "bottom": null,
            "display": null,
            "flex": null,
            "flex_flow": null,
            "grid_area": null,
            "grid_auto_columns": null,
            "grid_auto_flow": null,
            "grid_auto_rows": null,
            "grid_column": null,
            "grid_gap": null,
            "grid_row": null,
            "grid_template_areas": null,
            "grid_template_columns": null,
            "grid_template_rows": null,
            "height": null,
            "justify_content": null,
            "justify_items": null,
            "left": null,
            "margin": null,
            "max_height": null,
            "max_width": null,
            "min_height": null,
            "min_width": null,
            "object_fit": null,
            "object_position": null,
            "order": null,
            "overflow": null,
            "overflow_x": null,
            "overflow_y": null,
            "padding": null,
            "right": null,
            "top": null,
            "visibility": null,
            "width": null
          }
        },
        "bab7e190db6745f182cbf5c910785c80": {
          "model_module": "@jupyter-widgets/base",
          "model_name": "LayoutModel",
          "model_module_version": "1.2.0",
          "state": {
            "_model_module": "@jupyter-widgets/base",
            "_model_module_version": "1.2.0",
            "_model_name": "LayoutModel",
            "_view_count": null,
            "_view_module": "@jupyter-widgets/base",
            "_view_module_version": "1.2.0",
            "_view_name": "LayoutView",
            "align_content": null,
            "align_items": null,
            "align_self": null,
            "border": null,
            "bottom": null,
            "display": null,
            "flex": null,
            "flex_flow": null,
            "grid_area": null,
            "grid_auto_columns": null,
            "grid_auto_flow": null,
            "grid_auto_rows": null,
            "grid_column": null,
            "grid_gap": null,
            "grid_row": null,
            "grid_template_areas": null,
            "grid_template_columns": null,
            "grid_template_rows": null,
            "height": null,
            "justify_content": null,
            "justify_items": null,
            "left": null,
            "margin": null,
            "max_height": null,
            "max_width": null,
            "min_height": null,
            "min_width": null,
            "object_fit": null,
            "object_position": null,
            "order": null,
            "overflow": null,
            "overflow_x": null,
            "overflow_y": null,
            "padding": null,
            "right": null,
            "top": null,
            "visibility": null,
            "width": null
          }
        },
        "80ea4b4207b74f77acfe9a5c9392061d": {
          "model_module": "@jupyter-widgets/controls",
          "model_name": "DescriptionStyleModel",
          "model_module_version": "1.5.0",
          "state": {
            "_model_module": "@jupyter-widgets/controls",
            "_model_module_version": "1.5.0",
            "_model_name": "DescriptionStyleModel",
            "_view_count": null,
            "_view_module": "@jupyter-widgets/base",
            "_view_module_version": "1.2.0",
            "_view_name": "StyleView",
            "description_width": ""
          }
        },
        "3e9f74cbb63747889c25b959752ec8d2": {
          "model_module": "@jupyter-widgets/base",
          "model_name": "LayoutModel",
          "model_module_version": "1.2.0",
          "state": {
            "_model_module": "@jupyter-widgets/base",
            "_model_module_version": "1.2.0",
            "_model_name": "LayoutModel",
            "_view_count": null,
            "_view_module": "@jupyter-widgets/base",
            "_view_module_version": "1.2.0",
            "_view_name": "LayoutView",
            "align_content": null,
            "align_items": null,
            "align_self": null,
            "border": null,
            "bottom": null,
            "display": null,
            "flex": null,
            "flex_flow": null,
            "grid_area": null,
            "grid_auto_columns": null,
            "grid_auto_flow": null,
            "grid_auto_rows": null,
            "grid_column": null,
            "grid_gap": null,
            "grid_row": null,
            "grid_template_areas": null,
            "grid_template_columns": null,
            "grid_template_rows": null,
            "height": null,
            "justify_content": null,
            "justify_items": null,
            "left": null,
            "margin": null,
            "max_height": null,
            "max_width": null,
            "min_height": null,
            "min_width": null,
            "object_fit": null,
            "object_position": null,
            "order": null,
            "overflow": null,
            "overflow_x": null,
            "overflow_y": null,
            "padding": null,
            "right": null,
            "top": null,
            "visibility": null,
            "width": null
          }
        },
        "f89585016404430fa4ef8324f1714b18": {
          "model_module": "@jupyter-widgets/controls",
          "model_name": "ProgressStyleModel",
          "model_module_version": "1.5.0",
          "state": {
            "_model_module": "@jupyter-widgets/controls",
            "_model_module_version": "1.5.0",
            "_model_name": "ProgressStyleModel",
            "_view_count": null,
            "_view_module": "@jupyter-widgets/base",
            "_view_module_version": "1.2.0",
            "_view_name": "StyleView",
            "bar_color": null,
            "description_width": ""
          }
        },
        "2a2a5b049786480aac0d543b0c4a9e7a": {
          "model_module": "@jupyter-widgets/base",
          "model_name": "LayoutModel",
          "model_module_version": "1.2.0",
          "state": {
            "_model_module": "@jupyter-widgets/base",
            "_model_module_version": "1.2.0",
            "_model_name": "LayoutModel",
            "_view_count": null,
            "_view_module": "@jupyter-widgets/base",
            "_view_module_version": "1.2.0",
            "_view_name": "LayoutView",
            "align_content": null,
            "align_items": null,
            "align_self": null,
            "border": null,
            "bottom": null,
            "display": null,
            "flex": null,
            "flex_flow": null,
            "grid_area": null,
            "grid_auto_columns": null,
            "grid_auto_flow": null,
            "grid_auto_rows": null,
            "grid_column": null,
            "grid_gap": null,
            "grid_row": null,
            "grid_template_areas": null,
            "grid_template_columns": null,
            "grid_template_rows": null,
            "height": null,
            "justify_content": null,
            "justify_items": null,
            "left": null,
            "margin": null,
            "max_height": null,
            "max_width": null,
            "min_height": null,
            "min_width": null,
            "object_fit": null,
            "object_position": null,
            "order": null,
            "overflow": null,
            "overflow_x": null,
            "overflow_y": null,
            "padding": null,
            "right": null,
            "top": null,
            "visibility": null,
            "width": null
          }
        },
        "a2d7093317324d4c8739aef020e8fae6": {
          "model_module": "@jupyter-widgets/controls",
          "model_name": "DescriptionStyleModel",
          "model_module_version": "1.5.0",
          "state": {
            "_model_module": "@jupyter-widgets/controls",
            "_model_module_version": "1.5.0",
            "_model_name": "DescriptionStyleModel",
            "_view_count": null,
            "_view_module": "@jupyter-widgets/base",
            "_view_module_version": "1.2.0",
            "_view_name": "StyleView",
            "description_width": ""
          }
        }
      }
    }
  },
  "nbformat": 4,
  "nbformat_minor": 0
}