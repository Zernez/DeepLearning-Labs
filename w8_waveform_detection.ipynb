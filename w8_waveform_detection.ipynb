{
  "cells": [
    {
      "cell_type": "code",
      "execution_count": null,
      "metadata": {
        "id": "p3ha2gV2mjPb"
      },
      "outputs": [],
      "source": [
        "\n",
        "\n",
        "#%% load packages\n",
        "\n",
        "import numpy as np\n",
        "\n",
        "import matplotlib.pyplot as plt\n",
        "\n",
        "import torch\n",
        "import torch.nn as nn\n",
        "\n"
      ]
    },
    {
      "cell_type": "code",
      "execution_count": null,
      "metadata": {
        "colab": {
          "base_uri": "https://localhost:8080/",
          "height": 282
        },
        "id": "fY_ajFLSml_k",
        "outputId": "5b8cb037-93ea-4239-c2c0-2e2f14058ec2"
      },
      "outputs": [
        {
          "output_type": "execute_result",
          "data": {
            "text/plain": [
              "[<matplotlib.lines.Line2D at 0x7f2d37b11350>]"
            ]
          },
          "metadata": {},
          "execution_count": 2
        },
        {
          "output_type": "display_data",
          "data": {
            "text/plain": [
              "<Figure size 432x288 with 1 Axes>"
            ],
            "image/png": "[encoded data removed]"
          },
          "metadata": {
            "needs_background": "light"
          }
        }
      ],
      "source": [
        "#%% make datapoints\n",
        "\n",
        "plt.close('all')\n",
        "\n",
        "#make target:\n",
        "targetL=30\n",
        "target=np.sin(np.linspace(0,np.pi*3,targetL))/np.linspace(.2,5,targetL)\n",
        "\n",
        "# plt.plot(target)\n",
        "\n",
        "#make background:\n",
        "backgroundL=100\n",
        "scale=.1\n",
        "background=np.random.normal(0,scale=scale,size=backgroundL)\n",
        "\n",
        "plt.plot(background)\n",
        "\n",
        "#combine target and background:\n",
        "endBuffer=4\n",
        "startIdx=np.random.randint(0,backgroundL-targetL-endBuffer,1)[0]\n",
        "combined=background;\n",
        "combined[startIdx:(startIdx+targetL)]=combined[startIdx:(startIdx+targetL)]+target\n",
        "\n",
        "plt.plot(combined)\n",
        "\n",
        "sequence=combined\n",
        "labels=sequence*0\n",
        "labels[startIdx+targetL+range(0,endBuffer)]=1\n",
        "plt.plot(labels)"
      ]
    },
    {
      "cell_type": "code",
      "execution_count": null,
      "metadata": {
        "id": "6RUIlHULmqph"
      },
      "outputs": [],
      "source": [
        "#%% combine into dataloader\n",
        "\n",
        "class waveFormDataset(torch.utils.data.Dataset):\n",
        "    \"\"\"waveFormDetectionDataset\"\"\"\n",
        "\n",
        "    def __init__(self, waveforms, backgroundGenerator, targetRate=1):\n",
        "        \"\"\"\n",
        "        Args:\n",
        "            waveforms: array of size nxl, showing n different examples of target waveforms, length l\n",
        "            backgroundGenerator: function, no input, outputs non-target signals, length L>l\n",
        "        \"\"\"\n",
        "\n",
        "        if len(waveforms.shape)==0:\n",
        "            waveforms=np.expand_dims(waveforms,0)\n",
        "\n",
        "        self.ntargets=waveforms.shape[0]\n",
        "        self.targets=waveforms\n",
        "        self.backgroundGenerator=backgroundGenerator\n",
        "        self.targetRate=targetRate\n",
        "\n",
        "    def __len__(self):\n",
        "        return 1000 #should be smaller than batch sizes,\n",
        "\n",
        "    def __getitem__(self, idx):\n",
        "\n",
        "        #combines targets and backgroundGenerator. includes target in targetRate percentage of outputs\n",
        "\n",
        "        sample=self.backgroundGenerator()\n",
        "\n",
        "        assert(len(sample)>=self.targets.shape[1])\n",
        "\n",
        "        labels=sample[:,0]*0\n",
        "\n",
        "        if np.random.rand()<=self.targetRate:\n",
        "            target=self.targets[np.random.randint(0,self.ntargets),:]\n",
        "            target=torch.reshape(target,(-1,1))\n",
        "\n",
        "            backgroundL=len(sample)\n",
        "\n",
        "            endBuffer=4 #we need to ensure a bit of space at the end for placing 1-labels\n",
        "            startIdx=np.random.randint(0,backgroundL-targetL-endBuffer,1)[0]\n",
        "            sample[startIdx:(startIdx+targetL)]=sample[startIdx:(startIdx+targetL)]+target\n",
        "            labels[startIdx+targetL+range(-3,endBuffer)]=1\n",
        "\n",
        "\n",
        "        return sample,labels\n",
        "\n",
        "\n",
        "targetL=30\n",
        "waveform=np.sin(np.linspace(0,np.pi*3,targetL))/np.linspace(.2,5,targetL)\n",
        "waveform=np.expand_dims(waveform,0)\n",
        "waveform=torch.tensor(waveform)\n",
        "\n",
        "\n",
        "def bgg():\n",
        "    backgroundL=70\n",
        "    scale=.1\n",
        "    background=torch.tensor(np.random.normal(0,scale=scale,size=(backgroundL,1)))\n",
        "    return background\n",
        "\n",
        "waveformDataset=waveFormDataset(waveform,bgg,1)\n",
        "e=waveformDataset.__getitem__(1)\n",
        "waveformLoader=torch.utils.data.DataLoader(waveformDataset,batch_size=32)\n"
      ]
    },
    {
      "cell_type": "code",
      "execution_count": null,
      "metadata": {
        "colab": {
          "base_uri": "https://localhost:8080/"
        },
        "id": "jQufYbstnHmn",
        "outputId": "32e96b0f-8f38-47b3-ad0c-b758dfbef967"
      },
      "outputs": [
        {
          "output_type": "execute_result",
          "data": {
            "text/plain": [
              "tensor([[0.4978, 0.5005, 0.5006, 0.4993, 0.4975, 0.4966, 0.4961, 0.4958, 0.4957,\n",
              "         0.4959, 0.4960, 0.4958, 0.4958, 0.4956, 0.4953, 0.4951, 0.4953, 0.4953,\n",
              "         0.4948, 0.4948, 0.4945, 0.4946, 0.4949, 0.4947, 0.4946, 0.4942, 0.4940,\n",
              "         0.4941, 0.4947, 0.4947, 0.4945, 0.4941, 0.4936, 0.4931, 0.4934, 0.4934,\n",
              "         0.4935, 0.4937, 0.4940, 0.4942, 0.4943, 0.4942, 0.4945, 0.4944, 0.4939,\n",
              "         0.4937, 0.4938, 0.4943, 0.4945, 0.4946, 0.4946, 0.4946, 0.4947, 0.4948,\n",
              "         0.4946, 0.4943, 0.4944, 0.4942, 0.4939, 0.4935, 0.4936, 0.4941, 0.4948,\n",
              "         0.4956, 0.4960, 0.4956, 0.4952, 0.4951, 0.4948, 0.4947, 0.4947, 0.4943,\n",
              "         0.4938, 0.4938, 0.4936, 0.4933, 0.4935, 0.4937, 0.4938, 0.4934, 0.4934,\n",
              "         0.4934, 0.4935, 0.4935, 0.4939, 0.4946, 0.4948, 0.4947, 0.4943, 0.4941,\n",
              "         0.4939, 0.4936, 0.4934, 0.4938, 0.4945, 0.4951, 0.4957, 0.4955, 0.4949,\n",
              "         0.4946],\n",
              "        [0.4973, 0.4998, 0.4997, 0.4989, 0.4977, 0.4971, 0.4969, 0.4966, 0.4966,\n",
              "         0.4961, 0.4953, 0.4946, 0.4941, 0.4941, 0.4940, 0.4940, 0.4938, 0.4934,\n",
              "         0.4929, 0.4931, 0.4930, 0.4934, 0.4940, 0.4947, 0.4952, 0.4957, 0.4955,\n",
              "         0.4955, 0.4952, 0.4948, 0.4947, 0.4945, 0.4942, 0.4940, 0.4941, 0.4944,\n",
              "         0.4948, 0.4947, 0.4944, 0.4940, 0.4936, 0.4936, 0.4935, 0.4937, 0.4940,\n",
              "         0.4942, 0.4942, 0.4941, 0.4940, 0.4942, 0.4942, 0.4939, 0.4940, 0.4939,\n",
              "         0.4937, 0.4933, 0.4930, 0.4932, 0.4938, 0.4945, 0.4948, 0.4949, 0.4948,\n",
              "         0.4951, 0.4952, 0.4953, 0.4950, 0.4949, 0.4950, 0.4953, 0.4952, 0.4951,\n",
              "         0.4950, 0.4948, 0.4946, 0.4947, 0.4948, 0.4948, 0.4951, 0.4952, 0.4951,\n",
              "         0.4953, 0.4951, 0.4946, 0.4946, 0.4945, 0.4941, 0.4939, 0.4936, 0.4937,\n",
              "         0.4938, 0.4940, 0.4943, 0.4941, 0.4936, 0.4932, 0.4929, 0.4927, 0.4931,\n",
              "         0.4938],\n",
              "        [0.4978, 0.5006, 0.5002, 0.4991, 0.4975, 0.4965, 0.4961, 0.4959, 0.4959,\n",
              "         0.4957, 0.4951, 0.4944, 0.4939, 0.4934, 0.4934, 0.4933, 0.4932, 0.4934,\n",
              "         0.4933, 0.4936, 0.4937, 0.4941, 0.4948, 0.4948, 0.4949, 0.4945, 0.4944,\n",
              "         0.4942, 0.4945, 0.4944, 0.4941, 0.4942, 0.4941, 0.4939, 0.4938, 0.4936,\n",
              "         0.4933, 0.4933, 0.4933, 0.4935, 0.4942, 0.4949, 0.4957, 0.4960, 0.4962,\n",
              "         0.4966, 0.4962, 0.4957, 0.4949, 0.4944, 0.4941, 0.4942, 0.4940, 0.4941,\n",
              "         0.4942, 0.4940, 0.4943, 0.4947, 0.4953, 0.4955, 0.4957, 0.4958, 0.4953,\n",
              "         0.4947, 0.4940, 0.4934, 0.4928, 0.4929, 0.4936, 0.4940, 0.4943, 0.4943,\n",
              "         0.4944, 0.4947, 0.4950, 0.4949, 0.4944, 0.4946, 0.4947, 0.4944, 0.4939,\n",
              "         0.4938, 0.4935, 0.4932, 0.4931, 0.4936, 0.4944, 0.4950, 0.4952, 0.4954,\n",
              "         0.4957, 0.4958, 0.4959, 0.4956, 0.4955, 0.4957, 0.4954, 0.4949, 0.4947,\n",
              "         0.4945],\n",
              "        [0.4972, 0.4998, 0.4997, 0.4984, 0.4969, 0.4954, 0.4946, 0.4940, 0.4938,\n",
              "         0.4940, 0.4939, 0.4942, 0.4945, 0.4949, 0.4954, 0.4953, 0.4951, 0.4949,\n",
              "         0.4951, 0.4951, 0.4953, 0.4956, 0.4958, 0.4953, 0.4946, 0.4938, 0.4939,\n",
              "         0.4940, 0.4945, 0.4949, 0.4955, 0.4960, 0.4960, 0.4959, 0.4956, 0.4950,\n",
              "         0.4948, 0.4946, 0.4943, 0.4943, 0.4947, 0.4951, 0.4949, 0.4943, 0.4940,\n",
              "         0.4942, 0.4946, 0.4946, 0.4942, 0.4939, 0.4936, 0.4934, 0.4933, 0.4937,\n",
              "         0.4942, 0.4942, 0.4944, 0.4948, 0.4954, 0.4953, 0.4954, 0.4954, 0.4950,\n",
              "         0.4945, 0.4944, 0.4945, 0.4942, 0.4939, 0.4935, 0.4930, 0.4931, 0.4934,\n",
              "         0.4940, 0.4942, 0.4943, 0.4946, 0.4950, 0.4951, 0.4948, 0.4950, 0.4953,\n",
              "         0.4955, 0.4958, 0.4961, 0.4964, 0.4964, 0.4965, 0.4960, 0.4958, 0.4957,\n",
              "         0.4952, 0.4950, 0.4952, 0.4953, 0.4948, 0.4941, 0.4939, 0.4944, 0.4944,\n",
              "         0.4944],\n",
              "        [0.4975, 0.4996, 0.4988, 0.4973, 0.4964, 0.4957, 0.4951, 0.4947, 0.4948,\n",
              "         0.4948, 0.4948, 0.4949, 0.4946, 0.4948, 0.4947, 0.4951, 0.4952, 0.4951,\n",
              "         0.4952, 0.4953, 0.4954, 0.4953, 0.4949, 0.4949, 0.4951, 0.4954, 0.4956,\n",
              "         0.4959, 0.4963, 0.4963, 0.4958, 0.4953, 0.4948, 0.4946, 0.4942, 0.4939,\n",
              "         0.4935, 0.4932, 0.4927, 0.4929, 0.4935, 0.4941, 0.4940, 0.4940, 0.4940,\n",
              "         0.4938, 0.4935, 0.4937, 0.4937, 0.4937, 0.4941, 0.4948, 0.4954, 0.4953,\n",
              "         0.4954, 0.4950, 0.4943, 0.4942, 0.4939, 0.4938, 0.4942, 0.4950, 0.4952,\n",
              "         0.4954, 0.4951, 0.4951, 0.4951, 0.4947, 0.4942, 0.4940, 0.4941, 0.4943,\n",
              "         0.4942, 0.4942, 0.4945, 0.4946, 0.4946, 0.4949, 0.4949, 0.4950, 0.4949,\n",
              "         0.4952, 0.4951, 0.4948, 0.4947, 0.4942, 0.4937, 0.4931, 0.4927, 0.4927,\n",
              "         0.4929, 0.4931, 0.4929, 0.4929, 0.4933, 0.4936, 0.4937, 0.4936, 0.4939,\n",
              "         0.4943],\n",
              "        [0.4978, 0.5005, 0.4999, 0.4988, 0.4977, 0.4965, 0.4959, 0.4957, 0.4959,\n",
              "         0.4961, 0.4959, 0.4953, 0.4946, 0.4945, 0.4947, 0.4944, 0.4940, 0.4941,\n",
              "         0.4943, 0.4945, 0.4943, 0.4940, 0.4939, 0.4936, 0.4932, 0.4934, 0.4934,\n",
              "         0.4938, 0.4939, 0.4939, 0.4939, 0.4938, 0.4941, 0.4941, 0.4942, 0.4947,\n",
              "         0.4948, 0.4952, 0.4955, 0.4956, 0.4956, 0.4952, 0.4948, 0.4944, 0.4941,\n",
              "         0.4944, 0.4943, 0.4942, 0.4942, 0.4943, 0.4943, 0.4941, 0.4941, 0.4942,\n",
              "         0.4947, 0.4947, 0.4944, 0.4939, 0.4940, 0.4942, 0.4945, 0.4945, 0.4945,\n",
              "         0.4947, 0.4944, 0.4943, 0.4941, 0.4943, 0.4946, 0.4946, 0.4946, 0.4947,\n",
              "         0.4951, 0.4950, 0.4950, 0.4951, 0.4950, 0.4950, 0.4946, 0.4948, 0.4951,\n",
              "         0.4949, 0.4947, 0.4943, 0.4945, 0.4943, 0.4941, 0.4938, 0.4936, 0.4936,\n",
              "         0.4934, 0.4936, 0.4940, 0.4944, 0.4948, 0.4948, 0.4945, 0.4943, 0.4939,\n",
              "         0.4935],\n",
              "        [0.4981, 0.5009, 0.5002, 0.4989, 0.4975, 0.4963, 0.4959, 0.4955, 0.4950,\n",
              "         0.4948, 0.4948, 0.4948, 0.4949, 0.4953, 0.4955, 0.4958, 0.4960, 0.4956,\n",
              "         0.4949, 0.4942, 0.4937, 0.4940, 0.4947, 0.4950, 0.4947, 0.4948, 0.4952,\n",
              "         0.4954, 0.4950, 0.4947, 0.4943, 0.4937, 0.4936, 0.4937, 0.4942, 0.4942,\n",
              "         0.4943, 0.4946, 0.4947, 0.4945, 0.4943, 0.4945, 0.4947, 0.4946, 0.4949,\n",
              "         0.4951, 0.4949, 0.4944, 0.4941, 0.4941, 0.4943, 0.4942, 0.4944, 0.4947,\n",
              "         0.4945, 0.4940, 0.4939, 0.4937, 0.4934, 0.4931, 0.4929, 0.4933, 0.4935,\n",
              "         0.4934, 0.4937, 0.4944, 0.4951, 0.4956, 0.4958, 0.4957, 0.4953, 0.4953,\n",
              "         0.4949, 0.4947, 0.4948, 0.4947, 0.4944, 0.4943, 0.4941, 0.4943, 0.4948,\n",
              "         0.4948, 0.4944, 0.4939, 0.4939, 0.4941, 0.4945, 0.4952, 0.4955, 0.4960,\n",
              "         0.4958, 0.4952, 0.4948, 0.4945, 0.4948, 0.4954, 0.4956, 0.4952, 0.4945,\n",
              "         0.4940],\n",
              "        [0.4977, 0.5005, 0.5000, 0.4985, 0.4975, 0.4968, 0.4964, 0.4961, 0.4959,\n",
              "         0.4953, 0.4946, 0.4944, 0.4943, 0.4940, 0.4938, 0.4943, 0.4945, 0.4946,\n",
              "         0.4944, 0.4939, 0.4938, 0.4938, 0.4935, 0.4937, 0.4941, 0.4940, 0.4941,\n",
              "         0.4943, 0.4940, 0.4941, 0.4946, 0.4950, 0.4949, 0.4947, 0.4942, 0.4943,\n",
              "         0.4947, 0.4947, 0.4946, 0.4945, 0.4948, 0.4946, 0.4943, 0.4937, 0.4938,\n",
              "         0.4942, 0.4949, 0.4955, 0.4953, 0.4947, 0.4943, 0.4941, 0.4941, 0.4944,\n",
              "         0.4949, 0.4950, 0.4948, 0.4948, 0.4945, 0.4942, 0.4938, 0.4938, 0.4942,\n",
              "         0.4944, 0.4950, 0.4952, 0.4950, 0.4945, 0.4943, 0.4942, 0.4944, 0.4944,\n",
              "         0.4941, 0.4938, 0.4937, 0.4938, 0.4937, 0.4935, 0.4935, 0.4936, 0.4942,\n",
              "         0.4942, 0.4944, 0.4942, 0.4937, 0.4933, 0.4933, 0.4935, 0.4941, 0.4949,\n",
              "         0.4952, 0.4951, 0.4945, 0.4941, 0.4935, 0.4937, 0.4943, 0.4947, 0.4949,\n",
              "         0.4945],\n",
              "        [0.4976, 0.5003, 0.4997, 0.4980, 0.4963, 0.4957, 0.4954, 0.4952, 0.4947,\n",
              "         0.4945, 0.4941, 0.4937, 0.4939, 0.4946, 0.4954, 0.4954, 0.4951, 0.4945,\n",
              "         0.4942, 0.4939, 0.4935, 0.4932, 0.4929, 0.4927, 0.4932, 0.4936, 0.4936,\n",
              "         0.4936, 0.4937, 0.4940, 0.4942, 0.4943, 0.4946, 0.4944, 0.4940, 0.4934,\n",
              "         0.4933, 0.4937, 0.4937, 0.4938, 0.4939, 0.4937, 0.4936, 0.4940, 0.4947,\n",
              "         0.4949, 0.4949, 0.4949, 0.4947, 0.4946, 0.4949, 0.4948, 0.4943, 0.4942,\n",
              "         0.4938, 0.4938, 0.4941, 0.4943, 0.4941, 0.4939, 0.4941, 0.4942, 0.4946,\n",
              "         0.4945, 0.4946, 0.4948, 0.4949, 0.4949, 0.4948, 0.4945, 0.4940, 0.4939,\n",
              "         0.4940, 0.4945, 0.4945, 0.4949, 0.4953, 0.4958, 0.4961, 0.4958, 0.4951,\n",
              "         0.4945, 0.4942, 0.4941, 0.4942, 0.4943, 0.4941, 0.4936, 0.4935, 0.4933,\n",
              "         0.4934, 0.4934, 0.4934, 0.4939, 0.4942, 0.4940, 0.4942, 0.4946, 0.4953,\n",
              "         0.4957],\n",
              "        [0.4976, 0.4995, 0.4985, 0.4970, 0.4958, 0.4950, 0.4944, 0.4940, 0.4936,\n",
              "         0.4936, 0.4937, 0.4938, 0.4943, 0.4946, 0.4947, 0.4946, 0.4946, 0.4945,\n",
              "         0.4945, 0.4944, 0.4946, 0.4951, 0.4953, 0.4956, 0.4958, 0.4955, 0.4949,\n",
              "         0.4941, 0.4937, 0.4934, 0.4930, 0.4930, 0.4930, 0.4934, 0.4938, 0.4937,\n",
              "         0.4936, 0.4934, 0.4932, 0.4935, 0.4937, 0.4936, 0.4939, 0.4939, 0.4935,\n",
              "         0.4935, 0.4939, 0.4945, 0.4945, 0.4944, 0.4946, 0.4951, 0.4950, 0.4946,\n",
              "         0.4943, 0.4940, 0.4939, 0.4941, 0.4942, 0.4941, 0.4940, 0.4945, 0.4950,\n",
              "         0.4955, 0.4960, 0.4961, 0.4957, 0.4956, 0.4957, 0.4953, 0.4953, 0.4956,\n",
              "         0.4959, 0.4957, 0.4955, 0.4951, 0.4948, 0.4943, 0.4942, 0.4945, 0.4948,\n",
              "         0.4951, 0.4955, 0.4953, 0.4948, 0.4944, 0.4941, 0.4937, 0.4938, 0.4939,\n",
              "         0.4940, 0.4938, 0.4941, 0.4941, 0.4939, 0.4942, 0.4946, 0.4950, 0.4951,\n",
              "         0.4950]], grad_fn=<SigmoidBackward0>)"
            ]
          },
          "metadata": {},
          "execution_count": 4
        }
      ],
      "source": [
        "\n",
        "#%% define network\n",
        "\n",
        "\n",
        "class Net(nn.Module):\n",
        "    def __init__(self):\n",
        "        super(Net, self).__init__()\n",
        "\n",
        "        self.dummy_param = nn.Parameter(torch.empty(0))\n",
        "\n",
        "\n",
        "        self.nHidden=32\n",
        "        self.rnn=nn.GRU(input_size=1,hidden_size=self.nHidden,num_layers=2,\n",
        "                          batch_first=True)\n",
        "\n",
        "        #output:\n",
        "        self.fc=nn.Linear(self.nHidden,1)\n",
        "        self.sigmoid=nn.Sigmoid()\n",
        "\n",
        "    def forward(self, x):\n",
        "\n",
        "        x,hn=self.rnn(x)\n",
        "        x=self.fc(x)\n",
        "        x=torch.squeeze(x,2)\n",
        "        x=self.sigmoid(x)\n",
        "\n",
        "        return x\n",
        "\n",
        "x=torch.rand(10,100,1)\n",
        "net=Net()\n",
        "net(x)"
      ]
    },
    {
      "cell_type": "code",
      "execution_count": null,
      "metadata": {
        "colab": {
          "base_uri": "https://localhost:8080/",
          "height": 282
        },
        "id": "afMcDIrAm_KC",
        "outputId": "273d5937-ee2c-4d9f-a57d-a2d76f5c3f17"
      },
      "outputs": [
        {
          "output_type": "execute_result",
          "data": {
            "text/plain": [
              "[<matplotlib.lines.Line2D at 0x7f2d375d2810>]"
            ]
          },
          "metadata": {},
          "execution_count": 5
        },
        {
          "output_type": "display_data",
          "data": {
            "text/plain": [
              "<Figure size 432x288 with 2 Axes>"
            ],
            "image/png": "[encoded data removed]"
          },
          "metadata": {
            "needs_background": "light"
          }
        }
      ],
      "source": [
        "#%% setup dataset\n",
        "\n",
        "#training:\n",
        "targetL=30\n",
        "waveform=np.sin(np.linspace(0,np.pi*3,targetL))/np.linspace(.2,5,targetL)\n",
        "waveform=np.expand_dims(waveform,0)\n",
        "waveform=torch.tensor(waveform)\n",
        "\n",
        "\n",
        "def bgg():\n",
        "    backgroundL=100\n",
        "    scale=.1\n",
        "    background=torch.tensor(np.random.normal(0,scale=scale,size=(backgroundL,1))).to(torch.float32)\n",
        "    return background\n",
        "\n",
        "waveformDataset=waveFormDataset(waveform,bgg,1)\n",
        "\n",
        "#create static version:\n",
        "nPoints=1000\n",
        "ds=torch.empty((nPoints,100,1),dtype=torch.float32)\n",
        "labels=torch.empty((nPoints,100),dtype=torch.long)\n",
        "for iRow in range(nPoints):\n",
        "    ds[iRow,:,:],labels[iRow,:]=waveformDataset.__getitem__(1)\n",
        "\n",
        "ds=torch.utils.data.TensorDataset(ds,labels)\n",
        "waveformLoader=torch.utils.data.DataLoader(ds,batch_size=32)\n",
        "waveformLoader=torch.utils.data.DataLoader(waveformDataset,batch_size=32)\n",
        "\n",
        "#validation:\n",
        "nVal=4\n",
        "valX,valy=waveformDataset.__getitem__(1)\n",
        "\n",
        "for iVal in range(nVal):\n",
        "    x,y=waveformDataset.__getitem__(1)\n",
        "    valX=torch.cat((valX,x),0)\n",
        "    valy=torch.cat((valy,y),0)\n",
        "\n",
        "valX=torch.unsqueeze(valX,0)\n",
        "\n",
        "\n",
        "plt.subplot(2,1,1)\n",
        "plt.plot(valX.cpu().numpy()[0,:,0])\n",
        "plt.subplot(2,1,2)\n",
        "plt.plot(valy.cpu().numpy()[:])\n",
        "\n"
      ]
    },
    {
      "cell_type": "code",
      "execution_count": null,
      "metadata": {
        "colab": {
          "base_uri": "https://localhost:8080/"
        },
        "id": "M0HeOtCRnOmh",
        "outputId": "d597529a-adb0-4378-a5c3-d08cc6ae415f"
      },
      "outputs": [
        {
          "output_type": "stream",
          "name": "stdout",
          "text": [
            "Train: 0 tensor(18.3508, device='cuda:0', grad_fn=<AddBackward0>)\n",
            "updated best loss\n",
            "Val: 0 tensor(0.3120, device='cuda:0', grad_fn=<BinaryCrossEntropyBackward0>)\n",
            "Train: 1 tensor(8.7772, device='cuda:0', grad_fn=<AddBackward0>)\n",
            "updated best loss\n",
            "Val: 1 tensor(0.2578, device='cuda:0', grad_fn=<BinaryCrossEntropyBackward0>)\n",
            "Train: 2 tensor(8.4567, device='cuda:0', grad_fn=<AddBackward0>)\n",
            "updated best loss\n",
            "Val: 2 tensor(0.2555, device='cuda:0', grad_fn=<BinaryCrossEntropyBackward0>)\n",
            "Train: 3 tensor(8.3926, device='cuda:0', grad_fn=<AddBackward0>)\n",
            "updated best loss\n",
            "Val: 3 tensor(0.2552, device='cuda:0', grad_fn=<BinaryCrossEntropyBackward0>)\n",
            "Train: 4 tensor(8.3581, device='cuda:0', grad_fn=<AddBackward0>)\n",
            "updated best loss\n",
            "Val: 4 tensor(0.2550, device='cuda:0', grad_fn=<BinaryCrossEntropyBackward0>)\n",
            "Train: 5 tensor(8.3304, device='cuda:0', grad_fn=<AddBackward0>)\n",
            "updated best loss\n",
            "Val: 5 tensor(0.2548, device='cuda:0', grad_fn=<BinaryCrossEntropyBackward0>)\n",
            "Train: 6 tensor(8.3053, device='cuda:0', grad_fn=<AddBackward0>)\n",
            "updated best loss\n",
            "Val: 6 tensor(0.2547, device='cuda:0', grad_fn=<BinaryCrossEntropyBackward0>)\n",
            "Train: 7 tensor(8.2806, device='cuda:0', grad_fn=<AddBackward0>)\n",
            "updated best loss\n",
            "Val: 7 tensor(0.2545, device='cuda:0', grad_fn=<BinaryCrossEntropyBackward0>)\n",
            "Train: 8 tensor(8.2570, device='cuda:0', grad_fn=<AddBackward0>)\n",
            "updated best loss\n",
            "Val: 8 tensor(0.2543, device='cuda:0', grad_fn=<BinaryCrossEntropyBackward0>)\n",
            "Train: 9 tensor(8.2281, device='cuda:0', grad_fn=<AddBackward0>)\n",
            "updated best loss\n",
            "Val: 9 tensor(0.2540, device='cuda:0', grad_fn=<BinaryCrossEntropyBackward0>)\n",
            "Train: 10 tensor(8.1877, device='cuda:0', grad_fn=<AddBackward0>)\n",
            "updated best loss\n",
            "Val: 10 tensor(0.2536, device='cuda:0', grad_fn=<BinaryCrossEntropyBackward0>)\n",
            "Train: 11 tensor(8.1115, device='cuda:0', grad_fn=<AddBackward0>)\n",
            "updated best loss\n",
            "Val: 11 tensor(0.2530, device='cuda:0', grad_fn=<BinaryCrossEntropyBackward0>)\n",
            "Train: 12 tensor(7.9610, device='cuda:0', grad_fn=<AddBackward0>)\n",
            "Val: 12 tensor(0.2530, device='cuda:0', grad_fn=<BinaryCrossEntropyBackward0>)\n",
            "Train: 13 tensor(7.6579, device='cuda:0', grad_fn=<AddBackward0>)\n",
            "updated best loss\n",
            "Val: 13 tensor(0.2486, device='cuda:0', grad_fn=<BinaryCrossEntropyBackward0>)\n",
            "Train: 14 tensor(7.5139, device='cuda:0', grad_fn=<AddBackward0>)\n",
            "Val: 14 tensor(0.2517, device='cuda:0', grad_fn=<BinaryCrossEntropyBackward0>)\n",
            "Train: 15 tensor(6.9433, device='cuda:0', grad_fn=<AddBackward0>)\n",
            "Val: 15 tensor(0.2665, device='cuda:0', grad_fn=<BinaryCrossEntropyBackward0>)\n",
            "Train: 16 tensor(7.7238, device='cuda:0', grad_fn=<AddBackward0>)\n",
            "Val: 16 tensor(0.2536, device='cuda:0', grad_fn=<BinaryCrossEntropyBackward0>)\n",
            "Train: 17 tensor(7.9649, device='cuda:0', grad_fn=<AddBackward0>)\n",
            "Val: 17 tensor(0.2534, device='cuda:0', grad_fn=<BinaryCrossEntropyBackward0>)\n",
            "Train: 18 tensor(7.8436, device='cuda:0', grad_fn=<AddBackward0>)\n",
            "Val: 18 tensor(0.2521, device='cuda:0', grad_fn=<BinaryCrossEntropyBackward0>)\n",
            "Train: 19 tensor(7.3561, device='cuda:0', grad_fn=<AddBackward0>)\n",
            "Val: 19 tensor(0.2588, device='cuda:0', grad_fn=<BinaryCrossEntropyBackward0>)\n",
            "Train: 20 tensor(6.6366, device='cuda:0', grad_fn=<AddBackward0>)\n",
            "Val: 20 tensor(0.2603, device='cuda:0', grad_fn=<BinaryCrossEntropyBackward0>)\n",
            "Train: 21 tensor(6.3221, device='cuda:0', grad_fn=<AddBackward0>)\n",
            "Val: 21 tensor(0.2698, device='cuda:0', grad_fn=<BinaryCrossEntropyBackward0>)\n",
            "Train: 22 tensor(5.8974, device='cuda:0', grad_fn=<AddBackward0>)\n",
            "Val: 22 tensor(0.2806, device='cuda:0', grad_fn=<BinaryCrossEntropyBackward0>)\n",
            "Train: 23 tensor(3.7523, device='cuda:0', grad_fn=<AddBackward0>)\n",
            "Val: 23 tensor(0.2944, device='cuda:0', grad_fn=<BinaryCrossEntropyBackward0>)\n",
            "Train: 24 tensor(1.8927, device='cuda:0', grad_fn=<AddBackward0>)\n",
            "Val: 24 tensor(0.3206, device='cuda:0', grad_fn=<BinaryCrossEntropyBackward0>)\n",
            "Train: 25 tensor(1.2336, device='cuda:0', grad_fn=<AddBackward0>)\n",
            "Val: 25 tensor(0.2850, device='cuda:0', grad_fn=<BinaryCrossEntropyBackward0>)\n",
            "Train: 26 tensor(0.8072, device='cuda:0', grad_fn=<AddBackward0>)\n",
            "updated best loss\n",
            "Val: 26 tensor(0.0591, device='cuda:0', grad_fn=<BinaryCrossEntropyBackward0>)\n",
            "Train: 27 tensor(0.7830, device='cuda:0', grad_fn=<AddBackward0>)\n",
            "updated best loss\n",
            "Val: 27 tensor(0.0465, device='cuda:0', grad_fn=<BinaryCrossEntropyBackward0>)\n",
            "Train: 28 tensor(0.6095, device='cuda:0', grad_fn=<AddBackward0>)\n",
            "Val: 28 tensor(0.0944, device='cuda:0', grad_fn=<BinaryCrossEntropyBackward0>)\n",
            "Train: 29 tensor(0.7387, device='cuda:0', grad_fn=<AddBackward0>)\n",
            "updated best loss\n",
            "Val: 29 tensor(0.0312, device='cuda:0', grad_fn=<BinaryCrossEntropyBackward0>)\n"
          ]
        }
      ],
      "source": [
        "#%%\n",
        "device = torch.device(\"cuda:0\" if torch.cuda.is_available() else \"cpu\")\n",
        "\n",
        "net=Net()\n",
        "net.to(device=device)\n",
        "\n",
        "loss_fn=torch.nn.BCELoss()#(weight=torch.tensor([.1,1]).to(device))\n",
        "\n",
        "optimizer=torch.optim.Adam(net.parameters(),lr=0.001)\n",
        "nEpochs=30\n",
        "bestLoss=100\n",
        "for iEpoch in range(nEpochs):\n",
        "    net.train()\n",
        "    totLoss=0\n",
        "    for xbatch,ybatch in waveformLoader:\n",
        "        xbatch=xbatch.to(device=device)\n",
        "        ybatch=ybatch.to(device=device)\n",
        "        # ybatch=torch.reshape(ybatch,(-1,))\n",
        "\n",
        "        y_pred = net(xbatch)\n",
        "\n",
        "        loss = loss_fn(y_pred,ybatch.to(torch.float32))\n",
        "        totLoss+=loss\n",
        "\n",
        "        # Zero the gradients before running the backward pass.\n",
        "        net.zero_grad()\n",
        "\n",
        "        loss.backward()\n",
        "\n",
        "        torch.nn.utils.clip_grad_norm_(net.parameters(),10, norm_type=2.0)\n",
        "        optimizer.step()\n",
        "\n",
        "#    print(y_pred.shape)\n",
        "#     [a,b]=torch.max(y_pred,1)\n",
        "    print('Train:',iEpoch,totLoss)\n",
        "\n",
        "    #run on validation data:\n",
        "    net.eval()\n",
        "    valX=valX.to(device)\n",
        "    valy=valy.to(device)\n",
        "    y_pred=net(valX)\n",
        "    y_pred=torch.squeeze(y_pred,0)\n",
        "    loss = loss_fn(y_pred,valy.to(torch.float32))\n",
        "\n",
        "    if loss < bestLoss:\n",
        "        bestLoss=loss\n",
        "        netImage=net.state_dict()\n",
        "        print('updated best loss')\n",
        "        bestPred=y_pred\n",
        "\n",
        "\n",
        "    print('Val:',iEpoch,loss)"
      ]
    },
    {
      "cell_type": "code",
      "execution_count": null,
      "metadata": {
        "colab": {
          "base_uri": "https://localhost:8080/",
          "height": 282
        },
        "id": "E9X4EwYNnCC5",
        "outputId": "2cc7fcbb-aa4f-45cd-91f0-f484656c99ab"
      },
      "outputs": [
        {
          "output_type": "execute_result",
          "data": {
            "text/plain": [
              "torch.Size([500])"
            ]
          },
          "metadata": {},
          "execution_count": 7
        },
        {
          "output_type": "display_data",
          "data": {
            "text/plain": [
              "<Figure size 432x288 with 2 Axes>"
            ],
            "image/png": "[encoded data removed]"
          },
          "metadata": {
            "needs_background": "light"
          }
        }
      ],
      "source": [
        "#%%\n",
        "net.load_state_dict(netImage)\n",
        "# y_pred=net(valX)\n",
        "y_pred=bestPred\n",
        "\n",
        "plt.close('all')\n",
        "plt.subplot(2,1,1)\n",
        "plt.plot(valX.cpu().numpy()[0,:,0])\n",
        "plt.subplot(2,1,2)\n",
        "plt.plot(valy.cpu().numpy()[:])\n",
        "plt.plot(y_pred.detach().cpu().numpy())\n",
        "\n",
        "bestPred.shape"
      ]
    }
  ],
  "metadata": {
    "accelerator": "GPU",
    "colab": {
      "provenance": []
    },
    "kernelspec": {
      "display_name": "Python 3",
      "name": "python3"
    },
    "language_info": {
      "name": "python"
    }
  },
  "nbformat": 4,
  "nbformat_minor": 0
}