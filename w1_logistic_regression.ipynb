{
  "nbformat": 4,
  "nbformat_minor": 0,
  "metadata": {
    "colab": {
      "provenance": []
    },
    "kernelspec": {
      "name": "python3",
      "display_name": "Python 3"
    }
  },
  "cells": [
    {
      "cell_type": "code",
      "metadata": {
        "id": "MBsS1qZTtAZE"
      },
      "source": [
        "#load packages\n",
        "import numpy as np\n",
        "import sklearn.model_selection\n",
        "import matplotlib.pyplot as plt\n"
      ],
      "execution_count": null,
      "outputs": []
    },
    {
      "cell_type": "code",
      "metadata": {
        "id": "pfhsm8m6tFe_"
      },
      "source": [
        "#make helper functions\n",
        "\n",
        "def plot_digit(X, y, idx):\n",
        "    img = X[idx].reshape(28,28)\n",
        "    plt.imshow(img, cmap='Greys',  interpolation='nearest')\n",
        "    plt.title('true label: %d' % y[idx])\n",
        "    plt.show()\n"
      ],
      "execution_count": null,
      "outputs": []
    },
    {
      "cell_type": "code",
      "metadata": {
        "id": "30OCX2pjwGdT"
      },
      "source": [
        "#load data\n",
        "\n",
        "from mlxtend.data import mnist_data\n",
        "X, y = mnist_data()\n",
        "\n",
        "\n",
        "#we just focus on 1's and 0's:\n",
        "keep=(y==0) | (y==1)\n",
        "X=X[keep,:]\n",
        "y=y[keep]\n",
        "\n",
        "y=np.expand_dims(y,1)"
      ],
      "execution_count": null,
      "outputs": []
    },
    {
      "cell_type": "code",
      "metadata": {
        "id": "qR1s1Q-twJ7Q",
        "colab": {
          "base_uri": "https://localhost:8080/",
          "height": 281
        },
        "outputId": "aa7db6cf-1d15-493b-a3ef-191cf03b0966"
      },
      "source": [
        "#inspect data\n",
        "\n",
        "plot_digit(X, y, 1)\n"
      ],
      "execution_count": null,
      "outputs": [
        {
          "output_type": "display_data",
          "data": {
            "text/plain": [
              "<Figure size 432x288 with 1 Axes>"
            ],
            "image/png": "[encoded data removed]"
          },
          "metadata": {
            "needs_background": "light"
          }
        }
      ]
    },
    {
      "cell_type": "code",
      "metadata": {
        "id": "4cg7bDdAwSsl"
      },
      "source": [
        "# create a loss function:\n",
        "def avrLoss(y,yhat):\n",
        "\n",
        "  eps=1e-3\n",
        "  yhat=np.maximum(yhat,eps) #remove 0's\n",
        "  yhat=np.minimum(yhat,1-eps) #remove 1's\n",
        "\n",
        "  loss = - (y * np.log(yhat) + (1-y)* np.log (1-yhat))\n",
        "\n",
        "  return np.mean(loss)"
      ],
      "execution_count": null,
      "outputs": []
    },
    {
      "cell_type": "code",
      "metadata": {
        "id": "jlbHgUIjwXiT"
      },
      "source": [
        "#test loss function:\n",
        "#(just run this cell and see what happens)\n",
        "\n",
        "loss=avrLoss(np.array([0,1,0,1]),np.linspace(.1,.9,4))\n",
        "assert np.all(loss==0.5543313122608056)"
      ],
      "execution_count": null,
      "outputs": []
    },
    {
      "cell_type": "code",
      "metadata": {
        "id": "LdCmhY63weJO"
      },
      "source": [
        "#create a sigmoid\n",
        "def sigmoid(x):\n",
        "  x= np.maximum(x,-700)\n",
        "  y= 1 / (1 + np.exp(-x))\n",
        "  return y"
      ],
      "execution_count": null,
      "outputs": []
    },
    {
      "cell_type": "code",
      "metadata": {
        "id": "_W17O55pwiIV"
      },
      "source": [
        "#check sigmoid\n",
        "#(just run this cell and see what happens)\n",
        "\n",
        "out=sigmoid(np.array(range(-5,5)))\n",
        "assert np.all(np.around(out,8)==np.array([0.00669285, 0.01798621, 0.04742587, 0.11920292, 0.26894142, 0.5, 0.73105858, 0.88079708, 0.95257413, 0.98201379]))"
      ],
      "execution_count": null,
      "outputs": []
    },
    {
      "cell_type": "code",
      "metadata": {
        "id": "LhAlECUCwh8r"
      },
      "source": [
        "#make test & train data\n",
        "\n",
        "Xtrain,Xtest,ytrain,ytest=sklearn.model_selection.train_test_split(X,y,test_size=0.3,shuffle=True)"
      ],
      "execution_count": null,
      "outputs": []
    },
    {
      "cell_type": "code",
      "metadata": {
        "id": "wK_4dd1ywox5",
        "colab": {
          "base_uri": "https://localhost:8080/"
        },
        "outputId": "11995ab0-b600-4a84-c11e-7b9cbef7e129"
      },
      "source": [
        "#INITIATE WEIGHTS AND BIASES (w,b)\n",
        "w = np.zeros((Xtrain.shape[1],1))\n",
        "b= 0\n",
        "nEpoch= 10\n",
        "\n",
        "accuracy=np.zeros(nEpoch)\n",
        "trainRate= 0.01\n",
        "\n",
        "for iTrain in range(nEpoch):\n",
        "\n",
        "  #CALCULATE a\n",
        "  a= sigmoid(np.matmul(Xtrain,w)+b)\n",
        "\n",
        "  #update weights\n",
        "  wgrad=np.matmul(Xtrain.T,(a-ytrain))/ytrain.size\n",
        "  bgrad=np.sum(a.T-ytrain)/ytrain.size\n",
        "\n",
        "  assert(wgrad.shape == w.shape)\n",
        "  assert(np.isscalar(bgrad))\n",
        "\n",
        "  w-=wgrad*trainRate\n",
        "  b-=bgrad*trainRate\n",
        "\n",
        "  #calculate loss & accuracy\n",
        "\n",
        "  loss= avrLoss(ytrain, a)\n",
        "\n",
        "  yhat=a>.5\n",
        "\n",
        "  accuracy[iTrain]=np.mean(yhat==ytrain)\n",
        "\n",
        "  if np.mod(iTrain,10)==0:\n",
        "    print(iTrain,loss,accuracy[iTrain])\n",
        "\n",
        "Y_prediction_test = sigmoid(np.matmul(Xtest,w)+b)>0.5\n",
        "Y_prediction_train = sigmoid(np.matmul(Xtrain,w)+b)>0.5\n",
        "\n",
        "print(\"train accuracy: {} %\".format(100 - np.mean(np.abs(Y_prediction_train - ytrain)) * 100))\n",
        "print(\"test accuracy: {} %\".format(100 - np.mean(np.abs(Y_prediction_test - ytest)) * 100))"
      ],
      "execution_count": null,
      "outputs": [
        {
          "output_type": "stream",
          "name": "stdout",
          "text": [
            "0 0.6931471805599454 0.4928571428571429\n",
            "train accuracy: 99.57142857142857 %\n",
            "test accuracy: 99.33333333333333 %\n"
          ]
        }
      ]
    },
    {
      "cell_type": "code",
      "metadata": {
        "id": "8JmScwp3HJkr",
        "colab": {
          "base_uri": "https://localhost:8080/",
          "height": 265
        },
        "outputId": "841520dc-3d1e-4c6c-b04d-52a3a16a0cc7"
      },
      "source": [
        "#see what the network does:\n",
        "\n",
        "img = w.reshape(28,28)\n",
        "h=plt.imshow(img, cmap='Greys',  interpolation='nearest')\n",
        "plt.colorbar(h)\n",
        "plt.show()"
      ],
      "execution_count": null,
      "outputs": [
        {
          "output_type": "display_data",
          "data": {
            "text/plain": [
              "<Figure size 432x288 with 2 Axes>"
            ],
            "image/png": "[encoded data removed]"
          },
          "metadata": {
            "needs_background": "light"
          }
        }
      ]
    },
    {
      "cell_type": "code",
      "metadata": {
        "id": "FhIt3afDHN8X",
        "colab": {
          "base_uri": "https://localhost:8080/",
          "height": 354
        },
        "outputId": "9e8cfdfa-a777-4adf-a486-0bb00926b26f"
      },
      "source": [
        "#commpare with scikit-learn:\n",
        "\n",
        "from sklearn.linear_model import LogisticRegression\n",
        "clf = LogisticRegression(random_state=0).fit(Xtrain, ytrain)\n",
        "\n",
        "clf.predict(X)\n",
        "print('Train accuracy: ',clf.score(Xtrain, ytrain))\n",
        "print('Test accuracy: ',clf.score(Xtest, ytest))\n",
        "\n",
        "img = (clf.coef_).reshape(28,28)\n",
        "plt.imshow(img, cmap='Greys',  interpolation='nearest')\n",
        "plt.show()"
      ],
      "execution_count": null,
      "outputs": [
        {
          "output_type": "stream",
          "name": "stderr",
          "text": [
            "/usr/local/lib/python3.7/dist-packages/sklearn/utils/validation.py:993: DataConversionWarning: A column-vector y was passed when a 1d array was expected. Please change the shape of y to (n_samples, ), for example using ravel().\n",
            "  y = column_or_1d(y, warn=True)\n"
          ]
        },
        {
          "output_type": "stream",
          "name": "stdout",
          "text": [
            "Train accuracy:  1.0\n",
            "Test accuracy:  1.0\n"
          ]
        },
        {
          "output_type": "display_data",
          "data": {
            "text/plain": [
              "<Figure size 432x288 with 1 Axes>"
            ],
            "image/png": "[encoded data removed]"
          },
          "metadata": {
            "needs_background": "light"
          }
        }
      ]
    }
  ]
}